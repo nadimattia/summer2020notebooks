{
 "cells": [
  {
   "cell_type": "code",
   "execution_count": 1,
   "metadata": {},
   "outputs": [
    {
     "data": {
      "text/plain": [
       "\u001b[36mpersonalRepo\u001b[39m: \u001b[32mcoursierapi\u001b[39m.\u001b[32mMavenRepository\u001b[39m = MavenRepository(https://dl.bintray.com/neelsmith/maven)"
      ]
     },
     "execution_count": 1,
     "metadata": {},
     "output_type": "execute_result"
    }
   ],
   "source": [
    "val personalRepo = coursierapi.MavenRepository.of(\"https://dl.bintray.com/neelsmith/maven\")\n",
    "interp.repositories() ++= Seq(personalRepo)"
   ]
  },
  {
   "cell_type": "code",
   "execution_count": 2,
   "metadata": {},
   "outputs": [
    {
     "name": "stderr",
     "output_type": "stream",
     "text": [
      "Downloading https://repo1.maven.org/maven2/edu/holycross/shot/cite/xcite_2.12/4.3.0/xcite_2.12-4.3.0.pom\n",
      "Downloaded https://repo1.maven.org/maven2/edu/holycross/shot/cite/xcite_2.12/4.3.0/xcite_2.12-4.3.0.pom\n",
      "Downloading https://repo1.maven.org/maven2/edu/holycross/shot/cite/xcite_2.12/4.3.0/xcite_2.12-4.3.0.pom.sha1\n",
      "Downloaded https://repo1.maven.org/maven2/edu/holycross/shot/cite/xcite_2.12/4.3.0/xcite_2.12-4.3.0.pom.sha1\n",
      "Downloading https://dl.bintray.com/neelsmith/maven/edu/holycross/shot/cite/xcite_2.12/4.3.0/xcite_2.12-4.3.0.pom\n",
      "Downloaded https://dl.bintray.com/neelsmith/maven/edu/holycross/shot/cite/xcite_2.12/4.3.0/xcite_2.12-4.3.0.pom\n",
      "Downloading https://repo1.maven.org/maven2/org/wvlet/airframe/airframe-log_2.12/20.5.2/airframe-log_2.12-20.5.2.pom\n",
      "Downloaded https://repo1.maven.org/maven2/org/wvlet/airframe/airframe-log_2.12/20.5.2/airframe-log_2.12-20.5.2.pom\n",
      "Downloading https://repo1.maven.org/maven2/ch/qos/logback/logback-core/1.2.3/logback-core-1.2.3.pom\n",
      "Downloading https://repo1.maven.org/maven2/org/scala-lang/scala-library/2.12.11/scala-library-2.12.11.pom\n",
      "Downloading https://repo1.maven.org/maven2/org/scala-lang/modules/scala-collection-compat_2.12/2.1.6/scala-collection-compat_2.12-2.1.6.pom\n",
      "Downloaded https://repo1.maven.org/maven2/ch/qos/logback/logback-core/1.2.3/logback-core-1.2.3.pom\n",
      "Downloaded https://repo1.maven.org/maven2/org/scala-lang/scala-library/2.12.11/scala-library-2.12.11.pom\n",
      "Downloaded https://repo1.maven.org/maven2/org/scala-lang/modules/scala-collection-compat_2.12/2.1.6/scala-collection-compat_2.12-2.1.6.pom\n",
      "Downloading https://repo1.maven.org/maven2/ch/qos/logback/logback-parent/1.2.3/logback-parent-1.2.3.pom\n",
      "Downloaded https://repo1.maven.org/maven2/ch/qos/logback/logback-parent/1.2.3/logback-parent-1.2.3.pom\n",
      "Downloading https://repo1.maven.org/maven2/org/wvlet/airframe/airframe-log_2.12/20.5.2/airframe-log_2.12-20.5.2.jar\n",
      "Downloading https://repo1.maven.org/maven2/org/scala-lang/modules/scala-collection-compat_2.12/2.1.6/scala-collection-compat_2.12-2.1.6-sources.jar\n",
      "Downloading https://repo1.maven.org/maven2/org/scala-lang/scala-library/2.12.11/scala-library-2.12.11-sources.jar\n",
      "Downloading https://repo1.maven.org/maven2/org/wvlet/airframe/airframe-log_2.12/20.5.2/airframe-log_2.12-20.5.2-sources.jar\n",
      "Downloading https://dl.bintray.com/neelsmith/maven/edu/holycross/shot/cite/xcite_2.12/4.3.0/xcite_2.12-4.3.0-sources.jar\n",
      "Downloading https://repo1.maven.org/maven2/org/scala-lang/modules/scala-collection-compat_2.12/2.1.6/scala-collection-compat_2.12-2.1.6.jar\n",
      "Downloaded https://repo1.maven.org/maven2/org/scala-lang/modules/scala-collection-compat_2.12/2.1.6/scala-collection-compat_2.12-2.1.6-sources.jar\n",
      "Downloading https://repo1.maven.org/maven2/ch/qos/logback/logback-core/1.2.3/logback-core-1.2.3.jar\n",
      "Downloaded https://repo1.maven.org/maven2/org/wvlet/airframe/airframe-log_2.12/20.5.2/airframe-log_2.12-20.5.2.jar\n",
      "Downloading https://dl.bintray.com/neelsmith/maven/edu/holycross/shot/cite/xcite_2.12/4.3.0/xcite_2.12-4.3.0.jar\n",
      "Downloaded https://repo1.maven.org/maven2/org/wvlet/airframe/airframe-log_2.12/20.5.2/airframe-log_2.12-20.5.2-sources.jar\n",
      "Downloading https://repo1.maven.org/maven2/ch/qos/logback/logback-core/1.2.3/logback-core-1.2.3-sources.jar\n",
      "Downloaded https://dl.bintray.com/neelsmith/maven/edu/holycross/shot/cite/xcite_2.12/4.3.0/xcite_2.12-4.3.0-sources.jar\n",
      "Downloaded https://repo1.maven.org/maven2/org/scala-lang/modules/scala-collection-compat_2.12/2.1.6/scala-collection-compat_2.12-2.1.6.jar\n",
      "Downloaded https://repo1.maven.org/maven2/ch/qos/logback/logback-core/1.2.3/logback-core-1.2.3.jar\n",
      "Downloaded https://repo1.maven.org/maven2/ch/qos/logback/logback-core/1.2.3/logback-core-1.2.3-sources.jar\n",
      "Downloaded https://repo1.maven.org/maven2/org/scala-lang/scala-library/2.12.11/scala-library-2.12.11-sources.jar\n",
      "Downloaded https://dl.bintray.com/neelsmith/maven/edu/holycross/shot/cite/xcite_2.12/4.3.0/xcite_2.12-4.3.0.jar\n"
     ]
    },
    {
     "data": {
      "text/plain": [
       "\u001b[32mimport \u001b[39m\u001b[36m$ivy.$                                     \u001b[39m"
      ]
     },
     "execution_count": 2,
     "metadata": {},
     "output_type": "execute_result"
    }
   ],
   "source": [
    "import $ivy.`edu.holycross.shot.cite::xcite:4.3.0`"
   ]
  },
  {
   "cell_type": "code",
   "execution_count": 3,
   "metadata": {},
   "outputs": [
    {
     "data": {
      "text/plain": [
       "\u001b[32mimport \u001b[39m\u001b[36medu.holycross.shot.cite._\u001b[39m"
      ]
     },
     "execution_count": 3,
     "metadata": {},
     "output_type": "execute_result"
    }
   ],
   "source": [
    "import edu.holycross.shot.cite._"
   ]
  },
  {
   "cell_type": "code",
   "execution_count": 4,
   "metadata": {},
   "outputs": [
    {
     "name": "stderr",
     "output_type": "stream",
     "text": [
      "Downloading https://repo1.maven.org/maven2/edu/holycross/shot/ohco2_2.12/10.19.0/ohco2_2.12-10.19.0.pom\n",
      "Downloaded https://repo1.maven.org/maven2/edu/holycross/shot/ohco2_2.12/10.19.0/ohco2_2.12-10.19.0.pom\n",
      "Downloading https://repo1.maven.org/maven2/edu/holycross/shot/ohco2_2.12/10.19.0/ohco2_2.12-10.19.0.pom.sha1\n",
      "Downloaded https://repo1.maven.org/maven2/edu/holycross/shot/ohco2_2.12/10.19.0/ohco2_2.12-10.19.0.pom.sha1\n",
      "Downloading https://dl.bintray.com/neelsmith/maven/edu/holycross/shot/ohco2_2.12/10.19.0/ohco2_2.12-10.19.0.pom\n",
      "Downloaded https://dl.bintray.com/neelsmith/maven/edu/holycross/shot/ohco2_2.12/10.19.0/ohco2_2.12-10.19.0.pom\n",
      "Downloading https://repo1.maven.org/maven2/edu/holycross/shot/seqcomp_2.12/2.2.1/seqcomp_2.12-2.2.1.pom\n",
      "Downloading https://repo1.maven.org/maven2/edu/holycross/shot/cex_2.12/6.5.0/cex_2.12-6.5.0.pom\n",
      "Downloading https://repo1.maven.org/maven2/org/scala-lang/modules/scala-xml_2.12/1.0.6/scala-xml_2.12-1.0.6.pom\n",
      "Downloaded https://repo1.maven.org/maven2/edu/holycross/shot/seqcomp_2.12/2.2.1/seqcomp_2.12-2.2.1.pom\n",
      "Downloading https://repo1.maven.org/maven2/edu/holycross/shot/seqcomp_2.12/2.2.1/seqcomp_2.12-2.2.1.pom.sha1\n",
      "Downloaded https://repo1.maven.org/maven2/edu/holycross/shot/seqcomp_2.12/2.2.1/seqcomp_2.12-2.2.1.pom.sha1\n",
      "Downloading https://dl.bintray.com/neelsmith/maven/edu/holycross/shot/seqcomp_2.12/2.2.1/seqcomp_2.12-2.2.1.pom\n",
      "Downloaded https://repo1.maven.org/maven2/edu/holycross/shot/cex_2.12/6.5.0/cex_2.12-6.5.0.pom\n",
      "Downloading https://repo1.maven.org/maven2/edu/holycross/shot/cex_2.12/6.5.0/cex_2.12-6.5.0.pom.sha1\n",
      "Downloaded https://repo1.maven.org/maven2/org/scala-lang/modules/scala-xml_2.12/1.0.6/scala-xml_2.12-1.0.6.pom\n",
      "Downloaded https://repo1.maven.org/maven2/edu/holycross/shot/cex_2.12/6.5.0/cex_2.12-6.5.0.pom.sha1\n",
      "Downloading https://dl.bintray.com/neelsmith/maven/edu/holycross/shot/cex_2.12/6.5.0/cex_2.12-6.5.0.pom\n",
      "Downloaded https://dl.bintray.com/neelsmith/maven/edu/holycross/shot/seqcomp_2.12/2.2.1/seqcomp_2.12-2.2.1.pom\n",
      "Downloaded https://dl.bintray.com/neelsmith/maven/edu/holycross/shot/cex_2.12/6.5.0/cex_2.12-6.5.0.pom\n",
      "Downloading https://repo1.maven.org/maven2/org/scala-lang/modules/scala-xml_2.12/1.0.6/scala-xml_2.12-1.0.6.jar\n",
      "Downloading https://dl.bintray.com/neelsmith/maven/edu/holycross/shot/seqcomp_2.12/2.2.1/seqcomp_2.12-2.2.1.jar\n",
      "Downloading https://repo1.maven.org/maven2/org/scala-lang/modules/scala-xml_2.12/1.0.6/scala-xml_2.12-1.0.6-sources.jar\n",
      "Downloading https://dl.bintray.com/neelsmith/maven/edu/holycross/shot/ohco2_2.12/10.19.0/ohco2_2.12-10.19.0.jar\n",
      "Downloading https://dl.bintray.com/neelsmith/maven/edu/holycross/shot/seqcomp_2.12/2.2.1/seqcomp_2.12-2.2.1-sources.jar\n",
      "Downloading https://dl.bintray.com/neelsmith/maven/edu/holycross/shot/ohco2_2.12/10.19.0/ohco2_2.12-10.19.0-sources.jar\n",
      "Downloaded https://dl.bintray.com/neelsmith/maven/edu/holycross/shot/seqcomp_2.12/2.2.1/seqcomp_2.12-2.2.1-sources.jar\n",
      "Downloading https://dl.bintray.com/neelsmith/maven/edu/holycross/shot/cex_2.12/6.5.0/cex_2.12-6.5.0-sources.jar\n",
      "Downloaded https://repo1.maven.org/maven2/org/scala-lang/modules/scala-xml_2.12/1.0.6/scala-xml_2.12-1.0.6-sources.jar\n",
      "Downloading https://dl.bintray.com/neelsmith/maven/edu/holycross/shot/cex_2.12/6.5.0/cex_2.12-6.5.0.jar\n",
      "Downloaded https://repo1.maven.org/maven2/org/scala-lang/modules/scala-xml_2.12/1.0.6/scala-xml_2.12-1.0.6.jar\n",
      "Downloaded https://dl.bintray.com/neelsmith/maven/edu/holycross/shot/ohco2_2.12/10.19.0/ohco2_2.12-10.19.0.jar\n",
      "Downloaded https://dl.bintray.com/neelsmith/maven/edu/holycross/shot/ohco2_2.12/10.19.0/ohco2_2.12-10.19.0-sources.jar\n",
      "Downloaded https://dl.bintray.com/neelsmith/maven/edu/holycross/shot/cex_2.12/6.5.0/cex_2.12-6.5.0-sources.jar\n",
      "Downloaded https://dl.bintray.com/neelsmith/maven/edu/holycross/shot/cex_2.12/6.5.0/cex_2.12-6.5.0.jar\n",
      "Downloaded https://dl.bintray.com/neelsmith/maven/edu/holycross/shot/seqcomp_2.12/2.2.1/seqcomp_2.12-2.2.1.jar\n"
     ]
    },
    {
     "data": {
      "text/plain": [
       "\u001b[32mimport \u001b[39m\u001b[36m$ivy.$                                  \u001b[39m"
      ]
     },
     "execution_count": 4,
     "metadata": {},
     "output_type": "execute_result"
    }
   ],
   "source": [
    "import $ivy.`edu.holycross.shot::ohco2:10.19.0`"
   ]
  },
  {
   "cell_type": "code",
   "execution_count": 5,
   "metadata": {},
   "outputs": [
    {
     "data": {
      "text/plain": [
       "\u001b[32mimport \u001b[39m\u001b[36medu.holycross.shot.ohco2._\u001b[39m"
      ]
     },
     "execution_count": 5,
     "metadata": {},
     "output_type": "execute_result"
    }
   ],
   "source": [
    "import edu.holycross.shot.ohco2._"
   ]
  },
  {
   "cell_type": "code",
   "execution_count": 6,
   "metadata": {},
   "outputs": [
    {
     "data": {
      "text/plain": [
       "\u001b[36mvbURL\u001b[39m: \u001b[32mString\u001b[39m = \u001b[32m\"https://raw.githubusercontent.com/nadimattia/summer2020notebooks/master/vb.cex\"\u001b[39m"
      ]
     },
     "execution_count": 6,
     "metadata": {},
     "output_type": "execute_result"
    }
   ],
   "source": [
    "val vbURL = \"https://raw.githubusercontent.com/nadimattia/summer2020notebooks/master/vb.cex\""
   ]
  },
  {
   "cell_type": "code",
   "execution_count": 7,
   "metadata": {},
   "outputs": [
    {
     "data": {
      "text/plain": [
       "\u001b[36mvenetusB\u001b[39m: \u001b[32mCorpus\u001b[39m = \u001b[33mCorpus\u001b[39m(\n",
       "  \u001b[33mVector\u001b[39m(\n",
       "    \u001b[33mCitableNode\u001b[39m(\n",
       "      \u001b[33mCtsUrn\u001b[39m(\u001b[32m\"urn:cts:greekLit:tlg0012.tlg001.msB:23.title\"\u001b[39m),\n",
       "      \u001b[32m\"\\u1f00\\u03c1\\u03c7\\u1f74 \\u03c4\\u1fc6\\u03c2 \\u03a8\\u1fd6 \\u1f49\\u03bc\\u03ae\\u03c1\\u03bf\\u03c5 \\u1fe5\\u03b1\\u03c8\\u03c9\\u03b4\\u03af\\u03b1\\u03c2 \\u2051 \"\u001b[39m\n",
       "    ),\n",
       "    \u001b[33mCitableNode\u001b[39m(\n",
       "      \u001b[33mCtsUrn\u001b[39m(\u001b[32m\"urn:cts:greekLit:tlg0012.tlg001.msB:23.1\"\u001b[39m),\n",
       "      \u001b[32m\"\\u1f63\\u03c2 \\u03bf\\u1f31 \\u03bc\\u1f72\\u03bd \\u03c3\\u03c4\\u03b5\\u03bd\\u1f71\\u03c7\\u03bf\\u03bd\\u03c4\\u03bf \\u03ba\\u03b1\\u03c4\\u1f70 \\u03c0\\u03c4\\u1f79\\u03bb\\u03b9\\u03bd~ \\u1f00\\u03c5\\u03c4\\u1f70\\u03c1 \\u1f08\\u03c7\\u03b1\\u03b9\\u03bf\\u1f76 \"\u001b[39m\n",
       "    ),\n",
       "    \u001b[33mCitableNode\u001b[39m(\n",
       "      \u001b[33mCtsUrn\u001b[39m(\u001b[32m\"urn:cts:greekLit:tlg0012.tlg001.msB:23.2\"\u001b[39m),\n",
       "      \u001b[32m\"\\u1f10\\u03c0\\u03b5\\u03b9\\u03b4\\u1f74 \\u03bd\\u1fc6\\u03b1\\u03c2 , \\u03c4\\u03b5 \\u03ba\\u03b1\\u1f76 \\u1f19\\u03bb\\u03bb\\u03ae\\u03c3\\u03c0\\u03bf\\u03bd\\u03c4\\u03bf\\u03bd \\u1f35\\u03ba\\u03bf\\u03bd\\u03c4\\u03bf , \"\u001b[39m\n",
       "    ),\n",
       "    \u001b[33mCitableNode\u001b[39m(\n",
       "      \u001b[33mCtsUrn\u001b[39m(\u001b[32m\"urn:cts:greekLit:tlg0012.tlg001.msB:23.3\"\u001b[39m),\n",
       "      \u001b[32m\"\\u03bf\\u1f31 \\u03bc\\u1f72\\u03bd \\u1f02\\u03c1 \\u1f10\\u03c3\\u03ba\\u03af\\u03b4\\u03bd\\u03b1\\u03bd\\u03c4\\u03bf \\u1f11\\u1f74\\u03bd \\u1f10\\u03c0\\u1f76 \\u03bd\\u1fc6\\u03b1 \\u1f15\\u03ba\\u03b1\\u03c3\\u03c4\\u03bf\\u03c2~ \"\u001b[39m\n",
       "    ),\n",
       "    \u001b[33mCitableNode\u001b[39m(\n",
       "      \u001b[33mCtsUrn\u001b[39m(\u001b[32m\"urn:cts:greekLit:tlg0012.tlg001.msB:23.4\"\u001b[39m),\n",
       "      \u001b[32m\"\\u03bc\\u03c5\\u03c1\\u03bc\\u03b9\\u03b4\\u1f79\\u03bd\\u03b1\\u03c2 \\u03b4' o\\u1f50\\u03ba \\u03b5\\u1f34\\u03b1 \\u1f00\\u03c0\\u03bf\\u03c3\\u03ba\\u03af\\u03b4\\u03bd\\u03b1\\u03c3\\u03b8\\u03b1\\u03b9 \\u1f08\\u03c7\\u03b9\\u03bb\\u03bb\\u03b5\\u1f7b\\u03c2 ~ \"\u001b[39m\n",
       "    ),\n",
       "    \u001b[33mCitableNode\u001b[39m(\n",
       "      \u001b[33mCtsUrn\u001b[39m(\u001b[32m\"urn:cts:greekLit:tlg0012.tlg001.msB:23.5\"\u001b[39m),\n",
       "      \u001b[32m\"\\u1f00\\u03bb\\u03bb' \\u1f45 \\u03b3\\u03b5 \\u03bf\\u1f37\\u03c2 \\u1f11\\u03c4\\u1f71\\u03c1\\u03bf\\u03b9\\u03c3\\u03b9 \\u03c6\\u03b9\\u03bb\\u03bf\\u03c0\\u03c4\\u03bf\\u03bb\\u1f73\\u03bc\\u03bf\\u03b9\\u03c3\\u03b9 \\u03bc\\u03b5\\u03c4\\u03b7\\u1f7b\\u03b4\\u03b1~ \"\u001b[39m\n",
       "    ),\n",
       "..."
      ]
     },
     "execution_count": 7,
     "metadata": {},
     "output_type": "execute_result"
    }
   ],
   "source": [
    "val venetusB = CorpusSource.fromUrl(vbURL)"
   ]
  },
  {
   "cell_type": "code",
   "execution_count": 8,
   "metadata": {},
   "outputs": [
    {
     "data": {
      "text/plain": [
       "\u001b[36me3URL\u001b[39m: \u001b[32mString\u001b[39m = \u001b[32m\"https://raw.githubusercontent.com/nadimattia/summer2020notebooks/master/e3.cex\"\u001b[39m"
      ]
     },
     "execution_count": 8,
     "metadata": {},
     "output_type": "execute_result"
    }
   ],
   "source": [
    "val e3URL = \"https://raw.githubusercontent.com/nadimattia/summer2020notebooks/master/e3.cex\""
   ]
  },
  {
   "cell_type": "code",
   "execution_count": 9,
   "metadata": {},
   "outputs": [
    {
     "data": {
      "text/plain": [
       "\u001b[36mupsilon\u001b[39m: \u001b[32mCorpus\u001b[39m = \u001b[33mCorpus\u001b[39m(\n",
       "  \u001b[33mVector\u001b[39m(\n",
       "    \u001b[33mCitableNode\u001b[39m(\n",
       "      \u001b[33mCtsUrn\u001b[39m(\u001b[32m\"urn:cts:greekLit:tlg0012.tlg001.e3:23.title\"\u001b[39m),\n",
       "      \u001b[32m\"\\u1f00\\u03c1\\u03c7\\u1f74 \\u03c4\\u1fc6\\u03c2 \\u03a8\\u1fd6 \\u1f49\\u03bc\\u03ae\\u03c1\\u03bf\\u03c5 \\u1fe5\\u03b1\\u03c8\\u03c9\\u03b4\\u03af\\u03b1\\u03c2 \\u2051 \"\u001b[39m\n",
       "    ),\n",
       "    \u001b[33mCitableNode\u001b[39m(\n",
       "      \u001b[33mCtsUrn\u001b[39m(\u001b[32m\"urn:cts:greekLit:tlg0012.tlg001.e3:23.1\"\u001b[39m),\n",
       "      \u001b[32m\"\\u1f63\\u03c2 \\u03bf\\u1f31 \\u03bc\\u1f72\\u03bd \\u03c3\\u03c4\\u03b5\\u03bd\\u1f71\\u03c7\\u03bf\\u03bd\\u03c4\\u03bf \\u03ba\\u03b1\\u03c4\\u1f70 \\u03c0\\u03c4\\u1f79\\u03bb\\u03b9\\u03bd~ \\u1f00\\u03c5\\u03c4\\u1f70\\u03c1 \\u1f08\\u03c7\\u03b1\\u03b9\\u03bf\\u1f76 \"\u001b[39m\n",
       "    ),\n",
       "    \u001b[33mCitableNode\u001b[39m(\n",
       "      \u001b[33mCtsUrn\u001b[39m(\u001b[32m\"urn:cts:greekLit:tlg0012.tlg001.e3:23.2\"\u001b[39m),\n",
       "      \u001b[32m\"\\u1f10\\u03c0\\u03b5\\u03b9\\u03b4\\u1f74 \\u03bd\\u1fc6\\u03b1\\u03c2 \\u03c4\\u03b5 \\u03ba\\u03b1\\u1f76 \\u1f19\\u03bb\\u03bb\\u03ae\\u03c3\\u03c0\\u03bf\\u03bd\\u03c4\\u03bf\\u03bd \\u1f35\\u03ba\\u03bf\\u03bd\\u03c4\\u03bf , \"\u001b[39m\n",
       "    ),\n",
       "    \u001b[33mCitableNode\u001b[39m(\n",
       "      \u001b[33mCtsUrn\u001b[39m(\u001b[32m\"urn:cts:greekLit:tlg0012.tlg001.e3:23.3\"\u001b[39m),\n",
       "      \u001b[32m\"\\u03bf\\u1f31 \\u03bc\\u1f72\\u03bd \\u1f02\\u03c1 \\u1f10\\u03c3\\u03ba\\u03af\\u03b4\\u03bd\\u03b1\\u03bd\\u03c4\\u03bf \\u1f11\\u1f74\\u03bd \\u1f10\\u03c0\\u1f76 \\u03bd\\u1fc6\\u03b1 \\u1f15\\u03ba\\u03b1\\u03c3\\u03c4\\u03bf\\u03c2~ \"\u001b[39m\n",
       "    ),\n",
       "    \u001b[33mCitableNode\u001b[39m(\n",
       "      \u001b[33mCtsUrn\u001b[39m(\u001b[32m\"urn:cts:greekLit:tlg0012.tlg001.e3:23.4\"\u001b[39m),\n",
       "      \u001b[32m\"\\u03bc\\u03c5\\u03c1\\u03bc\\u03b9\\u03b4\\u1f79\\u03bd\\u03b1\\u03c2 \\u03b4' \\u03bf\\u1f50\\u03ba \\u03b5\\u1f34\\u03b1 \\u1f00\\u03c0\\u03bf\\u03c3\\u03ba\\u03af\\u03b4\\u03bd\\u03b1\\u03c3\\u03b8\\u03b1\\u03b9 \\u1f08\\u03c7\\u03b9\\u03bb\\u03bb\\u03b5\\u1f7b\\u03c2 ~ \"\u001b[39m\n",
       "    ),\n",
       "    \u001b[33mCitableNode\u001b[39m(\n",
       "      \u001b[33mCtsUrn\u001b[39m(\u001b[32m\"urn:cts:greekLit:tlg0012.tlg001.e3:23.5\"\u001b[39m),\n",
       "      \u001b[32m\"\\u1f00\\u03bb\\u03bb' \\u1f45 \\u03b3\\u03b5 \\u03bf\\u1f37\\u03c2 \\u1f11\\u03c4\\u1f71\\u03c1\\u03bf\\u03b9\\u03c3\\u03b9 \\u03c6\\u03b9\\u03bb\\u03bf\\u03c0\\u03c4\\u03bf\\u03bb\\u1f73\\u03bc\\u03bf\\u03b9\\u03c3\\u03b9 \\u03bc\\u03b5\\u03c4\\u03b7\\u1f7b\\u03b4\\u03b1~ \"\u001b[39m\n",
       "..."
      ]
     },
     "execution_count": 9,
     "metadata": {},
     "output_type": "execute_result"
    }
   ],
   "source": [
    "val upsilon = CorpusSource.fromUrl(e3URL)"
   ]
  },
  {
   "cell_type": "code",
   "execution_count": 11,
   "metadata": {},
   "outputs": [
    {
     "data": {
      "text/plain": [
       "\u001b[36mres10_0\u001b[39m: \u001b[32mInt\u001b[39m = \u001b[32m37\u001b[39m\n",
       "\u001b[36mres10_1\u001b[39m: \u001b[32mInt\u001b[39m = \u001b[32m37\u001b[39m"
      ]
     },
     "execution_count": 11,
     "metadata": {},
     "output_type": "execute_result"
    }
   ],
   "source": [
    "upsilon.nodes.size\n",
    "venetusB.nodes.size"
   ]
  },
  {
   "cell_type": "code",
   "execution_count": 12,
   "metadata": {},
   "outputs": [
    {
     "data": {
      "text/plain": [
       "\u001b[36mb86URL\u001b[39m: \u001b[32mString\u001b[39m = \u001b[32m\"https://raw.githubusercontent.com/nadimattia/summer2020notebooks/master/burney86.cex\"\u001b[39m"
      ]
     },
     "execution_count": 12,
     "metadata": {},
     "output_type": "execute_result"
    }
   ],
   "source": [
    "val b86URL = \"https://raw.githubusercontent.com/nadimattia/summer2020notebooks/master/burney86.cex\""
   ]
  },
  {
   "cell_type": "code",
   "execution_count": 13,
   "metadata": {},
   "outputs": [
    {
     "data": {
      "text/plain": [
       "\u001b[36mburney86\u001b[39m: \u001b[32mCorpus\u001b[39m = \u001b[33mCorpus\u001b[39m(\n",
       "  \u001b[33mVector\u001b[39m(\n",
       "    \u001b[33mCitableNode\u001b[39m(\n",
       "      \u001b[33mCtsUrn\u001b[39m(\u001b[32m\"urn:cts:greekLit:tlg0012.tlg001.burney86:23.1\"\u001b[39m),\n",
       "      \u001b[32m\"\\u1f63\\u03c2 \\u03bf\\u1f31 \\u03bc\\u1f72\\u03bd , \\u03c3\\u03c4\\u03b5\\u03bd\\u1f71\\u03c7\\u03bf\\u03bd\\u03c4\\u03bf \\u03ba\\u03b1\\u03c4\\u1f70 \\u03c0\\u03c4\\u1f79\\u03bb\\u03b9\\u03bd~ \\u03b1\\u1f50\\u03c4\\u1f70\\u03c1 \\u1f08\\u03c7\\u03b1\\u03b9\\u03bf\\u1f76\"\u001b[39m\n",
       "    ),\n",
       "    \u001b[33mCitableNode\u001b[39m(\n",
       "      \u001b[33mCtsUrn\u001b[39m(\u001b[32m\"urn:cts:greekLit:tlg0012.tlg001.burney86:23.2\"\u001b[39m),\n",
       "      \u001b[32m\"\\u1f10\\u03c0\\u03b5\\u1f76 \\u03b4\\u1f74 \\u03bd\\u1fc6\\u1f71\\u03c2 \\u03c4\\u03b5 \\u03ba\\u03b1\\u1f76 \\u1f19\\u03bb\\u03bb\\u03ae\\u03c3\\u03c0\\u03bf\\u03bd\\u03c4\\u03bf\\u03bd \\u1f35\\u03ba\\u03bf\\u03bd\\u03c4\\u03bf ,\"\u001b[39m\n",
       "    ),\n",
       "    \u001b[33mCitableNode\u001b[39m(\n",
       "      \u001b[33mCtsUrn\u001b[39m(\u001b[32m\"urn:cts:greekLit:tlg0012.tlg001.burney86:23.3\"\u001b[39m),\n",
       "      \u001b[32m\"\\u03bf\\u1f31 \\u03bc\\u1f72\\u03bd \\u1f02\\u03c1 \\u1f10\\u03c3\\u03ba\\u03af\\u03b4\\u03bd\\u03b1\\u03bd\\u03c4\\u03bf \\u1f11\\u1f74\\u03bd \\u1f10\\u03c0\\u1f76 \\u03bd\\u1fc6\\u03b1 \\u1f15\\u03ba\\u03b1\\u03c3\\u03c4\\u03bf\\u03c2~\"\u001b[39m\n",
       "    ),\n",
       "    \u001b[33mCitableNode\u001b[39m(\n",
       "      \u001b[33mCtsUrn\u001b[39m(\u001b[32m\"urn:cts:greekLit:tlg0012.tlg001.burney86:23.4\"\u001b[39m),\n",
       "      \u001b[32m\"\\u039c\\u03c5\\u03c1\\u03bc\\u03b9\\u03b4\\u1f79\\u03bd\\u03b1\\u03c2 \\u03b4' \\u03bf\\u1f50\\u03ba \\u03b5\\u1f34\\u03b1 \\u1f00\\u03c0\\u03bf\\u03c3\\u03ba\\u03af\\u03b4\\u03bd\\u03b1\\u03c3\\u03b8\\u03b1\\u03b9 \\u1f08\\u03c7\\u03b9\\u03bb\\u03bb\\u03b5\\u03c5\\u03c2\"\u001b[39m\n",
       "    ),\n",
       "    \u001b[33mCitableNode\u001b[39m(\n",
       "      \u001b[33mCtsUrn\u001b[39m(\u001b[32m\"urn:cts:greekLit:tlg0012.tlg001.burney86:23.5\"\u001b[39m),\n",
       "      \u001b[32m\"\\u1f00\\u03bb\\u03bb' \\u1f45 \\u03b3\\u03b5 \\u03bf\\u1f37\\u03c2 \\u1f11\\u03c4\\u1f71\\u03c1\\u03bf\\u03b9\\u03c3\\u03b9 \\u03c6\\u03b9\\u03bb\\u03bf\\u03c0\\u03c4\\u03bf\\u03bb\\u1f73\\u03bc\\u03bf\\u03b9\\u03c3\\u03b9 \\u03bc\\u03b5\\u03c4\\u03ae\\u03c5\\u03b4\\u03b1~\"\u001b[39m\n",
       "    ),\n",
       "    \u001b[33mCitableNode\u001b[39m(\n",
       "      \u001b[33mCtsUrn\u001b[39m(\u001b[32m\"urn:cts:greekLit:tlg0012.tlg001.burney86:23.6\"\u001b[39m),\n",
       "      \u001b[32m\"\\u039c\\u03c5\\u03c1\\u03bc\\u03b9\\u03b4\\u1f79\\u03bd\\u03b5\\u03c2 \\u03c4\\u03b1\\u03c7\\u1f7b\\u03c0\\u03c9\\u03bb\\u03bf\\u03b9 \\u1f10\\u03bc\\u03bf\\u1f76 \\u1f10\\u03c1\u001b[39m..."
      ]
     },
     "execution_count": 13,
     "metadata": {},
     "output_type": "execute_result"
    }
   ],
   "source": [
    "val burney86 = CorpusSource.fromUrl(b86URL)"
   ]
  },
  {
   "cell_type": "code",
   "execution_count": 14,
   "metadata": {},
   "outputs": [
    {
     "data": {
      "text/plain": [
       "\u001b[36mvaURL\u001b[39m: \u001b[32mString\u001b[39m = \u001b[32m\"https://raw.githubusercontent.com/nadimattia/summer2020notebooks/master/va.cex\"\u001b[39m"
      ]
     },
     "execution_count": 14,
     "metadata": {},
     "output_type": "execute_result"
    }
   ],
   "source": [
    "val vaURL = \"https://raw.githubusercontent.com/nadimattia/summer2020notebooks/master/va.cex\""
   ]
  },
  {
   "cell_type": "code",
   "execution_count": 15,
   "metadata": {},
   "outputs": [
    {
     "data": {
      "text/plain": [
       "\u001b[36mvenetusA\u001b[39m: \u001b[32mCorpus\u001b[39m = \u001b[33mCorpus\u001b[39m(\n",
       "  \u001b[33mVector\u001b[39m(\n",
       "    \u001b[33mCitableNode\u001b[39m(\n",
       "      \u001b[33mCtsUrn\u001b[39m(\u001b[32m\"urn:cts:greekLit:tlg0012.tlg001.msA:23.1\"\u001b[39m),\n",
       "      \u001b[32m\"\\u1f61\\u03c2 \\u03bf\\u1f31 \\u03bc\\u1f72\\u03bd \\u03c3\\u03c4\\u03b5\\u03bd\\u1f71\\u03c7\\u03bf\\u03bd\\u03c4\\u03bf \\u03ba\\u03b1\\u03c4\\u03b1 \\u03c0\\u03c4\\u1f79\\u03bb\\u03b9\\u03bd~ \\u03b1\\u1f50\\u03c4\\u1f70\\u03c1 \\u1f08\\u03c7\\u03b1\\u03b9\\u03bf\\u1f76 .\"\u001b[39m\n",
       "    ),\n",
       "    \u001b[33mCitableNode\u001b[39m(\n",
       "      \u001b[33mCtsUrn\u001b[39m(\u001b[32m\"urn:cts:greekLit:tlg0012.tlg001.msA:23.2\"\u001b[39m),\n",
       "      \u001b[32m\"\\u1f10\\u03c0\\u03b5\\u03b9\\u03b4\\u1f74 \\u03bd\\u1fc6\\u1f71\\u03c2 \\u03c4\\u03b5 \\u03ba\\u03b1\\u1f76 \\u1f19\\u03bb\\u03bb\\u03ae\\u03c3\\u03c0\\u03bf\\u03bd\\u03c4\\u03bf\\u03bd \\u1ffe\\u0390\\u03ba\\u03bf\\u03bd\\u03c4\\u03bf .\"\u001b[39m\n",
       "    ),\n",
       "    \u001b[33mCitableNode\u001b[39m(\n",
       "      \u001b[33mCtsUrn\u001b[39m(\u001b[32m\"urn:cts:greekLit:tlg0012.tlg001.msA:23.3\"\u001b[39m),\n",
       "      \u001b[32m\"\\u03bf\\u1f31 \\u03bc\\u1f72\\u03bd \\u1f70\\u03c1 \\u1f10\\u03c3\\u03ba\\u03af\\u03b4\\u03bd\\u03b1\\u03bd\\u03c4\\u03bf \\u1f11\\u1f74\\u03bd \\u1f10\\u03c0\\u03b9 \\u03bd\\u1fc6\\u03b1 \\u1f15\\u03ba\\u03b1\\u03c3\\u03c4\\u03bf\\u03c2~\"\u001b[39m\n",
       "    ),\n",
       "    \u001b[33mCitableNode\u001b[39m(\n",
       "      \u001b[33mCtsUrn\u001b[39m(\u001b[32m\"urn:cts:greekLit:tlg0012.tlg001.msA:23.4\"\u001b[39m),\n",
       "      \u001b[32m\"\\u039c\\u03c5\\u03c1\\u03bc\\u03b9\\u03b4\\u1f79\\u03bd\\u03b1\\u03c2 \\u03b4\\u2019 \\u03bf\\u1f50\\u03ba \\u03b5\\u1f34\\u03b1 \\u1f00\\u03c0\\u03bf\\u03c3\\u03ba\\u03af\\u03b4\\u03bd\\u03b1\\u03c3\\u03b8\\u03b1\\u03b9 \\u1f08\\u03c7\\u03b9\\u03bb\\u03bb\\u03b5\\u1f7b\\u03c2 \\u00b7\"\u001b[39m\n",
       "    ),\n",
       "    \u001b[33mCitableNode\u001b[39m(\n",
       "      \u001b[33mCtsUrn\u001b[39m(\u001b[32m\"urn:cts:greekLit:tlg0012.tlg001.msA:23.5\"\u001b[39m),\n",
       "      \u001b[32m\"\\u1f00\\u03bb\\u03bb' \\u1f45 \\u03b3\\u03b5 , \\u03bf\\u1f37\\u03c2 , \\u1f11\\u03c4\\u1f71\\u03c1\\u03bf\\u03b9\\u03c3\\u03b9 \\u03c6\\u03b9\\u03bb\\u03bf\\u03c0\\u03c4\\u03bf\\u03bb\\u1f73\\u03bc\\u03bf\\u03b9\\u03c3\\u03b9 \\u03bc\\u03b5\\u03c4\\u03b7\\u1f7b\\u03b4\\u03b1~\"\u001b[39m\n",
       "    ),\n",
       "    \u001b[33mCitableNode\u001b[39m(\n",
       "      \u001b[33mCtsUrn\u001b[39m(\u001b[32m\"urn:cts:greekLit:tlg0012.tlg001.msA:23.6\"\u001b[39m),\n",
       "      \u001b[32m\"\\u039c\\u03c5\\u03c1\\u03bc\\u03b9\\u03b4\\u1f79\\u03bd\\u03b5\\u03c2 \\u03c4\\u03b1\\u03c7\\u1f7b\\u03c0\\u03c9\\u03bb\\u03bf\\u03b9 , \\u1f10\\u03bc\\u03bf\\u1f76 \\u1f10\\u03\u001b[39m..."
      ]
     },
     "execution_count": 15,
     "metadata": {},
     "output_type": "execute_result"
    }
   ],
   "source": [
    "val venetusA = CorpusSource.fromUrl(vaURL)"
   ]
  },
  {
   "cell_type": "code",
   "execution_count": 16,
   "metadata": {},
   "outputs": [
    {
     "data": {
      "text/plain": [
       "\u001b[36mres15_0\u001b[39m: \u001b[32mInt\u001b[39m = \u001b[32m37\u001b[39m\n",
       "\u001b[36mres15_1\u001b[39m: \u001b[32mInt\u001b[39m = \u001b[32m37\u001b[39m\n",
       "\u001b[36mres15_2\u001b[39m: \u001b[32mInt\u001b[39m = \u001b[32m36\u001b[39m\n",
       "\u001b[36mres15_3\u001b[39m: \u001b[32mInt\u001b[39m = \u001b[32m36\u001b[39m"
      ]
     },
     "execution_count": 16,
     "metadata": {},
     "output_type": "execute_result"
    }
   ],
   "source": [
    "upsilon.nodes.size\n",
    "venetusB.nodes.size\n",
    "burney86.nodes.size\n",
    "venetusA.nodes.size"
   ]
  },
  {
   "cell_type": "code",
   "execution_count": 17,
   "metadata": {},
   "outputs": [
    {
     "data": {
      "text/plain": [
       "\u001b[36mvaReff\u001b[39m: \u001b[32mVector\u001b[39m[\u001b[32mString\u001b[39m] = \u001b[33mVector\u001b[39m(\n",
       "  \u001b[32m\"23.1\"\u001b[39m,\n",
       "  \u001b[32m\"23.2\"\u001b[39m,\n",
       "  \u001b[32m\"23.3\"\u001b[39m,\n",
       "  \u001b[32m\"23.4\"\u001b[39m,\n",
       "  \u001b[32m\"23.5\"\u001b[39m,\n",
       "  \u001b[32m\"23.6\"\u001b[39m,\n",
       "  \u001b[32m\"23.7\"\u001b[39m,\n",
       "  \u001b[32m\"23.8\"\u001b[39m,\n",
       "  \u001b[32m\"23.9\"\u001b[39m,\n",
       "  \u001b[32m\"23.10\"\u001b[39m,\n",
       "  \u001b[32m\"23.11\"\u001b[39m,\n",
       "  \u001b[32m\"23.12\"\u001b[39m,\n",
       "  \u001b[32m\"23.13\"\u001b[39m,\n",
       "  \u001b[32m\"23.14\"\u001b[39m,\n",
       "  \u001b[32m\"23.15\"\u001b[39m,\n",
       "  \u001b[32m\"23.16\"\u001b[39m,\n",
       "  \u001b[32m\"23.17\"\u001b[39m,\n",
       "  \u001b[32m\"23.18\"\u001b[39m,\n",
       "  \u001b[32m\"23.19\"\u001b[39m,\n",
       "  \u001b[32m\"23.20\"\u001b[39m,\n",
       "  \u001b[32m\"23.21\"\u001b[39m,\n",
       "  \u001b[32m\"23.22\"\u001b[39m,\n",
       "  \u001b[32m\"23.23\"\u001b[39m,\n",
       "  \u001b[32m\"23.24\"\u001b[39m,\n",
       "  \u001b[32m\"23.25\"\u001b[39m,\n",
       "  \u001b[32m\"23.26\"\u001b[39m,\n",
       "  \u001b[32m\"23.27\"\u001b[39m,\n",
       "  \u001b[32m\"23.28\"\u001b[39m,\n",
       "  \u001b[32m\"23.29\"\u001b[39m,\n",
       "  \u001b[32m\"23.30\"\u001b[39m,\n",
       "  \u001b[32m\"23.31\"\u001b[39m,\n",
       "  \u001b[32m\"23.32\"\u001b[39m,\n",
       "  \u001b[32m\"23.33\"\u001b[39m,\n",
       "  \u001b[32m\"23.34\"\u001b[39m,\n",
       "  \u001b[32m\"23.35\"\u001b[39m,\n",
       "  \u001b[32m\"23.36\"\u001b[39m\n",
       ")\n",
       "\u001b[36me3Reff\u001b[39m: \u001b[32mVector\u001b[39m[\u001b[32mString\u001b[39m] = \u001b[33mVector\u001b[39m(\n",
       "  \u001b[32m\"23.title\"\u001b[39m,\n",
       "  \u001b[32m\"23.1\"\u001b[39m,\n",
       "  \u001b[32m\"23.2\"\u001b[39m,\n",
       "  \u001b[32m\"23.3\"\u001b[39m,\n",
       "  \u001b[32m\"23.4\"\u001b[39m,\n",
       "  \u001b[32m\"23.5\"\u001b[39m,\n",
       "  \u001b[32m\"23.6\"\u001b[39m,\n",
       "  \u001b[32m\"23.7\"\u001b[39m,\n",
       "  \u001b[32m\"23.8\"\u001b[39m,\n",
       "  \u001b[32m\"23.9\"\u001b[39m,\n",
       "  \u001b[32m\"23.10\"\u001b[39m,\n",
       "  \u001b[32m\"23.11\"\u001b[39m,\n",
       "  \u001b[32m\"23.12\"\u001b[39m,\n",
       "  \u001b[32m\"23.13\"\u001b[39m,\n",
       "  \u001b[32m\"23.14\"\u001b[39m,\n",
       "  \u001b[32m\"23.15\"\u001b[39m,\n",
       "  \u001b[32m\"23.16\"\u001b[39m,\n",
       "  \u001b[32m\"23.17\"\u001b[39m,\n",
       "  \u001b[32m\"23.18\"\u001b[39m,\n",
       "  \u001b[32m\"23.19\"\u001b[39m,\n",
       "  \u001b[32m\"23.20\"\u001b[39m,\n",
       "  \u001b[32m\"23.21\"\u001b[39m,\n",
       "  \u001b[32m\"23.22\"\u001b[39m,\n",
       "  \u001b[32m\"23.23\"\u001b[39m,\n",
       "  \u001b[32m\"23.24\"\u001b[39m,\n",
       "  \u001b[32m\"23.25\"\u001b[39m,\n",
       "  \u001b[32m\"23.26\"\u001b[39m,\n",
       "  \u001b[32m\"23.27\"\u001b[39m,\n",
       "  \u001b[32m\"23.28\"\u001b[39m,\n",
       "  \u001b[32m\"23.29\"\u001b[39m,\n",
       "  \u001b[32m\"23.30\"\u001b[39m,\n",
       "  \u001b[32m\"23.31\"\u001b[39m,\n",
       "  \u001b[32m\"23.32\"\u001b[39m,\n",
       "  \u001b[32m\"23.33\"\u001b[39m,\n",
       "  \u001b[32m\"23.34\"\u001b[39m,\n",
       "  \u001b[32m\"23.35\"\u001b[39m,\n",
       "  \u001b[32m\"23.36\"\u001b[39m\n",
       ")\n",
       "\u001b[36mvbReff\u001b[39m: \u001b[32mVector\u001b[39m[\u001b[32mString\u001b[39m] = \u001b[33mVector\u001b[39m(\n",
       "  \u001b[32m\"23.title\"\u001b[39m,\n",
       "  \u001b[32m\"23.1\"\u001b[39m,\n",
       "  \u001b[32m\"23.2\"\u001b[39m,\n",
       "  \u001b[32m\"23.3\"\u001b[39m,\n",
       "  \u001b[32m\"23.4\"\u001b[39m,\n",
       "  \u001b[32m\"23.5\"\u001b[39m,\n",
       "  \u001b[32m\"23.6\"\u001b[39m,\n",
       "  \u001b[32m\"23.7\"\u001b[39m,\n",
       "  \u001b[32m\"23.8\"\u001b[39m,\n",
       "  \u001b[32m\"23.9\"\u001b[39m,\n",
       "  \u001b[32m\"23.10\"\u001b[39m,\n",
       "  \u001b[32m\"23.11\"\u001b[39m,\n",
       "  \u001b[32m\"23.12\"\u001b[39m,\n",
       "  \u001b[32m\"23.13\"\u001b[39m,\n",
       "  \u001b[32m\"23.14\"\u001b[39m,\n",
       "  \u001b[32m\"23.15\"\u001b[39m,\n",
       "  \u001b[32m\"23.16\"\u001b[39m,\n",
       "  \u001b[32m\"23.17\"\u001b[39m,\n",
       "  \u001b[32m\"23.18\"\u001b[39m,\n",
       "  \u001b[32m\"23.19\"\u001b[39m,\n",
       "  \u001b[32m\"23.20\"\u001b[39m,\n",
       "  \u001b[32m\"23.21\"\u001b[39m,\n",
       "  \u001b[32m\"23.22\"\u001b[39m,\n",
       "  \u001b[32m\"23.23\"\u001b[39m,\n",
       "  \u001b[32m\"23.24\"\u001b[39m,\n",
       "  \u001b[32m\"23.25\"\u001b[39m,\n",
       "  \u001b[32m\"23.26\"\u001b[39m,\n",
       "  \u001b[32m\"23.27\"\u001b[39m,\n",
       "  \u001b[32m\"23.28\"\u001b[39m,\n",
       "  \u001b[32m\"23.29\"\u001b[39m,\n",
       "  \u001b[32m\"23.30\"\u001b[39m,\n",
       "  \u001b[32m\"23.31\"\u001b[39m,\n",
       "  \u001b[32m\"23.32\"\u001b[39m,\n",
       "  \u001b[32m\"23.33\"\u001b[39m,\n",
       "  \u001b[32m\"23.34\"\u001b[39m,\n",
       "  \u001b[32m\"23.35\"\u001b[39m,\n",
       "  \u001b[32m\"23.36\"\u001b[39m\n",
       ")\n",
       "\u001b[36mb86Reff\u001b[39m: \u001b[32mVector\u001b[39m[\u001b[32mString\u001b[39m] = \u001b[33mVector\u001b[39m(\n",
       "  \u001b[32m\"23.1\"\u001b[39m,\n",
       "  \u001b[32m\"23.2\"\u001b[39m,\n",
       "  \u001b[32m\"23.3\"\u001b[39m,\n",
       "  \u001b[32m\"23.4\"\u001b[39m,\n",
       "  \u001b[32m\"23.5\"\u001b[39m,\n",
       "  \u001b[32m\"23.6\"\u001b[39m,\n",
       "  \u001b[32m\"23.7\"\u001b[39m,\n",
       "  \u001b[32m\"23.8\"\u001b[39m,\n",
       "  \u001b[32m\"23.9\"\u001b[39m,\n",
       "  \u001b[32m\"23.10\"\u001b[39m,\n",
       "  \u001b[32m\"23.11\"\u001b[39m,\n",
       "  \u001b[32m\"23.12\"\u001b[39m,\n",
       "  \u001b[32m\"23.13\"\u001b[39m,\n",
       "  \u001b[32m\"23.14\"\u001b[39m,\n",
       "  \u001b[32m\"23.15\"\u001b[39m,\n",
       "  \u001b[32m\"23.16\"\u001b[39m,\n",
       "  \u001b[32m\"23.17\"\u001b[39m,\n",
       "  \u001b[32m\"23.18\"\u001b[39m,\n",
       "  \u001b[32m\"23.19\"\u001b[39m,\n",
       "  \u001b[32m\"23.20\"\u001b[39m,\n",
       "  \u001b[32m\"23.21\"\u001b[39m,\n",
       "  \u001b[32m\"23.22\"\u001b[39m,\n",
       "  \u001b[32m\"23.23\"\u001b[39m,\n",
       "  \u001b[32m\"23.24\"\u001b[39m,\n",
       "  \u001b[32m\"23.25\"\u001b[39m,\n",
       "  \u001b[32m\"23.26\"\u001b[39m,\n",
       "  \u001b[32m\"23.27\"\u001b[39m,\n",
       "  \u001b[32m\"23.28\"\u001b[39m,\n",
       "  \u001b[32m\"23.29\"\u001b[39m,\n",
       "  \u001b[32m\"23.30\"\u001b[39m,\n",
       "  \u001b[32m\"23.31\"\u001b[39m,\n",
       "  \u001b[32m\"23.32\"\u001b[39m,\n",
       "  \u001b[32m\"23.33\"\u001b[39m,\n",
       "  \u001b[32m\"23.34\"\u001b[39m,\n",
       "  \u001b[32m\"23.35\"\u001b[39m,\n",
       "  \u001b[32m\"23.36\"\u001b[39m\n",
       ")"
      ]
     },
     "execution_count": 17,
     "metadata": {},
     "output_type": "execute_result"
    }
   ],
   "source": [
    "val vaReff = venetusA.nodes.map(n => n.urn.passageComponent)\n",
    "val e3Reff = upsilon.nodes.map(n => n.urn.passageComponent)\n",
    "val vbReff = venetusB.nodes.map(n => n.urn.passageComponent)\n",
    "val b86Reff = burney86.nodes.map(n => n.urn.passageComponent)"
   ]
  },
  {
   "cell_type": "code",
   "execution_count": 18,
   "metadata": {},
   "outputs": [
    {
     "data": {
      "text/plain": [
       "\u001b[36mres17\u001b[39m: \u001b[32mInt\u001b[39m = \u001b[32m1\u001b[39m"
      ]
     },
     "execution_count": 18,
     "metadata": {},
     "output_type": "execute_result"
    }
   ],
   "source": [
    "vbReff.size - vaReff.size"
   ]
  },
  {
   "cell_type": "code",
   "execution_count": 19,
   "metadata": {},
   "outputs": [
    {
     "data": {
      "text/plain": [
       "\u001b[36mres18\u001b[39m: \u001b[32mInt\u001b[39m = \u001b[32m0\u001b[39m"
      ]
     },
     "execution_count": 19,
     "metadata": {},
     "output_type": "execute_result"
    }
   ],
   "source": [
    "vbReff.size - e3Reff.size"
   ]
  },
  {
   "cell_type": "code",
   "execution_count": 20,
   "metadata": {},
   "outputs": [
    {
     "data": {
      "text/plain": [
       "\u001b[36mres19\u001b[39m: \u001b[32mInt\u001b[39m = \u001b[32m1\u001b[39m"
      ]
     },
     "execution_count": 20,
     "metadata": {},
     "output_type": "execute_result"
    }
   ],
   "source": [
    "vbReff.size - b86Reff.size"
   ]
  },
  {
   "cell_type": "code",
   "execution_count": 22,
   "metadata": {},
   "outputs": [
    {
     "data": {
      "text/plain": [
       "\u001b[36mminusVersesvA\u001b[39m: \u001b[32mVector\u001b[39m[\u001b[32mString\u001b[39m] = \u001b[33mVector\u001b[39m(\u001b[32m\"23.title\"\u001b[39m)"
      ]
     },
     "execution_count": 22,
     "metadata": {},
     "output_type": "execute_result"
    }
   ],
   "source": [
    "val minusVersesvA = vbReff diff vaReff"
   ]
  },
  {
   "cell_type": "code",
   "execution_count": 23,
   "metadata": {},
   "outputs": [
    {
     "data": {
      "text/plain": [
       "\u001b[36mminusVersesE3\u001b[39m: \u001b[32mVector\u001b[39m[\u001b[32mString\u001b[39m] = \u001b[33mVector\u001b[39m()"
      ]
     },
     "execution_count": 23,
     "metadata": {},
     "output_type": "execute_result"
    }
   ],
   "source": [
    "val minusVersesE3 = vbReff diff e3Reff"
   ]
  },
  {
   "cell_type": "code",
   "execution_count": 24,
   "metadata": {},
   "outputs": [
    {
     "data": {
      "text/plain": [
       "\u001b[36mminusVersesB86\u001b[39m: \u001b[32mVector\u001b[39m[\u001b[32mString\u001b[39m] = \u001b[33mVector\u001b[39m(\u001b[32m\"23.title\"\u001b[39m)"
      ]
     },
     "execution_count": 24,
     "metadata": {},
     "output_type": "execute_result"
    }
   ],
   "source": [
    "val minusVersesB86 = vbReff diff b86Reff"
   ]
  },
  {
   "cell_type": "code",
   "execution_count": 26,
   "metadata": {},
   "outputs": [
    {
     "data": {
      "text/plain": [
       "\u001b[36mplusVersesvA\u001b[39m: \u001b[32mVector\u001b[39m[\u001b[32mString\u001b[39m] = \u001b[33mVector\u001b[39m()\n",
       "\u001b[36mplusVersesE3\u001b[39m: \u001b[32mVector\u001b[39m[\u001b[32mString\u001b[39m] = \u001b[33mVector\u001b[39m()\n",
       "\u001b[36mplusVersesB86\u001b[39m: \u001b[32mVector\u001b[39m[\u001b[32mString\u001b[39m] = \u001b[33mVector\u001b[39m()"
      ]
     },
     "execution_count": 26,
     "metadata": {},
     "output_type": "execute_result"
    }
   ],
   "source": [
    "val plusVersesvA = vaReff diff vbReff\n",
    "val plusVersesE3 = e3Reff diff vbReff\n",
    "val plusVersesB86 = b86Reff diff vbReff"
   ]
  },
  {
   "cell_type": "code",
   "execution_count": null,
   "metadata": {},
   "outputs": [],
   "source": []
  },
  {
   "cell_type": "code",
   "execution_count": null,
   "metadata": {},
   "outputs": [],
   "source": []
  }
 ],
 "metadata": {
  "kernelspec": {
   "display_name": "Scala (2.12)",
   "language": "scala",
   "name": "scala212"
  },
  "language_info": {
   "codemirror_mode": "text/x-scala",
   "file_extension": ".scala",
   "mimetype": "text/x-scala",
   "name": "scala",
   "nbconvert_exporter": "script",
   "version": "2.12.10"
  }
 },
 "nbformat": 4,
 "nbformat_minor": 4
}
