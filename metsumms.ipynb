{
 "cells": [
  {
   "cell_type": "markdown",
   "metadata": {},
   "source": [
    "## Review\n",
    "\n",
    "\n",
    "`Vector`s are ordered lists.  We'll use them constantly!\n",
    "\n",
    "The two manipulations you'll return to over and over are:\n",
    "\n",
    "1. `filter` to *select* from or *query* a Vector\n",
    "2. `map` to *transform* every element of a Vector\n",
    "\n"
   ]
  },
  {
   "cell_type": "code",
   "execution_count": 1,
   "metadata": {},
   "outputs": [
    {
     "data": {
      "text/plain": [
       "\u001b[36msigla\u001b[39m: \u001b[32mVector\u001b[39m[\u001b[32mString\u001b[39m] = \u001b[33mVector\u001b[39m(\u001b[32m\"A\"\u001b[39m, \u001b[32m\"B\"\u001b[39m, \u001b[32m\"C\"\u001b[39m, \u001b[32m\"E3\"\u001b[39m, \u001b[32m\"E4\"\u001b[39m, \u001b[32m\"T\"\u001b[39m)\n",
       "\u001b[36mshortSigla\u001b[39m: \u001b[32mVector\u001b[39m[\u001b[32mString\u001b[39m] = \u001b[33mVector\u001b[39m(\u001b[32m\"A\"\u001b[39m, \u001b[32m\"B\"\u001b[39m, \u001b[32m\"C\"\u001b[39m, \u001b[32m\"T\"\u001b[39m)\n",
       "\u001b[36mlowerSigla\u001b[39m: \u001b[32mVector\u001b[39m[\u001b[32mString\u001b[39m] = \u001b[33mVector\u001b[39m(\u001b[32m\"a\"\u001b[39m, \u001b[32m\"b\"\u001b[39m, \u001b[32m\"c\"\u001b[39m, \u001b[32m\"e3\"\u001b[39m, \u001b[32m\"e4\"\u001b[39m, \u001b[32m\"t\"\u001b[39m)\n",
       "\u001b[36mlowerShortSigla\u001b[39m: \u001b[32mVector\u001b[39m[\u001b[32mString\u001b[39m] = \u001b[33mVector\u001b[39m(\u001b[32m\"a\"\u001b[39m, \u001b[32m\"b\"\u001b[39m, \u001b[32m\"c\"\u001b[39m, \u001b[32m\"t\"\u001b[39m)"
      ]
     },
     "execution_count": 1,
     "metadata": {},
     "output_type": "execute_result"
    }
   ],
   "source": [
    "// Create a list with sigla for our 6 MSS of the *Iliad* with scholia:\n",
    "val sigla = Vector(\"A\", \"B\", \"C\", \"E3\", \"E4\", \"T\")\n",
    "\n",
    "// Select sigla that are only 1 letter long:\n",
    "val shortSigla = sigla.filter(sig => sig.size == 1)\n",
    "\n",
    "// Transform all sigla to lower case for easier reading!\n",
    "val lowerSigla = sigla.map(sig => sig.toLowerCase)\n",
    "\n",
    "// The miracle of chaining methods\n",
    "// Transforma all 1-letter sigla to lower case:\n",
    "val lowerShortSigla  = \n",
    "sigla.filter(sig => sig.size == 1).map(sig => sig.toLowerCase)\n",
    "\n"
   ]
  },
  {
   "cell_type": "markdown",
   "metadata": {},
   "source": [
    "# Counting metrical summaries\n",
    "\n",
    "In the next two cells, I've pasted in some data from delimited text files that Luke and Augusta created.\n",
    "\n",
    "Read the output description, and you'll see that I've created named values (using the `val` keyword) that are of `String` type.\n",
    "\n",
    "This illustrates an another way to define a String value: marked out by *triple* quotes (!), allowing you to have multi-line strings.\n",
    "\n"
   ]
  },
  {
   "cell_type": "code",
   "execution_count": 3,
   "metadata": {},
   "outputs": [
    {
     "data": {
      "text/plain": [
       "\u001b[36mvbdelimited\u001b[39m: \u001b[32mString\u001b[39m = \u001b[32m\"\"\"book#page#metricalsummary#hand\n",
       "3#41r#present#original\n",
       "4#51r#absent#na\n",
       "5#62v#absent#na\n",
       "6#81v#present#original\n",
       "7#92v#present#original\n",
       "8#103r#present#original\n",
       "9#114r#present#original\n",
       "10#129r#present#original\n",
       "11#141v#present#original\n",
       "12#159r#present#different\n",
       "13#169r#present#original\n",
       "14#186v#present#original\"\"\"\u001b[39m"
      ]
     },
     "execution_count": 3,
     "metadata": {},
     "output_type": "execute_result"
    }
   ],
   "source": [
    "val vbdelimited = \"\"\"book#page#metricalsummary#hand\n",
    "3#41r#present#original\n",
    "4#51r#absent#na\n",
    "5#62v#absent#na\n",
    "6#81v#present#original\n",
    "7#92v#present#original\n",
    "8#103r#present#original\n",
    "9#114r#present#original\n",
    "10#129r#present#original\n",
    "11#141v#present#original\n",
    "12#159r#present#different\n",
    "13#169r#present#original\n",
    "14#186v#present#original\"\"\"\n",
    "\n",
    "//can use triple quotes to create a string with new lines, etc "
   ]
  },
  {
   "cell_type": "markdown",
   "metadata": {},
   "source": [
    "We can split the single, long String on new-line characters (`\"\\n\"` in Scala) to create a list.  Because I like Vectors, I'll convert the list to a `Vector` type, and drop the header line by adding the `tail` method. (Chaining methods again!)"
   ]
  },
  {
   "cell_type": "code",
   "execution_count": 4,
   "metadata": {},
   "outputs": [
    {
     "data": {
      "text/plain": [
       "\u001b[36mvb\u001b[39m: \u001b[32mVector\u001b[39m[\u001b[32mString\u001b[39m] = \u001b[33mVector\u001b[39m(\n",
       "  \u001b[32m\"3#41r#present#original\"\u001b[39m,\n",
       "  \u001b[32m\"4#51r#absent#na\"\u001b[39m,\n",
       "  \u001b[32m\"5#62v#absent#na\"\u001b[39m,\n",
       "  \u001b[32m\"6#81v#present#original\"\u001b[39m,\n",
       "  \u001b[32m\"7#92v#present#original\"\u001b[39m,\n",
       "  \u001b[32m\"8#103r#present#original\"\u001b[39m,\n",
       "  \u001b[32m\"9#114r#present#original\"\u001b[39m,\n",
       "  \u001b[32m\"10#129r#present#original\"\u001b[39m,\n",
       "  \u001b[32m\"11#141v#present#original\"\u001b[39m,\n",
       "  \u001b[32m\"12#159r#present#different\"\u001b[39m,\n",
       "  \u001b[32m\"13#169r#present#original\"\u001b[39m,\n",
       "  \u001b[32m\"14#186v#present#original\"\u001b[39m\n",
       ")"
      ]
     },
     "execution_count": 4,
     "metadata": {},
     "output_type": "execute_result"
    }
   ],
   "source": [
    "val vb = vbdelimited.split(\"\\n\").toVector.tail"
   ]
  },
  {
   "cell_type": "markdown",
   "metadata": {},
   "source": [
    "I want to compare how many books have metrical summaries vs. how many do not.\n",
    "\n",
    "To do that, I'll use the `groupBy` method.  It's another \"fat arrow\" method:  I make up a name on the left side of the arrow that will stand in for every element of the Vector, then on the right side of the arrow, specify a value to use to group elements together.  Here, I'll group lines according to whether or not they contain the String \"#present#"
   ]
  },
  {
   "cell_type": "code",
   "execution_count": 5,
   "metadata": {},
   "outputs": [
    {
     "data": {
      "text/plain": [
       "\u001b[36mgrouped\u001b[39m: \u001b[32mMap\u001b[39m[\u001b[32mBoolean\u001b[39m, \u001b[32mVector\u001b[39m[\u001b[32mString\u001b[39m]] = \u001b[33mMap\u001b[39m(\n",
       "  false -> \u001b[33mVector\u001b[39m(\u001b[32m\"4#51r#absent#na\"\u001b[39m, \u001b[32m\"5#62v#absent#na\"\u001b[39m),\n",
       "  true -> \u001b[33mVector\u001b[39m(\n",
       "    \u001b[32m\"3#41r#present#original\"\u001b[39m,\n",
       "    \u001b[32m\"6#81v#present#original\"\u001b[39m,\n",
       "    \u001b[32m\"7#92v#present#original\"\u001b[39m,\n",
       "    \u001b[32m\"8#103r#present#original\"\u001b[39m,\n",
       "    \u001b[32m\"9#114r#present#original\"\u001b[39m,\n",
       "    \u001b[32m\"10#129r#present#original\"\u001b[39m,\n",
       "    \u001b[32m\"11#141v#present#original\"\u001b[39m,\n",
       "    \u001b[32m\"12#159r#present#different\"\u001b[39m,\n",
       "    \u001b[32m\"13#169r#present#original\"\u001b[39m,\n",
       "    \u001b[32m\"14#186v#present#original\"\u001b[39m\n",
       "  )\n",
       ")"
      ]
     },
     "execution_count": 5,
     "metadata": {},
     "output_type": "execute_result"
    }
   ],
   "source": [
    "val grouped = vb.groupBy( ln => ln.contains(\"#present#\"))\n",
    "// output is a map: an association btwn one value and another \n",
    "// here, the associaton is between a boolean and a vector of strings "
   ]
  },
  {
   "cell_type": "markdown",
   "metadata": {},
   "source": [
    "Notice the result: we got a *Map*.  Here's how we could use the Map directly: we supply one Boolean key, and we get its corresponding Vector of Strings."
   ]
  },
  {
   "cell_type": "code",
   "execution_count": 6,
   "metadata": {},
   "outputs": [
    {
     "data": {
      "text/plain": [
       "\u001b[36mres5_0\u001b[39m: \u001b[32mVector\u001b[39m[\u001b[32mString\u001b[39m] = \u001b[33mVector\u001b[39m(\n",
       "  \u001b[32m\"3#41r#present#original\"\u001b[39m,\n",
       "  \u001b[32m\"6#81v#present#original\"\u001b[39m,\n",
       "  \u001b[32m\"7#92v#present#original\"\u001b[39m,\n",
       "  \u001b[32m\"8#103r#present#original\"\u001b[39m,\n",
       "  \u001b[32m\"9#114r#present#original\"\u001b[39m,\n",
       "  \u001b[32m\"10#129r#present#original\"\u001b[39m,\n",
       "  \u001b[32m\"11#141v#present#original\"\u001b[39m,\n",
       "  \u001b[32m\"12#159r#present#different\"\u001b[39m,\n",
       "  \u001b[32m\"13#169r#present#original\"\u001b[39m,\n",
       "  \u001b[32m\"14#186v#present#original\"\u001b[39m\n",
       ")\n",
       "\u001b[36mres5_1\u001b[39m: \u001b[32mVector\u001b[39m[\u001b[32mString\u001b[39m] = \u001b[33mVector\u001b[39m(\u001b[32m\"4#51r#absent#na\"\u001b[39m, \u001b[32m\"5#62v#absent#na\"\u001b[39m)"
      ]
     },
     "execution_count": 6,
     "metadata": {},
     "output_type": "execute_result"
    }
   ],
   "source": [
    "grouped(true)\n",
    "grouped(false)"
   ]
  },
  {
   "cell_type": "code",
   "execution_count": 7,
   "metadata": {},
   "outputs": [
    {
     "data": {
      "text/plain": [
       "\u001b[36mres6_0\u001b[39m: \u001b[32mInt\u001b[39m = \u001b[32m10\u001b[39m\n",
       "\u001b[36mres6_1\u001b[39m: \u001b[32mInt\u001b[39m = \u001b[32m2\u001b[39m"
      ]
     },
     "execution_count": 7,
     "metadata": {},
     "output_type": "execute_result"
    }
   ],
   "source": [
    "grouped(true).size\n",
    "grouped(false).size"
   ]
  },
  {
   "cell_type": "markdown",
   "metadata": {},
   "source": [
    "## Small group challenge\n",
    "\n",
    "Can you do the same thing for Upsilon 1.1?"
   ]
  },
  {
   "cell_type": "code",
   "execution_count": 8,
   "metadata": {},
   "outputs": [
    {
     "data": {
      "text/plain": [
       "\u001b[36me3delimited\u001b[39m: \u001b[32mString\u001b[39m = \u001b[32m\"\"\"book#page#metricalsummary#hand\n",
       "2#18r#absent#na\n",
       "3#40r#present#different\n",
       "4#50r#absent#na\n",
       "6#79v#present#original\n",
       "7#89v#present#original\n",
       "8#98r#present#original\n",
       "9#109r#present#original\n",
       "10#124r#absent#na\n",
       "11#136v#present#original\n",
       "12#159r#absent#na\"\"\"\u001b[39m"
      ]
     },
     "execution_count": 8,
     "metadata": {},
     "output_type": "execute_result"
    }
   ],
   "source": [
    "val e3delimited = \"\"\"book#page#metricalsummary#hand\n",
    "2#18r#absent#na\n",
    "3#40r#present#different\n",
    "4#50r#absent#na\n",
    "6#79v#present#original\n",
    "7#89v#present#original\n",
    "8#98r#present#original\n",
    "9#109r#present#original\n",
    "10#124r#absent#na\n",
    "11#136v#present#original\n",
    "12#159r#absent#na\"\"\""
   ]
  },
  {
   "cell_type": "code",
   "execution_count": 9,
   "metadata": {},
   "outputs": [
    {
     "data": {
      "text/plain": [
       "\u001b[36me3\u001b[39m: \u001b[32mVector\u001b[39m[\u001b[32mString\u001b[39m] = \u001b[33mVector\u001b[39m(\n",
       "  \u001b[32m\"2#18r#absent#na\"\u001b[39m,\n",
       "  \u001b[32m\"3#40r#present#different\"\u001b[39m,\n",
       "  \u001b[32m\"4#50r#absent#na\"\u001b[39m,\n",
       "  \u001b[32m\"6#79v#present#original\"\u001b[39m,\n",
       "  \u001b[32m\"7#89v#present#original\"\u001b[39m,\n",
       "  \u001b[32m\"8#98r#present#original\"\u001b[39m,\n",
       "  \u001b[32m\"9#109r#present#original\"\u001b[39m,\n",
       "  \u001b[32m\"10#124r#absent#na\"\u001b[39m,\n",
       "  \u001b[32m\"11#136v#present#original\"\u001b[39m,\n",
       "  \u001b[32m\"12#159r#absent#na\"\u001b[39m\n",
       ")"
      ]
     },
     "execution_count": 9,
     "metadata": {},
     "output_type": "execute_result"
    }
   ],
   "source": [
    "val e3 = e3delimited.split(\"\\n\").toVector.tail"
   ]
  },
  {
   "cell_type": "code",
   "execution_count": 10,
   "metadata": {},
   "outputs": [
    {
     "data": {
      "text/plain": [
       "\u001b[36me3Grouped\u001b[39m: \u001b[32mMap\u001b[39m[\u001b[32mBoolean\u001b[39m, \u001b[32mVector\u001b[39m[\u001b[32mString\u001b[39m]] = \u001b[33mMap\u001b[39m(\n",
       "  false -> \u001b[33mVector\u001b[39m(\n",
       "    \u001b[32m\"2#18r#absent#na\"\u001b[39m,\n",
       "    \u001b[32m\"4#50r#absent#na\"\u001b[39m,\n",
       "    \u001b[32m\"10#124r#absent#na\"\u001b[39m,\n",
       "    \u001b[32m\"12#159r#absent#na\"\u001b[39m\n",
       "  ),\n",
       "  true -> \u001b[33mVector\u001b[39m(\n",
       "    \u001b[32m\"3#40r#present#different\"\u001b[39m,\n",
       "    \u001b[32m\"6#79v#present#original\"\u001b[39m,\n",
       "    \u001b[32m\"7#89v#present#original\"\u001b[39m,\n",
       "    \u001b[32m\"8#98r#present#original\"\u001b[39m,\n",
       "    \u001b[32m\"9#109r#present#original\"\u001b[39m,\n",
       "    \u001b[32m\"11#136v#present#original\"\u001b[39m\n",
       "  )\n",
       ")"
      ]
     },
     "execution_count": 10,
     "metadata": {},
     "output_type": "execute_result"
    }
   ],
   "source": [
    "val e3Grouped = e3.groupBy( ln => ln.contains(\"#present#\"))"
   ]
  },
  {
   "cell_type": "code",
   "execution_count": 11,
   "metadata": {},
   "outputs": [
    {
     "data": {
      "text/plain": [
       "\u001b[36mres10_0\u001b[39m: \u001b[32mVector\u001b[39m[\u001b[32mString\u001b[39m] = \u001b[33mVector\u001b[39m(\n",
       "  \u001b[32m\"3#40r#present#different\"\u001b[39m,\n",
       "  \u001b[32m\"6#79v#present#original\"\u001b[39m,\n",
       "  \u001b[32m\"7#89v#present#original\"\u001b[39m,\n",
       "  \u001b[32m\"8#98r#present#original\"\u001b[39m,\n",
       "  \u001b[32m\"9#109r#present#original\"\u001b[39m,\n",
       "  \u001b[32m\"11#136v#present#original\"\u001b[39m\n",
       ")\n",
       "\u001b[36mres10_1\u001b[39m: \u001b[32mVector\u001b[39m[\u001b[32mString\u001b[39m] = \u001b[33mVector\u001b[39m(\n",
       "  \u001b[32m\"2#18r#absent#na\"\u001b[39m,\n",
       "  \u001b[32m\"4#50r#absent#na\"\u001b[39m,\n",
       "  \u001b[32m\"10#124r#absent#na\"\u001b[39m,\n",
       "  \u001b[32m\"12#159r#absent#na\"\u001b[39m\n",
       ")"
      ]
     },
     "execution_count": 11,
     "metadata": {},
     "output_type": "execute_result"
    }
   ],
   "source": [
    "e3Grouped(true)\n",
    "e3Grouped(false)"
   ]
  },
  {
   "cell_type": "code",
   "execution_count": 12,
   "metadata": {},
   "outputs": [
    {
     "data": {
      "text/plain": [
       "\u001b[36mres11_0\u001b[39m: \u001b[32mInt\u001b[39m = \u001b[32m6\u001b[39m\n",
       "\u001b[36mres11_1\u001b[39m: \u001b[32mInt\u001b[39m = \u001b[32m4\u001b[39m"
      ]
     },
     "execution_count": 12,
     "metadata": {},
     "output_type": "execute_result"
    }
   ],
   "source": [
    "e3Grouped(true).size\n",
    "e3Grouped(false).size"
   ]
  },
  {
   "cell_type": "code",
   "execution_count": null,
   "metadata": {},
   "outputs": [],
   "source": []
  }
 ],
 "metadata": {
  "kernelspec": {
   "display_name": "Scala (2.12)",
   "language": "scala",
   "name": "scala212"
  },
  "language_info": {
   "codemirror_mode": "text/x-scala",
   "file_extension": ".scala",
   "mimetype": "text/x-scala",
   "name": "scala",
   "nbconvert_exporter": "script",
   "version": "2.12.10"
  }
 },
 "nbformat": 4,
 "nbformat_minor": 4
}
