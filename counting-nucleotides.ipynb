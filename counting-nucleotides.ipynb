{
 "cells": [
  {
   "cell_type": "markdown",
   "metadata": {},
   "source": [
    "## Counting nucleotides\n",
    "\n",
    "\n"
   ]
  },
  {
   "cell_type": "markdown",
   "metadata": {},
   "source": [
    "Natalie DiMattia and Anne-Catherine Schaaf\n",
    "\n",
   ]
  },
  {
   "cell_type": "markdown",
   "metadata": {},
   "source": [
    "### Configure notebook for custom libraries\n",
    "\n",
    "We'll learn how to do this soon."
   ]
  },
  {
   "cell_type": "code",
   "execution_count": 1,
   "metadata": {},
   "outputs": [
    {
     "data": {
      "text/plain": [
       "\u001b[36mpersonalBintray\u001b[39m: \u001b[32mcoursierapi\u001b[39m.\u001b[32mMavenRepository\u001b[39m = MavenRepository(https://dl.bintray.com/neelsmith/maven)"
      ]
     },
     "execution_count": 1,
     "metadata": {},
     "output_type": "execute_result"
    }
   ],
   "source": [
    "val personalBintray = coursierapi.MavenRepository.of(\"https://dl.bintray.com/neelsmith/maven\")\n",
    "interp.repositories() ++= Seq(personalBintray)\n"
   ]
  },
  {
   "cell_type": "code",
   "execution_count": 2,
   "metadata": {},
   "outputs": [
    {
     "name": "stderr",
     "output_type": "stream",
     "text": [
      "Downloading https://repo1.maven.org/maven2/edu/holycross/shot/nexus_2.12/1.4.1/nexus_2.12-1.4.1.pom\n",
      "Downloaded https://repo1.maven.org/maven2/edu/holycross/shot/nexus_2.12/1.4.1/nexus_2.12-1.4.1.pom\n",
      "Downloading https://repo1.maven.org/maven2/edu/holycross/shot/nexus_2.12/1.4.1/nexus_2.12-1.4.1.pom.sha1\n",
      "Downloaded https://repo1.maven.org/maven2/edu/holycross/shot/nexus_2.12/1.4.1/nexus_2.12-1.4.1.pom.sha1\n",
      "Downloading https://dl.bintray.com/neelsmith/maven/edu/holycross/shot/nexus_2.12/1.4.1/nexus_2.12-1.4.1.pom\n",
      "Downloaded https://dl.bintray.com/neelsmith/maven/edu/holycross/shot/nexus_2.12/1.4.1/nexus_2.12-1.4.1.pom\n",
      "Downloading https://repo1.maven.org/maven2/org/wvlet/airframe/airframe-log_2.12/20.5.2/airframe-log_2.12-20.5.2.pom\n",
      "Downloaded https://repo1.maven.org/maven2/org/wvlet/airframe/airframe-log_2.12/20.5.2/airframe-log_2.12-20.5.2.pom\n",
      "Downloading https://repo1.maven.org/maven2/org/scala-lang/scala-library/2.12.11/scala-library-2.12.11.pom\n",
      "Downloading https://repo1.maven.org/maven2/ch/qos/logback/logback-core/1.2.3/logback-core-1.2.3.pom\n",
      "Downloading https://repo1.maven.org/maven2/org/scala-lang/modules/scala-collection-compat_2.12/2.1.6/scala-collection-compat_2.12-2.1.6.pom\n",
      "Downloaded https://repo1.maven.org/maven2/org/scala-lang/scala-library/2.12.11/scala-library-2.12.11.pom\n",
      "Downloaded https://repo1.maven.org/maven2/ch/qos/logback/logback-core/1.2.3/logback-core-1.2.3.pom\n",
      "Downloaded https://repo1.maven.org/maven2/org/scala-lang/modules/scala-collection-compat_2.12/2.1.6/scala-collection-compat_2.12-2.1.6.pom\n",
      "Downloading https://repo1.maven.org/maven2/ch/qos/logback/logback-parent/1.2.3/logback-parent-1.2.3.pom\n",
      "Downloaded https://repo1.maven.org/maven2/ch/qos/logback/logback-parent/1.2.3/logback-parent-1.2.3.pom\n",
      "Downloading https://repo1.maven.org/maven2/org/wvlet/airframe/airframe-log_2.12/20.5.2/airframe-log_2.12-20.5.2.jar\n",
      "Downloading https://repo1.maven.org/maven2/org/scala-lang/modules/scala-collection-compat_2.12/2.1.6/scala-collection-compat_2.12-2.1.6.jar\n",
      "Downloading https://repo1.maven.org/maven2/org/scala-lang/scala-library/2.12.11/scala-library-2.12.11-sources.jar\n",
      "Downloading https://repo1.maven.org/maven2/org/wvlet/airframe/airframe-log_2.12/20.5.2/airframe-log_2.12-20.5.2-sources.jar\n",
      "Downloading https://repo1.maven.org/maven2/ch/qos/logback/logback-core/1.2.3/logback-core-1.2.3.jar\n",
      "Downloading https://repo1.maven.org/maven2/org/scala-lang/modules/scala-collection-compat_2.12/2.1.6/scala-collection-compat_2.12-2.1.6-sources.jar\n",
      "Downloaded https://repo1.maven.org/maven2/org/scala-lang/modules/scala-collection-compat_2.12/2.1.6/scala-collection-compat_2.12-2.1.6-sources.jar\n",
      "Downloading https://repo1.maven.org/maven2/ch/qos/logback/logback-core/1.2.3/logback-core-1.2.3-sources.jar\n",
      "Downloaded https://repo1.maven.org/maven2/org/wvlet/airframe/airframe-log_2.12/20.5.2/airframe-log_2.12-20.5.2-sources.jar\n",
      "Downloading https://dl.bintray.com/neelsmith/maven/edu/holycross/shot/nexus_2.12/1.4.1/nexus_2.12-1.4.1.jar\n",
      "Downloaded https://dl.bintray.com/neelsmith/maven/edu/holycross/shot/nexus_2.12/1.4.1/nexus_2.12-1.4.1.jar\n",
      "Downloading https://dl.bintray.com/neelsmith/maven/edu/holycross/shot/nexus_2.12/1.4.1/nexus_2.12-1.4.1-sources.jar\n",
      "Downloaded https://repo1.maven.org/maven2/org/wvlet/airframe/airframe-log_2.12/20.5.2/airframe-log_2.12-20.5.2.jar\n",
      "Downloaded https://repo1.maven.org/maven2/org/scala-lang/modules/scala-collection-compat_2.12/2.1.6/scala-collection-compat_2.12-2.1.6.jar\n",
      "Downloaded https://dl.bintray.com/neelsmith/maven/edu/holycross/shot/nexus_2.12/1.4.1/nexus_2.12-1.4.1-sources.jar\n",
      "Downloaded https://repo1.maven.org/maven2/ch/qos/logback/logback-core/1.2.3/logback-core-1.2.3.jar\n",
      "Downloaded https://repo1.maven.org/maven2/ch/qos/logback/logback-core/1.2.3/logback-core-1.2.3-sources.jar\n",
      "Downloaded https://repo1.maven.org/maven2/org/scala-lang/scala-library/2.12.11/scala-library-2.12.11-sources.jar\n"
     ]
    },
    {
     "data": {
      "text/plain": [
       "\u001b[32mimport \u001b[39m\u001b[36m$ivy.$                                \u001b[39m"
      ]
     },
     "execution_count": 2,
     "metadata": {},
     "output_type": "execute_result"
    }
   ],
   "source": [
    "import $ivy.`edu.holycross.shot::nexus:1.4.1`"
   ]
  },
  {
   "cell_type": "markdown",
   "metadata": {},
   "source": [
    "### Load NEXUS data from a URL using `nexus` library\n"
   ]
  },
  {
   "cell_type": "code",
   "execution_count": 3,
   "metadata": {},
   "outputs": [
    {
     "data": {
      "text/plain": [
       "\u001b[32mimport \u001b[39m\u001b[36medu.holycross.shot.nexus._\n",
       "\u001b[39m\n",
       "\u001b[36mdataUrl\u001b[39m: \u001b[32mString\u001b[39m = \u001b[32m\"https://raw.githubusercontent.com/neelsmith/nexus/master/jvm/src/test/resources/CaveTrechineCOI.nex\"\u001b[39m\n",
       "\u001b[36mnexus\u001b[39m: \u001b[32mNexusData\u001b[39m = \u001b[33mNexusData\u001b[39m(\n",
       "  \u001b[33mVector\u001b[39m(\n",
       "    \u001b[33mNexusBlock\u001b[39m(\n",
       "      \u001b[32m\"TAXA\"\u001b[39m,\n",
       "      \u001b[33mVector\u001b[39m(\n",
       "        \u001b[33mNexusCommand\u001b[39m(\u001b[32m\"TITLE\"\u001b[39m, \u001b[32m\"Taxa\"\u001b[39m),\n",
       "        \u001b[33mNexusCommand\u001b[39m(\u001b[32m\"DIMENSIONS\"\u001b[39m, \u001b[32m\"NTAX=176\"\u001b[39m),\n",
       "        \u001b[33mNexusCommand\u001b[39m(\n",
       "          \u001b[32m\"TAXLABELS\"\u001b[39m,\n",
       "          \u001b[32m\"240C 257C 259C 264C 265C 280C 285C 287C 288C 289C 293C 295C 296C 297C 298C 299C 300C 304C 305C 310C 313C 314C 316C 318C 322C 326C 332C 341C 343C 344C 350C 354C 361C 365C 367C 369C 370C 372C 374C 377C 385C 404C 405C 407C 409C 410C 411C 412C 415C 416C 417C 419C 422C 426C 429C 434C 453C 455C 463C 466C 469C 472C 475C 476C 477C 479C 481C 482C 486C 487C 489C 490C 492C 495C 501C 502C 503C 505C 506C 509C 510C 512C 513C 514C 518C 520C 521C 522C 523C 526C 527C 531C 532C 538C 541C 557C 559C 565C 570C 571C 572C 573C 574C 576C 578C 580C 582C 584C 587C 588C 590C 591C 593C 594C 596C 599C 601C 604C 608C 610C 620C 622C 625C 626C 629C 632C 633Cnew 636C 640C 641C 650C 651C 652C 653C 654C 655C 656C 657C 658C 659C 660C 664C 665C 666C 669C 677C 678C 679C 682C 685C 687C 689C 736C 747C 751C 756C 758C 765C 767C 770C 771C 772C 773C 776C 778C 781C 783C AmeroduvaliusWindCv AmeroduvialusPIN20140115 AmeroduvialusPOU20140114 Blemusdiscus Paraphaenopsbreuilianus Trechoblemusmicros Trechus Trechusrubens Trechuscoloradensis\"\u001b[39m\n",
       "        )\n",
       "      )\n",
       "    ),\n",
       "    \u001b[33mNexusBlock\u001b[39m(\n",
       "      \u001b[32m\"CHARACTERS\"\u001b[39m,\n",
       "      \u001b[33mVector\u001b[39m(\n",
       "        \u001b[33mNexusCommand\u001b[39m(\u001b[32m\"TITLE\"\u001b[39m, \u001b[32m\"'Matrix in file \\\"CavebeetleCOInewallv11.nex\\\"'\"\u001b[39m),\n",
       "        \u001b[33mNexusCommand\u001b[39m(\u001b[32m\"DIMENSIONS\"\u001b[39m, \u001b[32m\"NCHAR=848\"\u001b[39m),\n",
       "        \u001b[33mNexusCommand\u001b[39m(\u001b[32m\"FORMAT\"\u001b[39m, \u001b[32m\"DATATYPE = DNA INTERLEAVE GAP = - MISSING = ?\"\u001b[39m),\n",
       "        \u001b[33mNexusCommand\u001b[39m(\n",
       "          \u001b[32m\"MATRIX\"\u001b[39m,\n",
       "          \u001b[32m\"\"\"240C                      ??????????????????????????????????????????????????\n",
       "\t257C                      ??????????????????????????????????????????????????\n",
       "\t259C                      ??????????????????????????????????????????????????\n",
       "\t264C                      ??????????????????????????????????????????????????\n",
       "\u001b[39m...\n",
       "\u001b[36mm\u001b[39m: \u001b[32mNexusMatrix\u001b[39m = \u001b[33mNexusMatrix\u001b[39m(\n",
       "  \u001b[33mVector\u001b[39m(\n",
       "    \u001b[33mNexusCharacters\u001b[39m(\n",
       "      \u001b[32m\"240C\"\u001b[39m,\n",
       "      \u001b[32m\"??????????????????????????????????????????????????\"\u001b[39m\n",
       "    ),\n",
       "    \u001b[33mNexusCharacters\u001b[39m(\n",
       "      \u001b[32m\"257C\"\u001b[39m,\n",
       "      \u001b[32m\"??????????????????????????????????????????????????\"\u001b[39m\n",
       "    ),\n",
       "    \u001b[33mNexusCharacters\u001b[39m(\n",
       "      \u001b[32m\"259C\"\u001b[39m,\n",
       "      \u001b[32m\"??????????????????????????????????????????????????\"\u001b[39m\n",
       "    ),\n",
       "    \u001b[33mNexusCharacters\u001b[39m(\n",
       "      \u001b[32m\"264C\"\u001b[39m,\n",
       "      \u001b[32m\"??????????????????????????????????????????????????\"\u001b[39m\n",
       "    ),\n",
       "    \u001b[33mNexusCharacters\u001b[39m(\n",
       "      \u001b[32m\"265C\"\u001b[39m,\n",
       "      \u001b[32m\"TCATTTTTTGACCCCGCTGGAGGAGGGGACCCAATTCTTTACCAACATCT\"\u001b[39m\n",
       "    ),\n",
       "    \u001b[33mNexusCharacters\u001b[39m(\n",
       "      \u001b[32m\"280C\"\u001b[39m,\n",
       "      \u001b[32m\"??????????????????????????????????????????????????\"\u001b[39m\n",
       "    ),\n",
       "    \u001b[33mNexusCharacters\u001b[39m(\n",
       "      \u001b[32m\"285C\"\u001b[39m,\n",
       "      \u001b[32m\"??????????????????????????????????????????CAACATTT\"\u001b[39m\n",
       "    ),\n",
       "    \u001b[33mNexusCharacters\u001b[39m(\n",
       "      \u001b[32m\"287C\"\u001b[39m,\n",
       "      \u001b[32m\"??????????????????????????????????????????????????\"\u001b[39m\n",
       "    ),\n",
       "    \u001b[33mNexusCharacters\u001b[39m(\n",
       "      \u001b[32m\"288C\"\u001b[39m,\n",
       "      \u001b[32m\"??????????????????????????????????????????CAACATTT\"\u001b[39m\n",
       "    ),\n",
       "    \u001b[33mNexusCharacters\u001b[39m(\n",
       "..."
      ]
     },
     "execution_count": 3,
     "metadata": {},
     "output_type": "execute_result"
    }
   ],
   "source": [
    "import edu.holycross.shot.nexus._\n",
    "val dataUrl = \"https://raw.githubusercontent.com/neelsmith/nexus/master/jvm/src/test/resources/CaveTrechineCOI.nex\"\n",
    "val nexus = NexusSource.fromUrl(dataUrl)\n",
    "val m = nexus.matrix"
   ]
  },
  {
   "cell_type": "code",
   "execution_count": 6,
   "metadata": {},
   "outputs": [
    {
     "data": {
      "text/plain": [
       "\u001b[36mres5_0\u001b[39m: \u001b[32mVector\u001b[39m[\u001b[32mString\u001b[39m] = \u001b[33mVector\u001b[39m(\n",
       "  \u001b[32m\"??????????????????????????????????????????????????\"\u001b[39m,\n",
       "  \u001b[32m\"??????????????????????????????????????????????????\"\u001b[39m,\n",
       "  \u001b[32m\"??????????????????????????????????????????????????\"\u001b[39m,\n",
       "  \u001b[32m\"??????????????????????????????????????????????????\"\u001b[39m,\n",
       "  \u001b[32m\"TCATTTTTTGACCCCGCTGGAGGAGGGGACCCAATTCTTTACCAACATCT\"\u001b[39m,\n",
       "  \u001b[32m\"??????????????????????????????????????????????????\"\u001b[39m,\n",
       "  \u001b[32m\"??????????????????????????????????????????CAACATTT\"\u001b[39m,\n",
       "  \u001b[32m\"??????????????????????????????????????????????????\"\u001b[39m,\n",
       "  \u001b[32m\"??????????????????????????????????????????CAACATTT\"\u001b[39m,\n",
       "  \u001b[32m\"??????????????????????????????????????????????????\"\u001b[39m,\n",
       "  \u001b[32m\"??????????????????????????????????????????????????\"\u001b[39m,\n",
       "  \u001b[32m\"??????????????????????????????????????????????????\"\u001b[39m,\n",
       "  \u001b[32m\"??????????????????????????????????????????????????\"\u001b[39m,\n",
       "  \u001b[32m\"??????????????????????????????????????????????????\"\u001b[39m,\n",
       "  \u001b[32m\"??????????????????????????????????????????????????\"\u001b[39m,\n",
       "  \u001b[32m\"??????????????????????????????????????????????????\"\u001b[39m,\n",
       "  \u001b[32m\"??????????????????????????????????????????????????\"\u001b[39m,\n",
       "  \u001b[32m\"??????????????????????????????????????????????????\"\u001b[39m,\n",
       "  \u001b[32m\"??????????????????????????????????????????????????\"\u001b[39m,\n",
       "  \u001b[32m\"??????????????????????????????????????????????????\"\u001b[39m,\n",
       "  \u001b[32m\"??????????????????????????????????????????????????\"\u001b[39m,\n",
       "  \u001b[32m\"??????????????????????????????????????????????????\"\u001b[39m,\n",
       "  \u001b[32m\"??????????????????????????????????????????????????\"\u001b[39m,\n",
       "  \u001b[32m\"??????????????????????????????????????????????????\"\u001b[39m,\n",
       "  \u001b[32m\"??????????????????????????????????????????????????\"\u001b[39m,\n",
       "  \u001b[32m\"??????????????????????????????????????????????????\"\u001b[39m,\n",
       "  \u001b[32m\"??????????????????????????????????????????????????\"\u001b[39m,\n",
       "  \u001b[32m\"??????????????????????????????????????????????????\"\u001b[39m,\n",
       "  \u001b[32m\"TCATTTTTTGATCCTGCAGGAGGGGGAGACCCAATTCTTTACCAACATTT\"\u001b[39m,\n",
       "  \u001b[32m\"TCATTTTTTGACCCTGCAGGAGGGGGAGACCCAATTCTTTACCAACATTT\"\u001b[39m,\n",
       "  \u001b[32m\"??????????????????????????????????????????????????\"\u001b[39m,\n",
       "  \u001b[32m\"????????????????????????????????????????????????TT\"\u001b[39m,\n",
       "  \u001b[32m\"??????????????????????????????????????????????????\"\u001b[39m,\n",
       "  \u001b[32m\"??????????????????????????????????????????????????\"\u001b[39m,\n",
       "  \u001b[32m\"??????????????????????????????????????????????????\"\u001b[39m,\n",
       "  \u001b[32m\"TCATTTTTTGACCCGGCTGGAGGGGGKGACCCTATTCTCTATCAACATTT\"\u001b[39m,\n",
       "  \u001b[32m\"TCATTTTTTGACCCTGCCGGAGGAGGGGACCCAATTCTTTATCAACATTT\"\u001b[39m,\n",
       "  \u001b[32m\"TCATTTTTTGATCCAGCTGGAGGAGGTGATCCTATTCTTTACCAACACTT\"\u001b[39m,\n",
       "...\n",
       "\u001b[36mres5_1\u001b[39m: \u001b[32mInt\u001b[39m = \u001b[32m2992\u001b[39m\n",
       "\u001b[36mres5_2\u001b[39m: \u001b[32mVector\u001b[39m[\u001b[32mString\u001b[39m] = \u001b[33mVector\u001b[39m(\n",
       "  \u001b[32m\"??????????????????????????????????????????????????\"\u001b[39m,\n",
       "  \u001b[32m\"??????????????????????????????????????????????????\"\u001b[39m,\n",
       "  \u001b[32m\"??????????????????????????????????????????????????\"\u001b[39m,\n",
       "  \u001b[32m\"??????????????????????????????????????????????????\"\u001b[39m,\n",
       "  \u001b[32m\"TCATTTTTTGACCCCGCTGGAGGAGGGGACCCAATTCTTTACCAACATCT\"\u001b[39m,\n",
       "  \u001b[32m\"??????????????????????????????????????????????????\"\u001b[39m,\n",
       "  \u001b[32m\"??????????????????????????????????????????CAACATTT\"\u001b[39m,\n",
       "  \u001b[32m\"??????????????????????????????????????????????????\"\u001b[39m,\n",
       "  \u001b[32m\"??????????????????????????????????????????CAACATTT\"\u001b[39m,\n",
       "  \u001b[32m\"??????????????????????????????????????????????????\"\u001b[39m,\n",
       "  \u001b[32m\"??????????????????????????????????????????????????\"\u001b[39m,\n",
       "  \u001b[32m\"??????????????????????????????????????????????????\"\u001b[39m,\n",
       "  \u001b[32m\"??????????????????????????????????????????????????\"\u001b[39m,\n",
       "  \u001b[32m\"??????????????????????????????????????????????????\"\u001b[39m,\n",
       "  \u001b[32m\"??????????????????????????????????????????????????\"\u001b[39m\n",
       ")"
      ]
     },
     "execution_count": 6,
     "metadata": {},
     "output_type": "execute_result"
    }
   ],
   "source": [
    "m.data\n",
    "m.data.size\n",
    "m.data.take(15)"
   ]
  },
  {
   "cell_type": "code",
   "execution_count": 7,
   "metadata": {},
   "outputs": [
    {
     "data": {
      "text/plain": [
       "\u001b[36mres6\u001b[39m: \u001b[32mVector\u001b[39m[\u001b[32mString\u001b[39m] = \u001b[33mVector\u001b[39m(\n",
       "  \u001b[32m\"240C\"\u001b[39m,\n",
       "  \u001b[32m\"257C\"\u001b[39m,\n",
       "  \u001b[32m\"259C\"\u001b[39m,\n",
       "  \u001b[32m\"264C\"\u001b[39m,\n",
       "  \u001b[32m\"265C\"\u001b[39m,\n",
       "  \u001b[32m\"280C\"\u001b[39m,\n",
       "  \u001b[32m\"285C\"\u001b[39m,\n",
       "  \u001b[32m\"287C\"\u001b[39m,\n",
       "  \u001b[32m\"288C\"\u001b[39m,\n",
       "  \u001b[32m\"289C\"\u001b[39m,\n",
       "  \u001b[32m\"293C\"\u001b[39m,\n",
       "  \u001b[32m\"295C\"\u001b[39m,\n",
       "  \u001b[32m\"296C\"\u001b[39m,\n",
       "  \u001b[32m\"297C\"\u001b[39m,\n",
       "  \u001b[32m\"298C\"\u001b[39m,\n",
       "  \u001b[32m\"299C\"\u001b[39m,\n",
       "  \u001b[32m\"300C\"\u001b[39m,\n",
       "  \u001b[32m\"304C\"\u001b[39m,\n",
       "  \u001b[32m\"305C\"\u001b[39m,\n",
       "  \u001b[32m\"310C\"\u001b[39m,\n",
       "  \u001b[32m\"313C\"\u001b[39m,\n",
       "  \u001b[32m\"314C\"\u001b[39m,\n",
       "  \u001b[32m\"316C\"\u001b[39m,\n",
       "  \u001b[32m\"318C\"\u001b[39m,\n",
       "  \u001b[32m\"322C\"\u001b[39m,\n",
       "  \u001b[32m\"326C\"\u001b[39m,\n",
       "  \u001b[32m\"332C\"\u001b[39m,\n",
       "  \u001b[32m\"341C\"\u001b[39m,\n",
       "  \u001b[32m\"343C\"\u001b[39m,\n",
       "  \u001b[32m\"344C\"\u001b[39m,\n",
       "  \u001b[32m\"350C\"\u001b[39m,\n",
       "  \u001b[32m\"354C\"\u001b[39m,\n",
       "  \u001b[32m\"361C\"\u001b[39m,\n",
       "  \u001b[32m\"365C\"\u001b[39m,\n",
       "  \u001b[32m\"367C\"\u001b[39m,\n",
       "  \u001b[32m\"369C\"\u001b[39m,\n",
       "  \u001b[32m\"370C\"\u001b[39m,\n",
       "  \u001b[32m\"372C\"\u001b[39m,\n",
       "..."
      ]
     },
     "execution_count": 7,
     "metadata": {},
     "output_type": "execute_result"
    }
   ],
   "source": [
    "m.labels"
   ]
  },
  {
   "cell_type": "code",
   "execution_count": 8,
   "metadata": {},
   "outputs": [
    {
     "data": {
      "text/plain": [
       "\u001b[36mres7\u001b[39m: \u001b[32mString\u001b[39m = \u001b[32m\"??????????????????????????????????????????????????\"\u001b[39m"
      ]
     },
     "execution_count": 8,
     "metadata": {},
     "output_type": "execute_result"
    }
   ],
   "source": [
    "m.data.head"
   ]
  },
  {
   "cell_type": "code",
   "execution_count": 12,
   "metadata": {},
   "outputs": [
    {
     "data": {
      "text/plain": [
       "\u001b[36mres11_0\u001b[39m: \u001b[32mString\u001b[39m = \u001b[32m\"TCATTTTTTGACCCTGCCGGAGGAGGAGACCCAATTCTTTACCAACATTT\"\u001b[39m\n",
       "\u001b[36mres11_1\u001b[39m: \u001b[32mInt\u001b[39m = \u001b[32m50\u001b[39m\n",
       "\u001b[36mres11_2\u001b[39m: \u001b[32mString\u001b[39m = \u001b[32m\"TCA\"\u001b[39m"
      ]
     },
     "execution_count": 12,
     "metadata": {},
     "output_type": "execute_result"
    }
   ],
   "source": [
    "m.data(100)\n",
    "m.data(100).size\n",
    "m.data(100).slice(0,3)"
   ]
  },
  {
   "cell_type": "code",
   "execution_count": 13,
   "metadata": {},
   "outputs": [
    {
     "data": {
      "text/plain": [
       "\u001b[36mOber265c\u001b[39m: \u001b[32mString\u001b[39m = \u001b[32m\"TCATTTTTTGACCCCGCTGGAGGAGGGGACCCAATTCTTTACCAACATCT\"\u001b[39m"
      ]
     },
     "execution_count": 13,
     "metadata": {},
     "output_type": "execute_result"
    }
   ],
   "source": [
    "val Ober265c = m.data(4)"
   ]
  },
  {
   "cell_type": "code",
   "execution_count": 17,
   "metadata": {},
   "outputs": [
    {
     "data": {
      "text/plain": [
       "\u001b[36mres16\u001b[39m: \u001b[32mVector\u001b[39m[\u001b[32mString\u001b[39m] = \u001b[33mVector\u001b[39m(\n",
       "  \u001b[32m\"TC\"\u001b[39m,\n",
       "  \u001b[32m\"TTTTTTG\"\u001b[39m,\n",
       "  \u001b[32m\"CCCCGCTGG\"\u001b[39m,\n",
       "  \u001b[32m\"GG\"\u001b[39m,\n",
       "  \u001b[32m\"GGGG\"\u001b[39m,\n",
       "  \u001b[32m\"CCC\"\u001b[39m,\n",
       "  \u001b[32m\"\"\u001b[39m,\n",
       "  \u001b[32m\"TTCTTT\"\u001b[39m,\n",
       "  \u001b[32m\"CC\"\u001b[39m,\n",
       "  \u001b[32m\"\"\u001b[39m,\n",
       "  \u001b[32m\"C\"\u001b[39m,\n",
       "  \u001b[32m\"TCT\"\u001b[39m\n",
       ")"
      ]
     },
     "execution_count": 17,
     "metadata": {},
     "output_type": "execute_result"
    }
   ],
   "source": [
    "Ober265c.split(\"A\").toVector"
   ]
  },
  {
   "cell_type": "code",
   "execution_count": 18,
   "metadata": {},
   "outputs": [
    {
     "data": {
      "text/plain": [
       "\u001b[36mres17\u001b[39m: \u001b[32mVector\u001b[39m[\u001b[32mString\u001b[39m] = \u001b[33mVector\u001b[39m(\n",
       "  \u001b[32m\"TC\"\u001b[39m,\n",
       "  \u001b[32m\"TTTTTTG\"\u001b[39m,\n",
       "  \u001b[32m\"CCCCGCTGG\"\u001b[39m,\n",
       "  \u001b[32m\"GG\"\u001b[39m,\n",
       "  \u001b[32m\"GGGG\"\u001b[39m,\n",
       "  \u001b[32m\"CCC\"\u001b[39m,\n",
       "  \u001b[32m\"TTCTTT\"\u001b[39m,\n",
       "  \u001b[32m\"CC\"\u001b[39m,\n",
       "  \u001b[32m\"C\"\u001b[39m,\n",
       "  \u001b[32m\"TCT\"\u001b[39m\n",
       ")"
      ]
     },
     "execution_count": 18,
     "metadata": {},
     "output_type": "execute_result"
    }
   ],
   "source": [
    "Ober265c.split(\"A\").toVector.filter(str => str.nonEmpty)"
   ]
  },
  {
   "cell_type": "code",
   "execution_count": 19,
   "metadata": {},
   "outputs": [
    {
     "data": {
      "text/plain": [
       "\u001b[36mlipogrammatic\u001b[39m: \u001b[32mVector\u001b[39m[\u001b[32mString\u001b[39m] = \u001b[33mVector\u001b[39m(\n",
       "  \u001b[32m\"TC\"\u001b[39m,\n",
       "  \u001b[32m\"TTTTTTG\"\u001b[39m,\n",
       "  \u001b[32m\"CCCCGCTGG\"\u001b[39m,\n",
       "  \u001b[32m\"GG\"\u001b[39m,\n",
       "  \u001b[32m\"GGGG\"\u001b[39m,\n",
       "  \u001b[32m\"CCC\"\u001b[39m,\n",
       "  \u001b[32m\"\"\u001b[39m,\n",
       "  \u001b[32m\"TTCTTT\"\u001b[39m,\n",
       "  \u001b[32m\"CC\"\u001b[39m,\n",
       "  \u001b[32m\"\"\u001b[39m,\n",
       "  \u001b[32m\"C\"\u001b[39m,\n",
       "  \u001b[32m\"TCT\"\u001b[39m\n",
       ")"
      ]
     },
     "execution_count": 19,
     "metadata": {},
     "output_type": "execute_result"
    }
   ],
   "source": [
    "val lipogrammatic = Ober265c.split(\"A\").toVector"
   ]
  },
  {
   "cell_type": "code",
   "execution_count": 21,
   "metadata": {},
   "outputs": [
    {
     "data": {
      "text/plain": [
       "\u001b[36mres20\u001b[39m: \u001b[32mString\u001b[39m = \u001b[32m\"TCTTTTTTGCCCCGCTGGGGGGGGCCCTTCTTTCCCTCT\"\u001b[39m"
      ]
     },
     "execution_count": 21,
     "metadata": {},
     "output_type": "execute_result"
    }
   ],
   "source": [
    "lipogrammatic.mkString(\"\")"
   ]
  },
  {
   "cell_type": "code",
   "execution_count": 22,
   "metadata": {},
   "outputs": [
    {
     "data": {
      "text/plain": [
       "\u001b[36mres21\u001b[39m: \u001b[32mString\u001b[39m = \u001b[32m\"TC--TTTTTTG--CCCCGCTGG--GG--GGGG--CCC----TTCTTT--CC----C--TCT\"\u001b[39m"
      ]
     },
     "execution_count": 22,
     "metadata": {},
     "output_type": "execute_result"
    }
   ],
   "source": [
    "lipogrammatic.mkString(\"--\")"
   ]
  },
  {
   "cell_type": "code",
   "execution_count": 24,
   "metadata": {},
   "outputs": [
    {
     "data": {
      "text/plain": [
       "\u001b[36mnucleotidesString\u001b[39m: \u001b[32mString\u001b[39m = \u001b[32m\"????????????????????????????????????????????????????????????????????????????????????????????????????????????????????????????????????????????????????????????????????????????????????????????????????????TCATTTTTTGACCCCGCTGGAGGAGGGGACCCAATTCTTTACCAACATCT????????????????????????????????????????????????????????????????????????????????????????????CAACATTT????????????????????????????????????????????????????????????????????????????????????????????CAACATTT??????????????????????????????????????????????????????????????????????????????????????????????????????????????????????????????????????????????????????????????????????????????????????????????????????????????????????????????????????????????????????????????????????????????????????????????????????????????????????????????????????????????????????????????????????????????????????????????????????????????????????????????????????????????????????????????????????????????????????????????????????????????????????????????????????????????????????????????????????????????????????????????????????????????????????????????????????????????????????????????????????????????????????????????????????????????????????????????????????????????????????????????????????????????????????????????????????????????????????????????????????????????????????????????????????????????????????????????????????????????????????????????????????????????????????????????????????????????????????TCATTTTTTGATCCTGCAGGAGGGGGAGACCCAATTCTTTACCAACATTTTCATTTTTTGACCCTGCAGGAGGGGGAGACCCAATTCTTTACCAACATTT??????????????????????????????????????????????????????????????????????????????????????????????????TT??????????????????????????????????????????????????????????????????????????????????????????????????????????????????????????????????????????????????????TCATTTTTTGACCCGGCTGGAGGGGGKGACCCTATTCTCTATCAACATTTTCATTTTTTGACCCTGCCGGAGGAGGGGACCCAATTCTTTATCAACATTTTCATTTTTTGATCCAGCTGGAGGAGGTGATCCTATTCTTTACCAACACTT????????????????????????????????????????????????????????????????????????????????????????????????????TCATTTTTTGACCCTGCAGGTGGAGGGGACCCAATTCTTTACCAACATTT???????????????????????????????????????????????????????????????????????????????????????????TCAACATTT??????????????????????????????????????????CAACATTTTCATTTTTTGACCCTGCAGGAGGAGGGGATCCTATTCTTTACCAACATTTTCATTTTTTGACCCTGCTGGAGGGGGTGACCCTATTCTTTATCAACATTT??????????????????????????????????????????????????TCATTTTTTGATCCTGCAGGAGGAGGGGATCCAATTCTTTACCAACATTTTCATTTTTTGACCCTGCTGGAGGGGGTGATCCTATTCTTTATCAACATTTTCATTTTTTGACCCTGCTGGAGGAGGAGACCCTATTCTTTATCAACACTTTCATTTTTTGACCCTGCAGGAGGGGGCGACCCTATTCTTTATCAACATTTTCATTTTTTGATCCAGCTGGAGGAGGTGACCCTATTCTTTATCAACATTTTCATTTTTTGACCCGGCAGGAGGGGGAGACCCTATTTTATATCAACATTTTCATTTTTTGACCCTGCAGGAGGAGGTGACCCAATTCTTTACCAACATTTTCATTTTTTGATCCAGCTGGAGGAGGTGACCCTATTCTTTATCAACATTTTCATTTTTTGATCCAGCTGGAGGAGGTGACCCTATTCTTTATCAACATTTTCATTTTTTGATCCTGCGGGAGGAGGGGATCCAATTCTTTACCAACATTTTCATTTTTTGATCCTGCGGGAGGAGGGGATCCAATTCTTTACCAACATTTTCATTTTTTGACCCTGCCGGAGGAGGTGACCCAATTCTTTATCAACACTTTCATTTTTTGACCCTGCTGGAGGAGGAGACCCTATTCTTTACCAACATTTTCATTTTTTGACCCTGCAGGAGGAGGTGACCCAATTCTTTACCAACATTTTCATTTTTTGACCCTGCAGGAGGGGGAGACCCAATTCTTTACCAACATTTTCATTTTTTGACCCTGCCG\u001b[39m..."
      ]
     },
     "execution_count": 24,
     "metadata": {},
     "output_type": "execute_result"
    }
   ],
   "source": [
    "val nucleotidesString = m.data.mkString(\"\")"
   ]
  },
  {
   "cell_type": "code",
   "execution_count": 25,
   "metadata": {},
   "outputs": [
    {
     "data": {
      "text/plain": [
       "\u001b[36mres24\u001b[39m: \u001b[32mInt\u001b[39m = \u001b[32m149248\u001b[39m"
      ]
     },
     "execution_count": 25,
     "metadata": {},
     "output_type": "execute_result"
    }
   ],
   "source": [
    "nucleotidesString.size"
   ]
  },
  {
   "cell_type": "code",
   "execution_count": 29,
   "metadata": {},
   "outputs": [
    {
     "data": {
      "text/plain": [
       "\u001b[36mnucVector\u001b[39m: \u001b[32mVector\u001b[39m[\u001b[32mString\u001b[39m] = \u001b[33mVector\u001b[39m(\n",
       "  \u001b[32m\"?\"\u001b[39m,\n",
       "  \u001b[32m\"?\"\u001b[39m,\n",
       "  \u001b[32m\"?\"\u001b[39m,\n",
       "  \u001b[32m\"?\"\u001b[39m,\n",
       "  \u001b[32m\"?\"\u001b[39m,\n",
       "  \u001b[32m\"?\"\u001b[39m,\n",
       "  \u001b[32m\"?\"\u001b[39m,\n",
       "  \u001b[32m\"?\"\u001b[39m,\n",
       "  \u001b[32m\"?\"\u001b[39m,\n",
       "  \u001b[32m\"?\"\u001b[39m,\n",
       "  \u001b[32m\"?\"\u001b[39m,\n",
       "  \u001b[32m\"?\"\u001b[39m,\n",
       "  \u001b[32m\"?\"\u001b[39m,\n",
       "  \u001b[32m\"?\"\u001b[39m,\n",
       "  \u001b[32m\"?\"\u001b[39m,\n",
       "  \u001b[32m\"?\"\u001b[39m,\n",
       "  \u001b[32m\"?\"\u001b[39m,\n",
       "  \u001b[32m\"?\"\u001b[39m,\n",
       "  \u001b[32m\"?\"\u001b[39m,\n",
       "  \u001b[32m\"?\"\u001b[39m,\n",
       "  \u001b[32m\"?\"\u001b[39m,\n",
       "  \u001b[32m\"?\"\u001b[39m,\n",
       "  \u001b[32m\"?\"\u001b[39m,\n",
       "  \u001b[32m\"?\"\u001b[39m,\n",
       "  \u001b[32m\"?\"\u001b[39m,\n",
       "  \u001b[32m\"?\"\u001b[39m,\n",
       "  \u001b[32m\"?\"\u001b[39m,\n",
       "  \u001b[32m\"?\"\u001b[39m,\n",
       "  \u001b[32m\"?\"\u001b[39m,\n",
       "  \u001b[32m\"?\"\u001b[39m,\n",
       "  \u001b[32m\"?\"\u001b[39m,\n",
       "  \u001b[32m\"?\"\u001b[39m,\n",
       "  \u001b[32m\"?\"\u001b[39m,\n",
       "  \u001b[32m\"?\"\u001b[39m,\n",
       "  \u001b[32m\"?\"\u001b[39m,\n",
       "  \u001b[32m\"?\"\u001b[39m,\n",
       "  \u001b[32m\"?\"\u001b[39m,\n",
       "  \u001b[32m\"?\"\u001b[39m,\n",
       "...\n",
       "\u001b[36mres28_1\u001b[39m: \u001b[32mInt\u001b[39m = \u001b[32m149248\u001b[39m"
      ]
     },
     "execution_count": 29,
     "metadata": {},
     "output_type": "execute_result"
    }
   ],
   "source": [
    "val nucVector = nucleotidesString.split(\"\").toVector\n",
    "nucVector.size"
   ]
  },
  {
   "cell_type": "code",
   "execution_count": 30,
   "metadata": {},
   "outputs": [
    {
     "data": {
      "text/plain": [
       "\u001b[36mgrouped\u001b[39m: \u001b[32mVector\u001b[39m[(\u001b[32mString\u001b[39m, \u001b[32mVector\u001b[39m[\u001b[32mString\u001b[39m])] = \u001b[33mVector\u001b[39m(\n",
       "  (\n",
       "    \u001b[32m\"T\"\u001b[39m,\n",
       "    \u001b[33mVector\u001b[39m(\n",
       "      \u001b[32m\"T\"\u001b[39m,\n",
       "      \u001b[32m\"T\"\u001b[39m,\n",
       "      \u001b[32m\"T\"\u001b[39m,\n",
       "      \u001b[32m\"T\"\u001b[39m,\n",
       "      \u001b[32m\"T\"\u001b[39m,\n",
       "      \u001b[32m\"T\"\u001b[39m,\n",
       "      \u001b[32m\"T\"\u001b[39m,\n",
       "      \u001b[32m\"T\"\u001b[39m,\n",
       "      \u001b[32m\"T\"\u001b[39m,\n",
       "      \u001b[32m\"T\"\u001b[39m,\n",
       "      \u001b[32m\"T\"\u001b[39m,\n",
       "      \u001b[32m\"T\"\u001b[39m,\n",
       "      \u001b[32m\"T\"\u001b[39m,\n",
       "      \u001b[32m\"T\"\u001b[39m,\n",
       "      \u001b[32m\"T\"\u001b[39m,\n",
       "      \u001b[32m\"T\"\u001b[39m,\n",
       "      \u001b[32m\"T\"\u001b[39m,\n",
       "      \u001b[32m\"T\"\u001b[39m,\n",
       "      \u001b[32m\"T\"\u001b[39m,\n",
       "      \u001b[32m\"T\"\u001b[39m,\n",
       "      \u001b[32m\"T\"\u001b[39m,\n",
       "      \u001b[32m\"T\"\u001b[39m,\n",
       "      \u001b[32m\"T\"\u001b[39m,\n",
       "      \u001b[32m\"T\"\u001b[39m,\n",
       "      \u001b[32m\"T\"\u001b[39m,\n",
       "      \u001b[32m\"T\"\u001b[39m,\n",
       "      \u001b[32m\"T\"\u001b[39m,\n",
       "      \u001b[32m\"T\"\u001b[39m,\n",
       "      \u001b[32m\"T\"\u001b[39m,\n",
       "      \u001b[32m\"T\"\u001b[39m,\n",
       "      \u001b[32m\"T\"\u001b[39m,\n",
       "      \u001b[32m\"T\"\u001b[39m,\n",
       "      \u001b[32m\"T\"\u001b[39m,\n",
       "      \u001b[32m\"T\"\u001b[39m,\n",
       "      \u001b[32m\"T\"\u001b[39m,\n",
       "..."
      ]
     },
     "execution_count": 30,
     "metadata": {},
     "output_type": "execute_result"
    }
   ],
   "source": [
    "val grouped = nucVector.groupBy(c => c).toVector"
   ]
  },
  {
   "cell_type": "code",
   "execution_count": 31,
   "metadata": {},
   "outputs": [
    {
     "data": {
      "text/plain": [
       "\u001b[36mfrequencies\u001b[39m: \u001b[32mVector\u001b[39m[(\u001b[32mString\u001b[39m, \u001b[32mInt\u001b[39m)] = \u001b[33mVector\u001b[39m(\n",
       "  (\u001b[32m\"T\"\u001b[39m, \u001b[32m50663\u001b[39m),\n",
       "  (\u001b[32m\"Y\"\u001b[39m, \u001b[32m23\u001b[39m),\n",
       "  (\u001b[32m\"A\"\u001b[39m, \u001b[32m40150\u001b[39m),\n",
       "  (\u001b[32m\"a\"\u001b[39m, \u001b[32m1\u001b[39m),\n",
       "  (\u001b[32m\"M\"\u001b[39m, \u001b[32m1\u001b[39m),\n",
       "  (\u001b[32m\"G\"\u001b[39m, \u001b[32m18159\u001b[39m),\n",
       "  (\u001b[32m\"?\"\u001b[39m, \u001b[32m22601\u001b[39m),\n",
       "  (\u001b[32m\"C\"\u001b[39m, \u001b[32m17624\u001b[39m),\n",
       "  (\u001b[32m\"W\"\u001b[39m, \u001b[32m8\u001b[39m),\n",
       "  (\u001b[32m\"K\"\u001b[39m, \u001b[32m2\u001b[39m),\n",
       "  (\u001b[32m\"R\"\u001b[39m, \u001b[32m16\u001b[39m)\n",
       ")"
      ]
     },
     "execution_count": 31,
     "metadata": {},
     "output_type": "execute_result"
    }
   ],
   "source": [
    "val frequencies = grouped.map{ case (c, cList) => (c, cList.size)}"
   ]
  },
  {
   "cell_type": "code",
   "execution_count": 32,
   "metadata": {},
   "outputs": [
    {
     "data": {
      "text/plain": [
       "\u001b[36mmostToFewest\u001b[39m: \u001b[32mVector\u001b[39m[(\u001b[32mString\u001b[39m, \u001b[32mInt\u001b[39m)] = \u001b[33mVector\u001b[39m(\n",
       "  (\u001b[32m\"T\"\u001b[39m, \u001b[32m50663\u001b[39m),\n",
       "  (\u001b[32m\"A\"\u001b[39m, \u001b[32m40150\u001b[39m),\n",
       "  (\u001b[32m\"?\"\u001b[39m, \u001b[32m22601\u001b[39m),\n",
       "  (\u001b[32m\"G\"\u001b[39m, \u001b[32m18159\u001b[39m),\n",
       "  (\u001b[32m\"C\"\u001b[39m, \u001b[32m17624\u001b[39m),\n",
       "  (\u001b[32m\"Y\"\u001b[39m, \u001b[32m23\u001b[39m),\n",
       "  (\u001b[32m\"R\"\u001b[39m, \u001b[32m16\u001b[39m),\n",
       "  (\u001b[32m\"W\"\u001b[39m, \u001b[32m8\u001b[39m),\n",
       "  (\u001b[32m\"K\"\u001b[39m, \u001b[32m2\u001b[39m),\n",
       "  (\u001b[32m\"M\"\u001b[39m, \u001b[32m1\u001b[39m),\n",
       "  (\u001b[32m\"a\"\u001b[39m, \u001b[32m1\u001b[39m)\n",
       ")"
      ]
     },
     "execution_count": 32,
     "metadata": {},
     "output_type": "execute_result"
    }
   ],
   "source": [
    "val mostToFewest = frequencies.sortBy{ case (w,freq) => freq }.reverse"
   ]
  },
  {
   "cell_type": "code",
   "execution_count": 33,
   "metadata": {},
   "outputs": [
    {
     "name": "stderr",
     "output_type": "stream",
     "text": [
      "Downloading https://repo1.maven.org/maven2/org/plotly-scala/plotly-almond_2.12/0.7.1/plotly-almond_2.12-0.7.1.pom\n",
      "Downloaded https://repo1.maven.org/maven2/org/plotly-scala/plotly-almond_2.12/0.7.1/plotly-almond_2.12-0.7.1.pom\n",
      "Downloading https://repo1.maven.org/maven2/org/plotly-scala/plotly-core_2.12/0.7.1/plotly-core_2.12-0.7.1.pom\n",
      "Downloading https://repo1.maven.org/maven2/org/plotly-scala/plotly-render_2.12/0.7.1/plotly-render_2.12-0.7.1.pom\n",
      "Downloaded https://repo1.maven.org/maven2/org/plotly-scala/plotly-core_2.12/0.7.1/plotly-core_2.12-0.7.1.pom\n",
      "Downloaded https://repo1.maven.org/maven2/org/plotly-scala/plotly-render_2.12/0.7.1/plotly-render_2.12-0.7.1.pom\n",
      "Downloading https://repo1.maven.org/maven2/org/webjars/bower/plotly.js/1.41.3/plotly.js-1.41.3.pom\n",
      "Downloaded https://repo1.maven.org/maven2/org/webjars/bower/plotly.js/1.41.3/plotly.js-1.41.3.pom\n",
      "Downloading https://repo1.maven.org/maven2/org/plotly-scala/plotly-core_2.12/0.7.1/plotly-core_2.12-0.7.1.jar\n",
      "Downloading https://repo1.maven.org/maven2/org/plotly-scala/plotly-render_2.12/0.7.1/plotly-render_2.12-0.7.1.jar\n",
      "Downloading https://repo1.maven.org/maven2/org/plotly-scala/plotly-almond_2.12/0.7.1/plotly-almond_2.12-0.7.1.jar\n",
      "Downloading https://repo1.maven.org/maven2/org/webjars/bower/plotly.js/1.41.3/plotly.js-1.41.3-sources.jar\n",
      "Downloaded https://repo1.maven.org/maven2/org/plotly-scala/plotly-almond_2.12/0.7.1/plotly-almond_2.12-0.7.1.jar\n",
      "Downloading https://repo1.maven.org/maven2/org/plotly-scala/plotly-core_2.12/0.7.1/plotly-core_2.12-0.7.1-sources.jar\n",
      "Downloading https://repo1.maven.org/maven2/org/webjars/bower/plotly.js/1.41.3/plotly.js-1.41.3.jar\n",
      "Downloaded https://repo1.maven.org/maven2/org/plotly-scala/plotly-core_2.12/0.7.1/plotly-core_2.12-0.7.1-sources.jar\n",
      "Downloaded https://repo1.maven.org/maven2/org/webjars/bower/plotly.js/1.41.3/plotly.js-1.41.3-sources.jar\n",
      "Downloading https://repo1.maven.org/maven2/org/plotly-scala/plotly-render_2.12/0.7.1/plotly-render_2.12-0.7.1-sources.jar\n",
      "Downloading https://repo1.maven.org/maven2/org/plotly-scala/plotly-almond_2.12/0.7.1/plotly-almond_2.12-0.7.1-sources.jar\n",
      "Downloaded https://repo1.maven.org/maven2/org/plotly-scala/plotly-render_2.12/0.7.1/plotly-render_2.12-0.7.1-sources.jar\n",
      "Downloaded https://repo1.maven.org/maven2/org/plotly-scala/plotly-almond_2.12/0.7.1/plotly-almond_2.12-0.7.1-sources.jar\n",
      "Downloaded https://repo1.maven.org/maven2/org/plotly-scala/plotly-core_2.12/0.7.1/plotly-core_2.12-0.7.1.jar\n",
      "Downloaded https://repo1.maven.org/maven2/org/plotly-scala/plotly-render_2.12/0.7.1/plotly-render_2.12-0.7.1.jar\n",
      "Downloaded https://repo1.maven.org/maven2/org/webjars/bower/plotly.js/1.41.3/plotly.js-1.41.3.jar\n"
     ]
    },
    {
     "data": {
      "text/plain": [
       "\u001b[32mimport \u001b[39m\u001b[36m$ivy.$                                      \n",
       "\u001b[39m\n",
       "\u001b[32mimport \u001b[39m\u001b[36mplotly._, plotly.element._, plotly.layout._, plotly.Almond._\n",
       "\u001b[39m"
      ]
     },
     "execution_count": 33,
     "metadata": {},
     "output_type": "execute_result"
    }
   ],
   "source": [
    "import $ivy.`org.plotly-scala::plotly-almond:0.7.1`\n",
    "import plotly._, plotly.element._, plotly.layout._, plotly.Almond._\n",
    "repl.pprinter() = repl.pprinter().copy(defaultHeight = 3)"
   ]
  },
  {
   "cell_type": "code",
   "execution_count": 34,
   "metadata": {},
   "outputs": [
    {
     "data": {
      "text/html": [
       "\n",
       "      <script type=\"text/javascript\">\n",
       "        require.config({\n",
       "  paths: {\n",
       "    d3: 'https://cdnjs.cloudflare.com/ajax/libs/d3/3.5.17/d3.min',\n",
       "    plotly: 'https://cdn.plot.ly/plotly-1.41.3.min',\n",
       "    jquery: 'https://code.jquery.com/jquery-3.3.1.min'\n",
       "  },\n",
       "\n",
       "  shim: {\n",
       "    plotly: {\n",
       "      deps: ['d3', 'jquery'],\n",
       "      exports: 'plotly'\n",
       "    }\n",
       "  }\n",
       "});\n",
       "        \n",
       "\n",
       "        require(['plotly'], function(Plotly) {\n",
       "          window.Plotly = Plotly;\n",
       "        });\n",
       "      </script>\n",
       "    "
      ]
     },
     "metadata": {},
     "output_type": "display_data"
    },
    {
     "data": {
      "application/vnd.plotly.v1+json": {
       "data": [
        {
         "type": "bar",
         "x": [
          "T",
          "A",
          "?",
          "G",
          "C",
          "Y",
          "R",
          "W",
          "K",
          "M",
          "a"
         ],
         "y": [
          50663,
          40150,
          22601,
          18159,
          17624,
          23,
          16,
          8,
          2,
          1,
          1
         ]
        }
       ],
       "layout": {}
      },
      "text/html": [
       "<div class=\"chart\" id=\"plot-0724f445-e580-4e27-a2f5-411636ff488c\"></div>\n",
       "<script>require(['plotly'], function(Plotly) {\n",
       "  (function () {\n",
       "  var data0 = {\"x\":[\"T\",\"A\",\"?\",\"G\",\"C\",\"Y\",\"R\",\"W\",\"K\",\"M\",\"a\"],\"y\":[50663.0,40150.0,22601.0,18159.0,17624.0,23.0,16.0,8.0,2.0,1.0,1.0],\"type\":\"bar\"};\n",
       "\n",
       "  var data = [data0];\n",
       "  var layout = {};\n",
       "\n",
       "  Plotly.plot('plot-0724f445-e580-4e27-a2f5-411636ff488c', data, layout);\n",
       "})();\n",
       "});\n",
       "      </script>\n",
       "           "
      ]
     },
     "metadata": {},
     "output_type": "display_data"
    },
    {
     "data": {
      "text/plain": [
       "\u001b[36mnucleotides\u001b[39m: \u001b[32mVector\u001b[39m[\u001b[32mString\u001b[39m] = \u001b[33mVector\u001b[39m(\n",
       "  \u001b[32m\"T\"\u001b[39m,\n",
       "...\n",
       "\u001b[36mcounts\u001b[39m: \u001b[32mVector\u001b[39m[\u001b[32mInt\u001b[39m] = \u001b[33mVector\u001b[39m(\n",
       "  \u001b[32m50663\u001b[39m,\n",
       "...\n",
       "\u001b[36mzipf\u001b[39m: \u001b[32mVector\u001b[39m[\u001b[32mBar\u001b[39m] = \u001b[33mVector\u001b[39m(\n",
       "  \u001b[33mBar\u001b[39m(\n",
       "...\n",
       "\u001b[36mres33_3\u001b[39m: \u001b[32mString\u001b[39m = \u001b[32m\"plot-0724f445-e580-4e27-a2f5-411636ff488c\"\u001b[39m"
      ]
     },
     "execution_count": 34,
     "metadata": {},
     "output_type": "execute_result"
    }
   ],
   "source": [
    "val nucleotides = mostToFewest.map(frequency => frequency._1)\n",
    "val counts = mostToFewest.map(frequency => frequency._2)\n",
    "\n",
    "val zipf = Vector(\n",
    "  Bar(x = nucleotides, y = counts)\n",
    ")\n",
    "plot(zipf)"
   ]
  },
  {
   "cell_type": "code",
   "execution_count": 37,
   "metadata": {},
   "outputs": [
    {
     "data": {
      "text/plain": [
       "\u001b[36mQuestion\u001b[39m: \u001b[32mVector\u001b[39m[\u001b[32mString\u001b[39m] = \u001b[33mVector\u001b[39m(\n",
       "  \u001b[32m\"?\"\u001b[39m,\n",
       "..."
      ]
     },
     "execution_count": 37,
     "metadata": {},
     "output_type": "execute_result"
    }
   ],
   "source": [
    "val Question = nucVector.filter( c => c.contains(\"?\"))"
   ]
  },
  {
   "cell_type": "code",
   "execution_count": 38,
   "metadata": {},
   "outputs": [
    {
     "data": {
      "text/plain": [
       "\u001b[36mres37\u001b[39m: \u001b[32mInt\u001b[39m = \u001b[32m22601\u001b[39m"
      ]
     },
     "execution_count": 38,
     "metadata": {},
     "output_type": "execute_result"
    }
   ],
   "source": [
    "Question.size"
   ]
  },
  {
   "cell_type": "code",
   "execution_count": 39,
   "metadata": {},
   "outputs": [
    {
     "data": {
      "text/plain": [
       "\u001b[36mnoQuestion\u001b[39m: \u001b[32mVector\u001b[39m[\u001b[32mString\u001b[39m] = \u001b[33mVector\u001b[39m(\n",
       "  \u001b[32m\"T\"\u001b[39m,\n",
       "..."
      ]
     },
     "execution_count": 39,
     "metadata": {},
     "output_type": "execute_result"
    }
   ],
   "source": [
    "val noQuestion = nucVector.filterNot( c => c.contains(\"?\"))"
   ]
  },
  {
   "cell_type": "code",
   "execution_count": 40,
   "metadata": {},
   "outputs": [
    {
     "data": {
      "text/plain": [
       "\u001b[36mgroupedNQ\u001b[39m: \u001b[32mVector\u001b[39m[(\u001b[32mString\u001b[39m, \u001b[32mVector\u001b[39m[\u001b[32mString\u001b[39m])] = \u001b[33mVector\u001b[39m(\n",
       "  (\n",
       "..."
      ]
     },
     "execution_count": 40,
     "metadata": {},
     "output_type": "execute_result"
    }
   ],
   "source": [
    "val groupedNQ = noQuestion.groupBy(c => c).toVector"
   ]
  },
  {
   "cell_type": "code",
   "execution_count": 41,
   "metadata": {},
   "outputs": [
    {
     "data": {
      "text/plain": [
       "\u001b[36mfrequenciesNQ\u001b[39m: \u001b[32mVector\u001b[39m[(\u001b[32mString\u001b[39m, \u001b[32mInt\u001b[39m)] = \u001b[33mVector\u001b[39m(\n",
       "  (\u001b[32m\"T\"\u001b[39m, \u001b[32m50663\u001b[39m),\n",
       "..."
      ]
     },
     "execution_count": 41,
     "metadata": {},
     "output_type": "execute_result"
    }
   ],
   "source": [
    "val frequenciesNQ = groupedNQ.map{ case (c, cList) => (c, cList.size)}"
   ]
  },
  {
   "cell_type": "code",
   "execution_count": 43,
   "metadata": {},
   "outputs": [
    {
     "data": {
      "text/plain": [
       "\u001b[36mmostToFewestNQ\u001b[39m: \u001b[32mVector\u001b[39m[(\u001b[32mString\u001b[39m, \u001b[32mInt\u001b[39m)] = \u001b[33mVector\u001b[39m(\n",
       "  (\u001b[32m\"T\"\u001b[39m, \u001b[32m50663\u001b[39m),\n",
       "..."
      ]
     },
     "execution_count": 43,
     "metadata": {},
     "output_type": "execute_result"
    }
   ],
   "source": [
    "val mostToFewestNQ = frequenciesNQ.sortBy{ case (w,freq) => freq }.reverse"
   ]
  },
  {
   "cell_type": "code",
   "execution_count": 44,
   "metadata": {},
   "outputs": [
    {
     "data": {
      "application/vnd.plotly.v1+json": {
       "data": [
        {
         "type": "bar",
         "x": [
          "T",
          "A",
          "G",
          "C",
          "Y",
          "R",
          "W",
          "K",
          "M",
          "a"
         ],
         "y": [
          50663,
          40150,
          18159,
          17624,
          23,
          16,
          8,
          2,
          1,
          1
         ]
        }
       ],
       "layout": {}
      },
      "text/html": [
       "<div class=\"chart\" id=\"plot-4f337eb8-ef7c-4f56-9999-18557656b574\"></div>\n",
       "<script>require(['plotly'], function(Plotly) {\n",
       "  (function () {\n",
       "  var data0 = {\"x\":[\"T\",\"A\",\"G\",\"C\",\"Y\",\"R\",\"W\",\"K\",\"M\",\"a\"],\"y\":[50663.0,40150.0,18159.0,17624.0,23.0,16.0,8.0,2.0,1.0,1.0],\"type\":\"bar\"};\n",
       "\n",
       "  var data = [data0];\n",
       "  var layout = {};\n",
       "\n",
       "  Plotly.plot('plot-4f337eb8-ef7c-4f56-9999-18557656b574', data, layout);\n",
       "})();\n",
       "});\n",
       "      </script>\n",
       "           "
      ]
     },
     "metadata": {},
     "output_type": "display_data"
    },
    {
     "data": {
      "text/plain": [
       "\u001b[36mnucleotidesNQ\u001b[39m: \u001b[32mVector\u001b[39m[\u001b[32mString\u001b[39m] = \u001b[33mVector\u001b[39m(\n",
       "  \u001b[32m\"T\"\u001b[39m,\n",
       "...\n",
       "\u001b[36mcountsNQ\u001b[39m: \u001b[32mVector\u001b[39m[\u001b[32mInt\u001b[39m] = \u001b[33mVector\u001b[39m(\u001b[32m50663\u001b[39m, \u001b[32m40150\u001b[39m, \u001b[32m18159\u001b[39m, \u001b[32m17624\u001b[39m, \u001b[32m23\u001b[39m, \u001b[32m16\u001b[39m, \u001b[32m8\u001b[39m, \u001b[32m2\u001b[39m, \u001b[32m1\u001b[39m, \u001b[32m1\u001b[39m)\n",
       "\u001b[36mzipfNQ\u001b[39m: \u001b[32mVector\u001b[39m[\u001b[32mBar\u001b[39m] = \u001b[33mVector\u001b[39m(\n",
       "  \u001b[33mBar\u001b[39m(\n",
       "...\n",
       "\u001b[36mres43_3\u001b[39m: \u001b[32mString\u001b[39m = \u001b[32m\"plot-4f337eb8-ef7c-4f56-9999-18557656b574\"\u001b[39m"
      ]
     },
     "execution_count": 44,
     "metadata": {},
     "output_type": "execute_result"
    }
   ],
   "source": [
    "val nucleotidesNQ = mostToFewestNQ.map(frequency => frequency._1)\n",
    "val countsNQ = mostToFewestNQ.map(frequency => frequency._2)\n",
    "\n",
    "val zipfNQ = Vector(\n",
    "  Bar(x = nucleotidesNQ, y = countsNQ)\n",
    ")\n",
    "plot(zipfNQ)"
   ]
  },
  {
   "cell_type": "code",
   "execution_count": null,
   "metadata": {},
   "outputs": [],
   "source": []
  },
  {
   "cell_type": "code",
   "execution_count": null,
   "metadata": {},
   "outputs": [],
   "source": []
  },
  {
   "cell_type": "code",
   "execution_count": null,
   "metadata": {},
   "outputs": [],
   "source": []
  },
  {
   "cell_type": "markdown",
   "metadata": {},
   "source": [
    "Two new tidbits:"
   ]
  }
 ],
 "metadata": {
  "kernelspec": {
   "display_name": "Scala (2.12)",
   "language": "scala",
   "name": "scala212"
  },
  "language_info": {
   "codemirror_mode": "text/x-scala",
   "file_extension": ".scala",
   "mimetype": "text/x-scala",
   "name": "scala",
   "nbconvert_exporter": "script",
   "version": "2.12.10"
  }
 },
 "nbformat": 4,
 "nbformat_minor": 4
}
