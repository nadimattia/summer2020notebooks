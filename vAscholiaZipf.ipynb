{
 "cells": [
  {
   "cell_type": "code",
   "execution_count": 1,
   "metadata": {},
   "outputs": [
    {
     "data": {
      "text/plain": [
       "\u001b[36mpersonalRepo\u001b[39m: \u001b[32mcoursierapi\u001b[39m.\u001b[32mMavenRepository\u001b[39m = MavenRepository(https://dl.bintray.com/neelsmith/maven)"
      ]
     },
     "execution_count": 1,
     "metadata": {},
     "output_type": "execute_result"
    }
   ],
   "source": [
    "val personalRepo = coursierapi.MavenRepository.of(\"https://dl.bintray.com/neelsmith/maven\")\n",
    "interp.repositories() ++= Seq(personalRepo)"
   ]
  },
  {
   "cell_type": "code",
   "execution_count": 2,
   "metadata": {},
   "outputs": [
    {
     "data": {
      "text/plain": [
       "\u001b[32mimport \u001b[39m\u001b[36m$ivy.$                                     \n",
       "\u001b[39m\n",
       "\u001b[32mimport \u001b[39m\u001b[36m$ivy.$                                  \n",
       "\u001b[39m\n",
       "\u001b[32mimport \u001b[39m\u001b[36m$ivy.$                                \n",
       "\u001b[39m\n",
       "\u001b[32mimport \u001b[39m\u001b[36m$ivy.$                                          \u001b[39m"
      ]
     },
     "execution_count": 2,
     "metadata": {},
     "output_type": "execute_result"
    }
   ],
   "source": [
    "import $ivy.`edu.holycross.shot.cite::xcite:4.3.0`\n",
    "import $ivy.`edu.holycross.shot::ohco2:10.20.3`\n",
    "import $ivy.`edu.holycross.shot::greek:5.5.3`\n",
    "import $ivy.`edu.holycross.shot.mid::orthography:2.0.0`"
   ]
  },
  {
   "cell_type": "code",
   "execution_count": 3,
   "metadata": {},
   "outputs": [
    {
     "data": {
      "text/plain": [
       "\u001b[32mimport \u001b[39m\u001b[36medu.holycross.shot.cite._\n",
       "\u001b[39m\n",
       "\u001b[32mimport \u001b[39m\u001b[36medu.holycross.shot.ohco2._\n",
       "\u001b[39m\n",
       "\u001b[32mimport \u001b[39m\u001b[36medu.holycross.shot.greek._\n",
       "\u001b[39m\n",
       "\u001b[32mimport \u001b[39m\u001b[36medu.holycross.shot.mid.orthography._\u001b[39m"
      ]
     },
     "execution_count": 3,
     "metadata": {},
     "output_type": "execute_result"
    }
   ],
   "source": [
    "import edu.holycross.shot.cite._\n",
    "import edu.holycross.shot.ohco2._\n",
    "import edu.holycross.shot.greek._\n",
    "import edu.holycross.shot.mid.orthography._"
   ]
  },
  {
   "cell_type": "code",
   "execution_count": 4,
   "metadata": {},
   "outputs": [
    {
     "data": {
      "text/plain": [
       "\u001b[36murlScho9\u001b[39m: \u001b[32mString\u001b[39m = \u001b[32m\"https://raw.githubusercontent.com/neelsmith/transmission-evolution/master/data/poster-data/vascholia-9.cex\"\u001b[39m\n",
       "\u001b[36murlScho10\u001b[39m: \u001b[32mString\u001b[39m = \u001b[32m\"https://raw.githubusercontent.com/neelsmith/transmission-evolution/master/data/poster-data/vascholia-10.cex\"\u001b[39m\n",
       "\u001b[36murlScho23\u001b[39m: \u001b[32mString\u001b[39m = \u001b[32m\"https://raw.githubusercontent.com/neelsmith/transmission-evolution/master/data/poster-data/vascholia-23.cex\"\u001b[39m"
      ]
     },
     "execution_count": 4,
     "metadata": {},
     "output_type": "execute_result"
    }
   ],
   "source": [
    "val urlScho9 = \"https://raw.githubusercontent.com/neelsmith/transmission-evolution/master/data/poster-data/vascholia-9.cex\"\n",
    "val urlScho10 = \"https://raw.githubusercontent.com/neelsmith/transmission-evolution/master/data/poster-data/vascholia-10.cex\"\n",
    "val urlScho23 = \"https://raw.githubusercontent.com/neelsmith/transmission-evolution/master/data/poster-data/vascholia-23.cex\"\n"
   ]
  },
  {
   "cell_type": "code",
   "execution_count": 5,
   "metadata": {},
   "outputs": [
    {
     "data": {
      "text/plain": [
       "\u001b[36mscholia9\u001b[39m: \u001b[32mCorpus\u001b[39m = \u001b[33mCorpus\u001b[39m(\n",
       "  \u001b[33mVector\u001b[39m(\n",
       "    \u001b[33mCitableNode\u001b[39m(\n",
       "      \u001b[33mCtsUrn\u001b[39m(\u001b[32m\"urn:cts:greekLit:tlg5026.msA.hmt:9.1.comment\"\u001b[39m),\n",
       "      \u001b[32m\"\\u1f29 \\u0399 \\u03c4\\u1fc6\\u03c2 \\u1f39\\u03bb\\u03b9\\u1f71\\u03b4\\u03bf\\u03c2 \\u1f10\\u03c0\\u03b9\\u03b3\\u03c1\\u1f71\\u03c6\\u03b5\\u03c4\\u03b1\\u03b9 \\u039b\\u03b9\\u03c4\\u03b7 \\u1f45\\u03c4\\u03b9 \\u1f08\\u03b3\\u03b1\\u03bc\\u1f73\\u03bc\\u03bd\\u03c9\\u03bd \\u039d\\u1f73\\u03c3\\u03c4\\u03bf\\u03c1\\u03bf\\u03c2 \\u03c3\\u03c5\\u03bc\\u03b2\\u03bf\\u03c5\\u03bb\\u03b5\\u1f7b\\u03c3\\u03b1\\u03bd\\u03c4\\u03bf\\u03c2 \\u03c0\\u03c1\\u03bf\\u03c2 \\u03c4\\u1f78\\u03bd \\u1f08\\u03c7\\u03b9\\u03bb\\u03bb\\u1f73\\u03b1 \\u1f04\\u03bd\\u03b4\\u03c1\\u03b1\\u03c2 \\u03bb\\u03af\\u03c3\\u03c3\\u03b5\\u03c3\\u03b8\\u03b1\\u03b9 \\u1f14\\u03c0\\u03b5\\u03bc\\u03c8\\u03b5\\u03bd \\u1f00\\u03c1\\u03af\\u03c3\\u03c4\\u03bf\\u03c5\\u03c2 . \\u03a6\\u03bf\\u03af\\u03bd\\u03b9\\u03ba\\u03b1 . \\u1f48\\u03b4\\u03c5\\u03c3\\u03c3\\u1f73\\u03b1 . \\u0391\\u1f30\\u1f71\\u03bd\\u03c4  \\u2051\"\u001b[39m\n",
       "    ),\n",
       "    \u001b[33mCitableNode\u001b[39m(\n",
       "      \u001b[33mCtsUrn\u001b[39m(\u001b[32m\"urn:cts:greekLit:tlg5026.msA.hmt:9.2.lemma\"\u001b[39m),\n",
       "      \u001b[32m\"\\u1f63\\u03c2 \\u03bf\\u1f31 \\u03bc\\u1f72\\u03bd \\u03a4\\u03c1\\u1ff6\\u03b5\\u03c2 \\u03c6\\u03c5\\u03bb\\u03b1\\u03ba\\u1f70\\u03c2 \\u1f14\\u03c7\\u03bf\\u03bd :\"\u001b[39m\n",
       "    ),\n",
       "    \u001b[33mCitableNode\u001b[39m(\n",
       "      \u001b[33mCtsUrn\u001b[39m(\u001b[32m\"urn:cts:greekLit:tlg5026.msA.hmt:9.2.comment\"\u001b[39m),\n",
       "      \u001b[32m\"\\u03ba\\u03b1\\u03bb\\u1ff6\\u03c2 \\u03b5\\u1f36\\u03c0\\u03b5\\u03bd : \\u03bf\\u1f31 \\u03bc\\u1f72\\u03bd \\u03b3\\u1f70\\u03c1 \\u03a4\\u03c1\\u1ff6\\u03b5\\u03c2 \\u03c4\\u1f70\\u03c2 \\u03c6\\u03c5\\u03bb\\u03b1\\u03ba\\u1f70\\u03c2 \\u03b5\\u1f36\\u03c7\\u03b5\\u03bd \\u1f35\\u03bd\\u03b1 \\u03bc\\u1f74 \\u03c6\\u1f7b\\u03b3\\u03c9\\u03c3\\u03b9\\u03bd \\u03bf\\u1f31 \\u1f29\\u03b5\\u03bb\\u03bb\\u03ae\\u03bd\\u03b5\\u03c2 \\u03b4\\u03b9\\u03b1 \\u03bd\\u03c5\\u03ba\\u03c4\\u1f79\\u03c2 , \\u03bf\\u1f31 \\u03b4\\u1f72 \\u1f1d\\u03bb\\u03bb\\u03b5\\u03bd\\u03b5\\u03c2 \\u03b5\\u1f34\\u03c7\\u03bf\\u03bd\\u03c4\\u03bf \\u1f51\\u03c0\\u03bf \\u03c4\\u03bf\\u1fe6 \\u03b4\\u1f73\\u03bf\\u03c5\\u03c2 \\u2051\"\u001b[39m\n",
       "    ),\n",
       "    \u001b[33mCitableNode\u001b[39m(\n",
       "      \u001b[33mCtsUrn\u001b[39m(\u001b[32m\"urn:cts:greekLit:tlg5026.msA.hmt:9.3.lemma\"\u001b[39m),\n",
       "      \u001b[32m\"\\u03b8\\u03b5\\u03c3\\u03c0\\u03b5\\u03c3\\u03af\\u03b7 \\u1f14\\u03c7\\u03b5 \\u03c6\\u1f7b\\u03b6\\u03b1 :\"\u001b[39m\n",
       "    ),\n",
       "    \u001b[33mCitableNode\u001b[39m(\n",
       "      \u001b[33mCtsUrn\u001b[39m(\u001b[32m\"urn:cts:greekLit:tlg5026.msA.hmt:9.3.comment\"\u001b[39m),\n",
       "      \u001b[32m\"\\u03c6\\u1f7b\\u03b6\\u03b1 \\u03c3\\u03b7\\u03bc\\u03b1\\u03af\\u03bd\\u03b5\\u03b9\u001b[39m...\n",
       "\u001b[36mscholia10\u001b[39m: \u001b[32mCorpus\u001b[39m = \u001b[33mCorpus\u001b[39m(\n",
       "  \u001b[33mVector\u001b[39m(\n",
       "    \u001b[33mCitableNode\u001b[39m(\n",
       "      \u001b[33mCtsUrn\u001b[39m(\u001b[32m\"urn:cts:greekLit:tlg5026.msA.hmt:10.1.comment\"\u001b[39m),\n",
       "      \u001b[32m\"\\u03b1\\u1f54\\u03c4\\u03b7 \\u1f21 \\u03c1\\u03b1\\u03c8\\u03c9\\u03b4\\u03af\\u03b1 , \\u1f10\\u03c0\\u03b9\\u03b3\\u03c1\\u1f71\\u03c6\\u03b5\\u03c4\\u03b1\\u03b9 \\u03bd\\u03c5\\u03ba\\u03c4\\u03b5\\u03b3\\u03b5\\u03c1\\u03c3\\u03af\\u03b1 , \\u1f10\\u03c0\\u03b1\\u03bd\\u03b1\\u03c3\\u03c4\\u1f71\\u03bd\\u03c4\\u03b1\\u03c2 \\u03c4\\u03bf\\u1f7a\\u03c2 \\u03c0\\u03c1\\u1f7d\\u03c4\\u03bf\\u03c5\\u03c2 \\u03c4\\u1ff6\\u03bd \\u1f19\\u03bb\\u03bb\\u03b7\\u03bd\\u03c9\\u03bd \\u03ba\\u03b1\\u03c4\\u03b1\\u03c3\\u03ba\\u1f79\\u03c0\\u03bf\\u03c5\\u03c2 \\u03c0\\u1f73\\u03bc\\u03c8\\u03b1\\u03b9 \\u03b3\\u03bd\\u1f7d\\u03bc\\u03bd\\u1fc3 \\u039d\\u1f73\\u03c3\\u03c4\\u03bf\\u03c1\\u03bf\\u03c2 \\u0394\\u03b9\\u03bf\\u03bc\\u03ae\\u03b4\\u03b7 \\u03ba\\u03b1\\u1f76 \\u1f48\\u03b4\\u03c5\\u03c3\\u03c3\\u1f73\\u03b1 \\u2051\"\u001b[39m\n",
       "    ),\n",
       "    \u001b[33mCitableNode\u001b[39m(\n",
       "      \u001b[33mCtsUrn\u001b[39m(\u001b[32m\"urn:cts:greekLit:tlg5026.msA.hmt:10.2.lemma\"\u001b[39m),\n",
       "      \u001b[32m\"\\u1f00\\u03bb\\u03bb\\u03bf\\u03b9 \\u03bc\\u1f72\\u03bd \\u03c0\\u03b1\\u03c1\\u03b1 \\u03bd\\u03b7\\u1fe6\\u03c3\\u1f76\\u03bd  \\u1f00\\u03c1\\u03b9\\u03c3\\u03c4\\u1fc6\\u03b5\\u03c2 \\u03a0\\u03b1\\u03bd\\u03b1\\u03c7\\u03b1\\u03b9\\u1ff6\\u03bd\"\u001b[39m\n",
       "    ),\n",
       "    \u001b[33mCitableNode\u001b[39m(\n",
       "      \u001b[33mCtsUrn\u001b[39m(\u001b[32m\"urn:cts:greekLit:tlg5026.msA.hmt:10.2.comment\"\u001b[39m),\n",
       "      \u001b[32m\"\\u03b5\\u1f30\\u03ba\\u1f79\\u03c4\\u03c9\\u03c2 \\u1f00\\u03bc\\u03c6\\u1f79\\u03c4\\u03b5\\u03c1\\u03b1 \\u03b3\\u1f70\\u03c1 \\u1f55\\u03c0\\u03bd\\u03bf\\u03c5 \\u1f00\\u03b3\\u03c9\\u03b3\\u1f70 \\u03ba\\u03b1\\u1f76 \\u1f41 \\u1f10\\u03ba \\u03c4\\u1fc6\\u03c2 \\u03bc\\u1f71\\u03c7\\u03b7\\u03c2 \\u03ba\\u1f71\\u03bc\\u03b1\\u03c4\\u03bf\\u03c2 \\u03ba\\u03b1\\u1f76 \\u1f21 \\u03b5\\u03c0\\u03b9 \\u03c4\\u1fc6 \\u1f25\\u03c4\\u03c4\\u03b7 \\u03b4\\u03c5\\u03c3\\u03b8\\u03c5\\u03bc\\u03af\\u03b1 . \\u03c0\\u03b1\\u03c1\\u03b1 \\u03bd\\u03b7\\u03c5\\u03c3\\u1f76 \\u03b4\\u1f72 \\u03bb\\u1f73\\u03b3\\u03b5\\u03b9 . \\u1f10\\u03c0\\u03b5\\u1f76 \\u03bf\\u1f31 \\u03c6\\u1f7b\\u03bb\\u03b1\\u03ba\\u03b5\\u03c2 \\u1f10\\u03ba\\u03c4\\u1f78\\u03c2 \\u03c4\\u1ff6\\u03bd \\u03bd\\u03b5\\u1ff6\\u03bd \\u1fc6\\u03c3\\u03b1\\u03bd \\u03bf\\u1f36\\u03c2 \\u03c4\\u1f78 \\u03b5\\u03b3\\u03c1\\u03b7\\u03b3\\u03bf\\u03c1\\u1f73\\u03bd\\u03b1\\u03b9 \\u1f00\\u03bd\\u03b1\\u03b3\\u03ba\\u03b1\\u1fd6\\u03bf\\u03bd \\u03bf\\u1f54\\u03c4\\u03b5 \\u03b4\\u1f72 \\u03bf\\u1f31 \\u1f00\\u03c1\\u03b9\\u03c3\\u03c4\\u03b5\\u1fd6\\u03c2 \\u03b4\\u03b9 \\u1f79\\u03bb\\u03b7\\u03c2 \\u03c4\\u1fc6\\u03c2 \\u03bd\\u03c5\\u03ba\\u03c4\\u1f78\\u03c2 \\u1f10\\u03ba\\u1f71\\u03b8\\u03b5\\u03c5\\u03b4\\u03bf\\u03bd , \\u1f00\\u03bb\\u03bb \\u1f4d\\u03bc\\u03b7\\u03c1\\u03bf\\u03c2 \\u03c4\\u1f78 \\u03c0\\u03b1\\u03bd\\u03bd\\u1f7b\\u03c7\\u03b9\\u03bf\\u03b9 \\u03ba\\u03b1\\u1f76 \\u0\u001b[39m...\n",
       "\u001b[36mscholia23\u001b[39m: \u001b[32mCorpus\u001b[39m = \u001b[33mCorpus\u001b[39m(\n",
       "  \u001b[33mVector\u001b[39m(\n",
       "    \u001b[33mCitableNode\u001b[39m(\n",
       "      \u001b[33mCtsUrn\u001b[39m(\u001b[32m\"urn:cts:greekLit:tlg5026.msA.hmt:23.100.lemma\"\u001b[39m),\n",
       "      \u001b[32m\"\\u1f61\\u03c2 \\u03bf\\u1f31 \\u03bc\\u1f72\\u03bd \\u03c3\\u03c4\\u03b5\\u03bd\\u1f71\\u03c7\\u03bf\\u03bd\\u03c4\\u03bf\"\u001b[39m\n",
       "    ),\n",
       "    \u001b[33mCitableNode\u001b[39m(\n",
       "      \u001b[33mCtsUrn\u001b[39m(\u001b[32m\"urn:cts:greekLit:tlg5026.msA.hmt:23.100.comment\"\u001b[39m),\n",
       "      \u001b[32m\"\\u1f45\\u03c4\\u03b9 \\u03b5\\u1f30 \\u1f26\\u03bd \\u03c3\\u03c4\\u03b5\\u03bd\\u03b1\\u03c7\\u1ff6\\u03bd \\u1f61\\u03c2 \\u03c6\\u03c1\\u03bf\\u03bd\\u1ff6\\u03bd \\u03bf\\u1f50\\u03ba \\u1f70\\u03bd \\u03bf\\u1f55\\u03c4\\u03c9\\u03c2 \\u1f14\\u03bb\\u03b5\\u03b3\\u03b5\\u03bd \\u03c3\\u03c4\\u03b5\\u03bd\\u1f71\\u03c7\\u03bf\\u03bd\\u03c4\\u03bf \\u1f00\\u03bb\\u03bb \\u1f65\\u03c3\\u03c0\\u03b5\\u03c1 \\u1f00\\u03c0\\u03bf \\u03c4\\u03bf\\u1fe6 \\u03c6\\u1f73\\u03c1\\u03bf\\u03bd \\u1f10\\u03c6\\u1f73\\u03c1\\u03bf\\u03bd\\u03c4\\u1f10\\u03c6\\u1f73\\u03c1\\u03bf\\u03bd\\u03c4\\u03bf . \\u03bf\\u1f55\\u03c4\\u03c9\\u03c2 \\u1f00\\u03c0\\u03bf \\u03c4\\u03bf\\u1fe6 \\u03c3\\u03c4\\u03b5\\u03bd\\u1f71\\u03c7\\u03c9\\u03bd \\u03c3\\u03c4\\u03b5\\u03bd\\u1f71\\u03c7\\u03bf\\u03bd\\u03c4\\u03bf \\u03bb\\u1f73\\u03b3\\u03b5\\u03b9\"\u001b[39m\n",
       "    ),\n",
       "    \u001b[33mCitableNode\u001b[39m(\n",
       "      \u001b[33mCtsUrn\u001b[39m(\u001b[32m\"urn:cts:greekLit:tlg5026.msA.hmt:23.101.lemma\"\u001b[39m),\n",
       "      \u001b[32m\"\\u03ba\\u03b1\\u03c4\\u03b1 \\u03c0\\u03c4\\u1f79\\u03bb\\u03b9\\u03bd\"\u001b[39m\n",
       "    ),\n",
       "    \u001b[33mCitableNode\u001b[39m(\n",
       "      \u001b[33mCtsUrn\u001b[39m(\u001b[32m\"urn:cts:greekLit:tlg5026.msA.hmt:23.101.comment\"\u001b[39m),\n",
       "      \u001b[32m\"\\u03c0\\u03c4\\u1f79\\u03bb\\u03b9\\u03bd , \\u039a\\u03c5\\u03c0\\u03c1\\u03af\\u03c9\\u03bd \\u03c4\\u1f78\\u03bd \\u1f10\\u03bd \\u03a3\\u03b1\\u03bb\\u03b1\\u03bc\\u03ca\\u1fc0\\u03bd\\u03b9 \\u1f21 \\u03bb\\u1f73\\u03be\\u03b9\\u03c2~\\u03ba\\u03b5\\u1fd6\\u03c4\\u03b1\\u03b9 \\u03b4\\u1f72 \\u03ba\\u03b1\\u1f76 \\u03c0\\u03b1\\u03c1\\u03b1 \\u03ba\\u03c9\\u03bc\\u03b9\\u03ba\\u1ff7 \\u1f10\\u03bd \\u03a3\\u03c9\\u03c3\\u03af\\u03c0\\u03c0\\u1ff3 .\"\u001b[39m\n",
       "    ),\n",
       "    \u001b[33mCitableNode\u001b[39m(\n",
       "      \u001b[33mCtsUrn\u001b[39m(\u001b[32m\"urn:cts:greekLit:tlg5026.msA.hmt:23.102.lemma\"\u001b[39m),\n",
       "      \u001b[32m\"\\u03bd\\u1fc6\\u1f71\\u03c2 \\u03c4\\u03b5\"\u001b[39m\n",
       "    ),\n",
       "    \u001b[33mCitableNode\u001b[39m(\n",
       "      \u001b[33mCtsUrn\u001b[39m(\u001b[32m\"urn:cts:greekLit:tlg5026.msA.hmt:23.102.comment\"\u001b[39m),\n",
       "..."
      ]
     },
     "execution_count": 5,
     "metadata": {},
     "output_type": "execute_result"
    }
   ],
   "source": [
    "val scholia9 = CorpusSource.fromUrl(urlScho9)\n",
    "val scholia10 = CorpusSource.fromUrl(urlScho10)\n",
    "val scholia23 = CorpusSource.fromUrl(urlScho23)"
   ]
  },
  {
   "cell_type": "code",
   "execution_count": 6,
   "metadata": {},
   "outputs": [
    {
     "data": {
      "text/plain": [
       "\u001b[36mallSchol\u001b[39m: \u001b[32mCorpus\u001b[39m = \u001b[33mCorpus\u001b[39m(\n",
       "  \u001b[33mVector\u001b[39m(\n",
       "    \u001b[33mCitableNode\u001b[39m(\n",
       "      \u001b[33mCtsUrn\u001b[39m(\u001b[32m\"urn:cts:greekLit:tlg5026.msA.hmt:9.1.comment\"\u001b[39m),\n",
       "      \u001b[32m\"\\u1f29 \\u0399 \\u03c4\\u1fc6\\u03c2 \\u1f39\\u03bb\\u03b9\\u1f71\\u03b4\\u03bf\\u03c2 \\u1f10\\u03c0\\u03b9\\u03b3\\u03c1\\u1f71\\u03c6\\u03b5\\u03c4\\u03b1\\u03b9 \\u039b\\u03b9\\u03c4\\u03b7 \\u1f45\\u03c4\\u03b9 \\u1f08\\u03b3\\u03b1\\u03bc\\u1f73\\u03bc\\u03bd\\u03c9\\u03bd \\u039d\\u1f73\\u03c3\\u03c4\\u03bf\\u03c1\\u03bf\\u03c2 \\u03c3\\u03c5\\u03bc\\u03b2\\u03bf\\u03c5\\u03bb\\u03b5\\u1f7b\\u03c3\\u03b1\\u03bd\\u03c4\\u03bf\\u03c2 \\u03c0\\u03c1\\u03bf\\u03c2 \\u03c4\\u1f78\\u03bd \\u1f08\\u03c7\\u03b9\\u03bb\\u03bb\\u1f73\\u03b1 \\u1f04\\u03bd\\u03b4\\u03c1\\u03b1\\u03c2 \\u03bb\\u03af\\u03c3\\u03c3\\u03b5\\u03c3\\u03b8\\u03b1\\u03b9 \\u1f14\\u03c0\\u03b5\\u03bc\\u03c8\\u03b5\\u03bd \\u1f00\\u03c1\\u03af\\u03c3\\u03c4\\u03bf\\u03c5\\u03c2 . \\u03a6\\u03bf\\u03af\\u03bd\\u03b9\\u03ba\\u03b1 . \\u1f48\\u03b4\\u03c5\\u03c3\\u03c3\\u1f73\\u03b1 . \\u0391\\u1f30\\u1f71\\u03bd\\u03c4  \\u2051\"\u001b[39m\n",
       "    ),\n",
       "    \u001b[33mCitableNode\u001b[39m(\n",
       "      \u001b[33mCtsUrn\u001b[39m(\u001b[32m\"urn:cts:greekLit:tlg5026.msA.hmt:9.2.lemma\"\u001b[39m),\n",
       "      \u001b[32m\"\\u1f63\\u03c2 \\u03bf\\u1f31 \\u03bc\\u1f72\\u03bd \\u03a4\\u03c1\\u1ff6\\u03b5\\u03c2 \\u03c6\\u03c5\\u03bb\\u03b1\\u03ba\\u1f70\\u03c2 \\u1f14\\u03c7\\u03bf\\u03bd :\"\u001b[39m\n",
       "    ),\n",
       "    \u001b[33mCitableNode\u001b[39m(\n",
       "      \u001b[33mCtsUrn\u001b[39m(\u001b[32m\"urn:cts:greekLit:tlg5026.msA.hmt:9.2.comment\"\u001b[39m),\n",
       "      \u001b[32m\"\\u03ba\\u03b1\\u03bb\\u1ff6\\u03c2 \\u03b5\\u1f36\\u03c0\\u03b5\\u03bd : \\u03bf\\u1f31 \\u03bc\\u1f72\\u03bd \\u03b3\\u1f70\\u03c1 \\u03a4\\u03c1\\u1ff6\\u03b5\\u03c2 \\u03c4\\u1f70\\u03c2 \\u03c6\\u03c5\\u03bb\\u03b1\\u03ba\\u1f70\\u03c2 \\u03b5\\u1f36\\u03c7\\u03b5\\u03bd \\u1f35\\u03bd\\u03b1 \\u03bc\\u1f74 \\u03c6\\u1f7b\\u03b3\\u03c9\\u03c3\\u03b9\\u03bd \\u03bf\\u1f31 \\u1f29\\u03b5\\u03bb\\u03bb\\u03ae\\u03bd\\u03b5\\u03c2 \\u03b4\\u03b9\\u03b1 \\u03bd\\u03c5\\u03ba\\u03c4\\u1f79\\u03c2 , \\u03bf\\u1f31 \\u03b4\\u1f72 \\u1f1d\\u03bb\\u03bb\\u03b5\\u03bd\\u03b5\\u03c2 \\u03b5\\u1f34\\u03c7\\u03bf\\u03bd\\u03c4\\u03bf \\u1f51\\u03c0\\u03bf \\u03c4\\u03bf\\u1fe6 \\u03b4\\u1f73\\u03bf\\u03c5\\u03c2 \\u2051\"\u001b[39m\n",
       "    ),\n",
       "    \u001b[33mCitableNode\u001b[39m(\n",
       "      \u001b[33mCtsUrn\u001b[39m(\u001b[32m\"urn:cts:greekLit:tlg5026.msA.hmt:9.3.lemma\"\u001b[39m),\n",
       "      \u001b[32m\"\\u03b8\\u03b5\\u03c3\\u03c0\\u03b5\\u03c3\\u03af\\u03b7 \\u1f14\\u03c7\\u03b5 \\u03c6\\u1f7b\\u03b6\\u03b1 :\"\u001b[39m\n",
       "    ),\n",
       "    \u001b[33mCitableNode\u001b[39m(\n",
       "      \u001b[33mCtsUrn\u001b[39m(\u001b[32m\"urn:cts:greekLit:tlg5026.msA.hmt:9.3.comment\"\u001b[39m),\n",
       "      \u001b[32m\"\\u03c6\\u1f7b\\u03b6\\u03b1 \\u03c3\\u03b7\\u03bc\\u03b1\\u03af\\u03bd\\u03b5\\u03b9\u001b[39m..."
      ]
     },
     "execution_count": 6,
     "metadata": {},
     "output_type": "execute_result"
    }
   ],
   "source": [
    "val allSchol = scholia9 ++ scholia10 ++ scholia23"
   ]
  },
  {
   "cell_type": "code",
   "execution_count": 7,
   "metadata": {},
   "outputs": [
    {
     "data": {
      "text/plain": [
       "\u001b[36mtextOnly\u001b[39m: \u001b[32mVector\u001b[39m[\u001b[32mString\u001b[39m] = \u001b[33mVector\u001b[39m(\n",
       "  \u001b[32m\"\\u1f29 \\u0399 \\u03c4\\u1fc6\\u03c2 \\u1f39\\u03bb\\u03b9\\u1f71\\u03b4\\u03bf\\u03c2 \\u1f10\\u03c0\\u03b9\\u03b3\\u03c1\\u1f71\\u03c6\\u03b5\\u03c4\\u03b1\\u03b9 \\u039b\\u03b9\\u03c4\\u03b7 \\u1f45\\u03c4\\u03b9 \\u1f08\\u03b3\\u03b1\\u03bc\\u1f73\\u03bc\\u03bd\\u03c9\\u03bd \\u039d\\u1f73\\u03c3\\u03c4\\u03bf\\u03c1\\u03bf\\u03c2 \\u03c3\\u03c5\\u03bc\\u03b2\\u03bf\\u03c5\\u03bb\\u03b5\\u1f7b\\u03c3\\u03b1\\u03bd\\u03c4\\u03bf\\u03c2 \\u03c0\\u03c1\\u03bf\\u03c2 \\u03c4\\u1f78\\u03bd \\u1f08\\u03c7\\u03b9\\u03bb\\u03bb\\u1f73\\u03b1 \\u1f04\\u03bd\\u03b4\\u03c1\\u03b1\\u03c2 \\u03bb\\u03af\\u03c3\\u03c3\\u03b5\\u03c3\\u03b8\\u03b1\\u03b9 \\u1f14\\u03c0\\u03b5\\u03bc\\u03c8\\u03b5\\u03bd \\u1f00\\u03c1\\u03af\\u03c3\\u03c4\\u03bf\\u03c5\\u03c2 . \\u03a6\\u03bf\\u03af\\u03bd\\u03b9\\u03ba\\u03b1 . \\u1f48\\u03b4\\u03c5\\u03c3\\u03c3\\u1f73\\u03b1 . \\u0391\\u1f30\\u1f71\\u03bd\\u03c4  \\u2051\"\u001b[39m,\n",
       "  \u001b[32m\"\\u1f63\\u03c2 \\u03bf\\u1f31 \\u03bc\\u1f72\\u03bd \\u03a4\\u03c1\\u1ff6\\u03b5\\u03c2 \\u03c6\\u03c5\\u03bb\\u03b1\\u03ba\\u1f70\\u03c2 \\u1f14\\u03c7\\u03bf\\u03bd :\"\u001b[39m,\n",
       "  \u001b[32m\"\\u03ba\\u03b1\\u03bb\\u1ff6\\u03c2 \\u03b5\\u1f36\\u03c0\\u03b5\\u03bd : \\u03bf\\u1f31 \\u03bc\\u1f72\\u03bd \\u03b3\\u1f70\\u03c1 \\u03a4\\u03c1\\u1ff6\\u03b5\\u03c2 \\u03c4\\u1f70\\u03c2 \\u03c6\\u03c5\\u03bb\\u03b1\\u03ba\\u1f70\\u03c2 \\u03b5\\u1f36\\u03c7\\u03b5\\u03bd \\u1f35\\u03bd\\u03b1 \\u03bc\\u1f74 \\u03c6\\u1f7b\\u03b3\\u03c9\\u03c3\\u03b9\\u03bd \\u03bf\\u1f31 \\u1f29\\u03b5\\u03bb\\u03bb\\u03ae\\u03bd\\u03b5\\u03c2 \\u03b4\\u03b9\\u03b1 \\u03bd\\u03c5\\u03ba\\u03c4\\u1f79\\u03c2 , \\u03bf\\u1f31 \\u03b4\\u1f72 \\u1f1d\\u03bb\\u03bb\\u03b5\\u03bd\\u03b5\\u03c2 \\u03b5\\u1f34\\u03c7\\u03bf\\u03bd\\u03c4\\u03bf \\u1f51\\u03c0\\u03bf \\u03c4\\u03bf\\u1fe6 \\u03b4\\u1f73\\u03bf\\u03c5\\u03c2 \\u2051\"\u001b[39m,\n",
       "  \u001b[32m\"\\u03b8\\u03b5\\u03c3\\u03c0\\u03b5\\u03c3\\u03af\\u03b7 \\u1f14\\u03c7\\u03b5 \\u03c6\\u1f7b\\u03b6\\u03b1 :\"\u001b[39m,\n",
       "  \u001b[32m\"\\u03c6\\u1f7b\\u03b6\\u03b1 \\u03c3\\u03b7\\u03bc\\u03b1\\u03af\\u03bd\\u03b5\\u03b9 \\u03c4\\u1f74\\u03bd \\u03bc\\u03b5\\u03c4\\u03b1 . \\u03b4\\u1f73\\u03bf\\u03c5\\u03c2 \\u03c6\\u03c5\\u03b3\\u1f74\\u03bd \\u1f45\\u03b8\\u03b5\\u03bd \\u03ba\\u03b1\\u1f76 \\u03c6\\u03c5\\u03b6\\u03b1\\u03ba\\u03b9\\u03bd\\u1fc7\\u03c2 \\u1f10\\u03bb\\u1f71\\u03c6\\u03bf\\u03b9\\u03c3\\u03b9 : \\u03bd\\u1fe6\\u03bd \\u03b4\\u1f72 \\u1f14\\u03ba\\u03c0\\u03bb\\u03b7\\u03be\\u03b9\\u03c2 : \\u1f00\\u03c0\\u03bf\\u03bb\\u03bf\\u03b3\\u03b5\\u1fd6\\u03c4\\u03b1\\u03b9 \\u03b4\\u1f72 \\u1f45\\u03c4\\u03b9 \\u1f10\\u03ba \\u03b8\\u03b5\\u1ff6\\u03bd : \\u1f41 \\u03ba\\u03c1\\u03c5\\u1f79\\u03b5\\u03b9\\u03c2 \\u03b4\\u1f72 \\u1f41 \\u03c6\\u1f79\\u03b2\\u03bf\\u03c2 \\u1f41 \\u03c8\\u03c5\\u03c7\\u03c1\\u1f78\\u03c2 : \\u03c4\\u1f78 \\u03b8\\u03b5\\u03c1\\u03bc\\u1f78\\u03bd \\u03b3\\u1f70\\u03c1 \\u1f10\\u03c0\\u03b9\\u03bb\\u03b5\\u03af\\u03c0\\u03b5\\u03b9 \\u03c4\\u03bf\\u1f7a\\u03c2 \\u03b4\\u03b5\\u03b4\\u03b7\\u1f79\\u03c4\\u03b1\\u03c2 : \\u1f45\\u03c1\\u03b1 \\u03b4\\u1f72 \\u03c4\\u1f78 \\u1f00\\u03bd\\u03c4\\u03af\\u03b8\\u03b5\\u03c4\\u03bf\\u03bd . \\u03c0\\u1ff6\\u03c2 \\u1f10\\u03bd\\u03b9 \\u1fe5\\u03ae\\u03bc\\u03b1\\u03c4\\u03b9 \\u1f10\\u03b4\\u03ae\\u03bb\\u03c9\\u03c3\\u03b5 \\u03a4\\u03c1\\u1ff6\\u03b5\\u03c2 \\u1f14\\u03c7\\u03bf\\u03bd \\u1f0c\\u03c7\\u03b1\\u03b9\\u03bf\\u1f7a\\u03c2 \\u03b5\\u03c7\\u03b5 \\u2051\"\u001b[39m,\n",
       "..."
      ]
     },
     "execution_count": 7,
     "metadata": {},
     "output_type": "execute_result"
    }
   ],
   "source": [
    " val textOnly = allSchol.nodes.map(n => n.text)"
   ]
  },
  {
   "cell_type": "code",
   "execution_count": 8,
   "metadata": {},
   "outputs": [
    {
     "name": "stdout",
     "output_type": "stream",
     "text": [
      "Vector(Ἡ Ι τῆς Ἱλιάδος ἐπιγράφεται Λιτη ὅτι Ἀγαμέμνων Νέστορος συμβουλεύσαντος προς τὸν Ἀχιλλέα ἄνδρας λίσσεσθαι ἔπεμψεν ἀρίστους . Φοίνικα . Ὀδυσσέα . Αἰάντ  ⁑, ὣς οἱ μὲν Τρῶες φυλακὰς ἔχον :, καλῶς εἶπεν : οἱ μὲν γὰρ Τρῶες τὰς φυλακὰς εἶχεν ἵνα μὴ φύγωσιν οἱ Ἡελλήνες δια νυκτός , οἱ δὲ Ἕλλενες εἴχοντο ὑπο τοῦ δέους ⁑, θεσπεσίη ἔχε φύζα :, φύζα σημαίνει τὴν μετα . δέους φυγὴν ὅθεν καὶ φυζακινῇς ἐλάφοισι : νῦν δὲ ἔκπληξις : ἀπολογεῖται δὲ ὅτι ἐκ θεῶν : ὁ κρυόεις δὲ ὁ φόβος ὁ ψυχρὸς : τὸ θερμὸν γὰρ ἐπιλείπει τοὺς δεδηότας : ὅρα δὲ τὸ ἀντίθετον . πῶς ἐνι ῥήματι ἐδήλωσε Τρῶες ἔχον Ἄχαιοὺς εχε ⁑, πενθεϊ δ' ατλήτω βεβοληατο :, ἔνιοι βεβλήατο , καὶ Ζηνοδοτ  οὕτως ἐπι δὲ τῆς κατα ψυχὴν τρώσεως καὶ ἀλγηδόνος ἀεὶ τοῦτο τάττει . ἐπι δὲ τῆς κατα σῶμα πληγῆς οὐκέτι ουτ  : τὸ βεβολήατο ἔκτασιν ἔχει ποιητικὴν τοῦ ε εἰς τὸ η διὰ τὴν ἐπαλληλίαν τῶν βραχέων . τοιοῦτόν ἐστι καὶ τὸ πεφοβήατο , δινήεντα . καὶ τὸ ῆ ρα νύ τοι πολλοὶ δεδμήατο κοῦροι Ἀχαιῶν ⁑, ὡς δ' ἄνεμοι δύο :, καλῶς δύο ἀνέμους παρέλαβεν ταράσσοντας τὸ πέλαγος ἵνα καὶ δύο πάθη ψυχῆς παραστήση ὡς φησὶν εἰωθασι δύο ἄνεμοι ταράσσειν τὴν θάλασσαν ἐκ βυθοῦ : οὕτω καὶ οἱ Ἑλληνες ἐταράσσοντο ὑπο τῶν δύο χαλεπωτάτῶν παθῶν λύπης τε καὶ φόβου ⁑, Βορέης καὶ Ζέφυρος ,)\n"
     ]
    }
   ],
   "source": [
    "println(textOnly.take(10))"
   ]
  },
  {
   "cell_type": "code",
   "execution_count": 9,
   "metadata": {},
   "outputs": [
    {
     "data": {
      "text/plain": [
       "\u001b[36monestring\u001b[39m: \u001b[32mString\u001b[39m = \u001b[32m\"\\u1f29 \\u0399 \\u03c4\\u1fc6\\u03c2 \\u1f39\\u03bb\\u03b9\\u1f71\\u03b4\\u03bf\\u03c2 \\u1f10\\u03c0\\u03b9\\u03b3\\u03c1\\u1f71\\u03c6\\u03b5\\u03c4\\u03b1\\u03b9 \\u039b\\u03b9\\u03c4\\u03b7 \\u1f45\\u03c4\\u03b9 \\u1f08\\u03b3\\u03b1\\u03bc\\u1f73\\u03bc\\u03bd\\u03c9\\u03bd \\u039d\\u1f73\\u03c3\\u03c4\\u03bf\\u03c1\\u03bf\\u03c2 \\u03c3\\u03c5\\u03bc\\u03b2\\u03bf\\u03c5\\u03bb\\u03b5\\u1f7b\\u03c3\\u03b1\\u03bd\\u03c4\\u03bf\\u03c2 \\u03c0\\u03c1\\u03bf\\u03c2 \\u03c4\\u1f78\\u03bd \\u1f08\\u03c7\\u03b9\\u03bb\\u03bb\\u1f73\\u03b1 \\u1f04\\u03bd\\u03b4\\u03c1\\u03b1\\u03c2 \\u03bb\\u03af\\u03c3\\u03c3\\u03b5\\u03c3\\u03b8\\u03b1\\u03b9 \\u1f14\\u03c0\\u03b5\\u03bc\\u03c8\\u03b5\\u03bd \\u1f00\\u03c1\\u03af\\u03c3\\u03c4\\u03bf\\u03c5\\u03c2 . \\u03a6\\u03bf\\u03af\\u03bd\\u03b9\\u03ba\\u03b1 . \\u1f48\\u03b4\\u03c5\\u03c3\\u03c3\\u1f73\\u03b1 . \\u0391\\u1f30\\u1f71\\u03bd\\u03c4  \\u2051 \\u1f63\\u03c2 \\u03bf\\u1f31 \\u03bc\\u1f72\\u03bd \\u03a4\\u03c1\\u1ff6\\u03b5\\u03c2 \\u03c6\\u03c5\\u03bb\\u03b1\\u03ba\\u1f70\\u03c2 \\u1f14\\u03c7\\u03bf\\u03bd : \\u03ba\\u03b1\\u03bb\\u1ff6\\u03c2 \\u03b5\\u1f36\\u03c0\\u03b5\\u03bd : \\u03bf\\u1f31 \\u03bc\\u1f72\\u03bd \\u03b3\\u1f70\\u03c1 \\u03a4\\u03c1\\u1ff6\\u03b5\\u03c2 \\u03c4\\u1f70\\u03c2 \\u03c6\\u03c5\\u03bb\\u03b1\\u03ba\\u1f70\\u03c2 \\u03b5\\u1f36\\u03c7\\u03b5\\u03bd \\u1f35\\u03bd\\u03b1 \\u03bc\\u1f74 \\u03c6\\u1f7b\\u03b3\\u03c9\\u03c3\\u03b9\\u03bd \\u03bf\\u1f31 \\u1f29\\u03b5\\u03bb\\u03bb\\u03ae\\u03bd\\u03b5\\u03c2 \\u03b4\\u03b9\\u03b1 \\u03bd\\u03c5\\u03ba\\u03c4\\u1f79\\u03c2 , \\u03bf\\u1f31 \\u03b4\\u1f72 \\u1f1d\\u03bb\\u03bb\\u03b5\\u03bd\\u03b5\\u03c2 \\u03b5\\u1f34\\u03c7\\u03bf\\u03bd\\u03c4\\u03bf \\u1f51\\u03c0\\u03bf \\u03c4\\u03bf\\u1fe6 \\u03b4\\u1f73\\u03bf\\u03c5\\u03c2 \\u2051 \\u03b8\\u03b5\\u03c3\\u03c0\\u03b5\\u03c3\\u03af\\u03b7 \\u1f14\\u03c7\\u03b5 \\u03c6\\u1f7b\\u03b6\\u03b1 : \\u03c6\\u1f7b\\u03b6\\u03b1 \\u03c3\\u03b7\\u03bc\\u03b1\\u03af\\u03bd\\u03b5\\u03b9 \\u03c4\\u1f74\\u03bd \\u03bc\\u03b5\\u03c4\\u03b1 . \\u03b4\\u1f73\\u03bf\\u03c5\\u03c2 \\u03c6\\u03c5\\u03b3\\u1f74\\u03bd \\u1f45\\u03b8\\u03b5\\u03bd \\u03ba\\u03b1\\u1f76 \\u03c6\\u03c5\\u03b6\\u03b1\\u03ba\\u03b9\\u03bd\\u1fc7\\u03c2 \\u1f10\\u03bb\\u1f71\\u03c6\\u03bf\\u03b9\\u03c3\\u03b9 : \\u03bd\\u1fe6\\u03bd \\u03b4\\u1f72 \\u1f14\\u03ba\\u03c0\\u03bb\\u03b7\\u03be\\u03b9\\u03c2 : \\u1f00\\u03c0\\u03bf\\u03bb\\u03bf\\u03b3\\u03b5\\u1fd6\\u03c4\\u03b1\\u03b9 \\u03b4\\u1f72 \\u1f45\\u03c4\\u03b9 \\u1f10\\u03ba \\u03b8\\u03b5\\u1ff6\\u03bd : \\u1f41 \\u03ba\\u03c1\\u03c5\\u1f79\\u03b5\\u03b9\\u03c2 \\u03b4\\u1f72 \\u1f41 \\u03c6\\u1f79\\u03b2\\u03bf\\u03c2 \\u1f41 \\u03c8\\u03c5\\u03c7\\u03c1\\u1f78\\u03c2 : \\u03c4\\u1f78 \\u03b8\\u03b5\\u03c1\\u03bc\\u1f78\\u03bd \\u03b3\\u1f70\\u03c1 \\u1f10\\u03c0\\u03b9\\u03bb\\u03b5\\u03af\\u03c0\\u03b5\\u03b9 \\u03c4\\u03bf\\u1f7a\\u03c2 \\u03b4\\u03b5\\u03b4\\u03b7\\u1f79\\u03c4\\u03b1\\u03c2 : \\u1f45\\u03c1\\u03b1 \\u03b4\\u1f72 \\u03c4\\u1f78 \\u1f00\\u03bd\\u03c4\\u03af\\u03b8\\u03b5\\u03c4\\u03bf\\u03bd . \\u03c0\\u1ff6\\u03c2 \\u1f10\\u03bd\\u03b9 \\u1fe5\\u03ae\\u03bc\\u03b1\\u03c4\\u03b9 \\u1f10\\u03b4\\u03ae\\u03bb\\u03c9\\u03c3\\u03b5 \\u03a4\\u03c1\\u1ff6\\u03b5\\u03c2 \\u1f14\\u03c7\\u03bf\\u03bd \\u1f0c\\u03c7\\u03b1\\u03b9\\u03bf\\u1f7a\\u03c2 \\u03b5\\u03c7\\u03b5 \\u2051 \\u03c0\\u03b5\\u03bd\\u03b8\\u03b5\\u03ca \\u03b4' \\u03b1\\u03c4\\u03bb\\u03ae\\u03c4\\u03c9 \\u03b2\\u03b5\\u03b2\\u03bf\\u03bb\\u03b7\\u03b1\\u03c4\\u03bf : \\u1f14\\u03bd\\u03b9\\u03bf\\u03b9 \\u03b2\\u03b5\\u03b2\\u03bb\\u03ae\\u03b1\\u03c4\\u03bf , \\u03b\u001b[39m..."
      ]
     },
     "execution_count": 9,
     "metadata": {},
     "output_type": "execute_result"
    }
   ],
   "source": [
    "val onestring = textOnly.mkString(\" \")"
   ]
  },
  {
   "cell_type": "code",
   "execution_count": 10,
   "metadata": {},
   "outputs": [
    {
     "data": {
      "text/plain": [
       "\u001b[36mstripped\u001b[39m: \u001b[32mString\u001b[39m = \u001b[32m\"\\u1f29 \\u0399 \\u03c4\\u1fc6\\u03c2 \\u1f39\\u03bb\\u03b9\\u1f71\\u03b4\\u03bf\\u03c2 \\u1f10\\u03c0\\u03b9\\u03b3\\u03c1\\u1f71\\u03c6\\u03b5\\u03c4\\u03b1\\u03b9 \\u039b\\u03b9\\u03c4\\u03b7 \\u1f45\\u03c4\\u03b9 \\u1f08\\u03b3\\u03b1\\u03bc\\u1f73\\u03bc\\u03bd\\u03c9\\u03bd \\u039d\\u1f73\\u03c3\\u03c4\\u03bf\\u03c1\\u03bf\\u03c2 \\u03c3\\u03c5\\u03bc\\u03b2\\u03bf\\u03c5\\u03bb\\u03b5\\u1f7b\\u03c3\\u03b1\\u03bd\\u03c4\\u03bf\\u03c2 \\u03c0\\u03c1\\u03bf\\u03c2 \\u03c4\\u1f78\\u03bd \\u1f08\\u03c7\\u03b9\\u03bb\\u03bb\\u1f73\\u03b1 \\u1f04\\u03bd\\u03b4\\u03c1\\u03b1\\u03c2 \\u03bb\\u03af\\u03c3\\u03c3\\u03b5\\u03c3\\u03b8\\u03b1\\u03b9 \\u1f14\\u03c0\\u03b5\\u03bc\\u03c8\\u03b5\\u03bd \\u1f00\\u03c1\\u03af\\u03c3\\u03c4\\u03bf\\u03c5\\u03c2  \\u03a6\\u03bf\\u03af\\u03bd\\u03b9\\u03ba\\u03b1  \\u1f48\\u03b4\\u03c5\\u03c3\\u03c3\\u1f73\\u03b1  \\u0391\\u1f30\\u1f71\\u03bd\\u03c4   \\u1f63\\u03c2 \\u03bf\\u1f31 \\u03bc\\u1f72\\u03bd \\u03a4\\u03c1\\u1ff6\\u03b5\\u03c2 \\u03c6\\u03c5\\u03bb\\u03b1\\u03ba\\u1f70\\u03c2 \\u1f14\\u03c7\\u03bf\\u03bd  \\u03ba\\u03b1\\u03bb\\u1ff6\\u03c2 \\u03b5\\u1f36\\u03c0\\u03b5\\u03bd  \\u03bf\\u1f31 \\u03bc\\u1f72\\u03bd \\u03b3\\u1f70\\u03c1 \\u03a4\\u03c1\\u1ff6\\u03b5\\u03c2 \\u03c4\\u1f70\\u03c2 \\u03c6\\u03c5\\u03bb\\u03b1\\u03ba\\u1f70\\u03c2 \\u03b5\\u1f36\\u03c7\\u03b5\\u03bd \\u1f35\\u03bd\\u03b1 \\u03bc\\u1f74 \\u03c6\\u1f7b\\u03b3\\u03c9\\u03c3\\u03b9\\u03bd \\u03bf\\u1f31 \\u1f29\\u03b5\\u03bb\\u03bb\\u03ae\\u03bd\\u03b5\\u03c2 \\u03b4\\u03b9\\u03b1 \\u03bd\\u03c5\\u03ba\\u03c4\\u1f79\\u03c2  \\u03bf\\u1f31 \\u03b4\\u1f72 \\u1f1d\\u03bb\\u03bb\\u03b5\\u03bd\\u03b5\\u03c2 \\u03b5\\u1f34\\u03c7\\u03bf\\u03bd\\u03c4\\u03bf \\u1f51\\u03c0\\u03bf \\u03c4\\u03bf\\u1fe6 \\u03b4\\u1f73\\u03bf\\u03c5\\u03c2  \\u03b8\\u03b5\\u03c3\\u03c0\\u03b5\\u03c3\\u03af\\u03b7 \\u1f14\\u03c7\\u03b5 \\u03c6\\u1f7b\\u03b6\\u03b1  \\u03c6\\u1f7b\\u03b6\\u03b1 \\u03c3\\u03b7\\u03bc\\u03b1\\u03af\\u03bd\\u03b5\\u03b9 \\u03c4\\u1f74\\u03bd \\u03bc\\u03b5\\u03c4\\u03b1  \\u03b4\\u1f73\\u03bf\\u03c5\\u03c2 \\u03c6\\u03c5\\u03b3\\u1f74\\u03bd \\u1f45\\u03b8\\u03b5\\u03bd \\u03ba\\u03b1\\u1f76 \\u03c6\\u03c5\\u03b6\\u03b1\\u03ba\\u03b9\\u03bd\\u1fc7\\u03c2 \\u1f10\\u03bb\\u1f71\\u03c6\\u03bf\\u03b9\\u03c3\\u03b9  \\u03bd\\u1fe6\\u03bd \\u03b4\\u1f72 \\u1f14\\u03ba\\u03c0\\u03bb\\u03b7\\u03be\\u03b9\\u03c2  \\u1f00\\u03c0\\u03bf\\u03bb\\u03bf\\u03b3\\u03b5\\u1fd6\\u03c4\\u03b1\\u03b9 \\u03b4\\u1f72 \\u1f45\\u03c4\\u03b9 \\u1f10\\u03ba \\u03b8\\u03b5\\u1ff6\\u03bd  \\u1f41 \\u03ba\\u03c1\\u03c5\\u1f79\\u03b5\\u03b9\\u03c2 \\u03b4\\u1f72 \\u1f41 \\u03c6\\u1f79\\u03b2\\u03bf\\u03c2 \\u1f41 \\u03c8\\u03c5\\u03c7\\u03c1\\u1f78\\u03c2  \\u03c4\\u1f78 \\u03b8\\u03b5\\u03c1\\u03bc\\u1f78\\u03bd \\u03b3\\u1f70\\u03c1 \\u1f10\\u03c0\\u03b9\\u03bb\\u03b5\\u03af\\u03c0\\u03b5\\u03b9 \\u03c4\\u03bf\\u1f7a\\u03c2 \\u03b4\\u03b5\\u03b4\\u03b7\\u1f79\\u03c4\\u03b1\\u03c2  \\u1f45\\u03c1\\u03b1 \\u03b4\\u1f72 \\u03c4\\u1f78 \\u1f00\\u03bd\\u03c4\\u03af\\u03b8\\u03b5\\u03c4\\u03bf\\u03bd  \\u03c0\\u1ff6\\u03c2 \\u1f10\\u03bd\\u03b9 \\u1fe5\\u03ae\\u03bc\\u03b1\\u03c4\\u03b9 \\u1f10\\u03b4\\u03ae\\u03bb\\u03c9\\u03c3\\u03b5 \\u03a4\\u03c1\\u1ff6\\u03b5\\u03c2 \\u1f14\\u03c7\\u03bf\\u03bd \\u1f0c\\u03c7\\u03b1\\u03b9\\u03bf\\u1f7a\\u03c2 \\u03b5\\u03c7\\u03b5  \\u03c0\\u03b5\\u03bd\\u03b8\\u03b5\\u03ca \\u03b4' \\u03b1\\u03c4\\u03bb\\u03ae\\u03c4\\u03c9 \\u03b2\\u03b5\\u03b2\\u03bf\\u03bb\\u03b7\\u03b1\\u03c4\\u03bf  \\u1f14\\u03bd\\u03b9\\u03bf\\u03b9 \\u03b2\\u03b5\\u03b2\\u03bb\\u03ae\\u03b1\\u03c4\\u03bf  \\u03ba\\u03b1\\u1f76 \\u0396\\u03b7\\u03bd\\u\u001b[39m..."
      ]
     },
     "execution_count": 10,
     "metadata": {},
     "output_type": "execute_result"
    }
   ],
   "source": [
    "val stripped = onestring.replaceAll(\"[—,\\\\.~⁑;:]\", \"\")"
   ]
  },
  {
   "cell_type": "code",
   "execution_count": 11,
   "metadata": {},
   "outputs": [
    {
     "data": {
      "text/plain": [
       "\u001b[36mwords\u001b[39m: \u001b[32mVector\u001b[39m[\u001b[32mString\u001b[39m] = \u001b[33mVector\u001b[39m(\n",
       "  \u001b[32m\"\\u1f29\"\u001b[39m,\n",
       "  \u001b[32m\"\\u0399\"\u001b[39m,\n",
       "  \u001b[32m\"\\u03c4\\u1fc6\\u03c2\"\u001b[39m,\n",
       "  \u001b[32m\"\\u1f39\\u03bb\\u03b9\\u1f71\\u03b4\\u03bf\\u03c2\"\u001b[39m,\n",
       "  \u001b[32m\"\\u1f10\\u03c0\\u03b9\\u03b3\\u03c1\\u1f71\\u03c6\\u03b5\\u03c4\\u03b1\\u03b9\"\u001b[39m,\n",
       "  \u001b[32m\"\\u039b\\u03b9\\u03c4\\u03b7\"\u001b[39m,\n",
       "  \u001b[32m\"\\u1f45\\u03c4\\u03b9\"\u001b[39m,\n",
       "  \u001b[32m\"\\u1f08\\u03b3\\u03b1\\u03bc\\u1f73\\u03bc\\u03bd\\u03c9\\u03bd\"\u001b[39m,\n",
       "  \u001b[32m\"\\u039d\\u1f73\\u03c3\\u03c4\\u03bf\\u03c1\\u03bf\\u03c2\"\u001b[39m,\n",
       "  \u001b[32m\"\\u03c3\\u03c5\\u03bc\\u03b2\\u03bf\\u03c5\\u03bb\\u03b5\\u1f7b\\u03c3\\u03b1\\u03bd\\u03c4\\u03bf\\u03c2\"\u001b[39m,\n",
       "  \u001b[32m\"\\u03c0\\u03c1\\u03bf\\u03c2\"\u001b[39m,\n",
       "  \u001b[32m\"\\u03c4\\u1f78\\u03bd\"\u001b[39m,\n",
       "  \u001b[32m\"\\u1f08\\u03c7\\u03b9\\u03bb\\u03bb\\u1f73\\u03b1\"\u001b[39m,\n",
       "  \u001b[32m\"\\u1f04\\u03bd\\u03b4\\u03c1\\u03b1\\u03c2\"\u001b[39m,\n",
       "  \u001b[32m\"\\u03bb\\u03af\\u03c3\\u03c3\\u03b5\\u03c3\\u03b8\\u03b1\\u03b9\"\u001b[39m,\n",
       "  \u001b[32m\"\\u1f14\\u03c0\\u03b5\\u03bc\\u03c8\\u03b5\\u03bd\"\u001b[39m,\n",
       "  \u001b[32m\"\\u1f00\\u03c1\\u03af\\u03c3\\u03c4\\u03bf\\u03c5\\u03c2\"\u001b[39m,\n",
       "  \u001b[32m\"\\u03a6\\u03bf\\u03af\\u03bd\\u03b9\\u03ba\\u03b1\"\u001b[39m,\n",
       "  \u001b[32m\"\\u1f48\\u03b4\\u03c5\\u03c3\\u03c3\\u1f73\\u03b1\"\u001b[39m,\n",
       "  \u001b[32m\"\\u0391\\u1f30\\u1f71\\u03bd\\u03c4\"\u001b[39m,\n",
       "  \u001b[32m\"\\u1f63\\u03c2\"\u001b[39m,\n",
       "  \u001b[32m\"\\u03bf\\u1f31\"\u001b[39m,\n",
       "  \u001b[32m\"\\u03bc\\u1f72\\u03bd\"\u001b[39m,\n",
       "  \u001b[32m\"\\u03a4\\u03c1\\u1ff6\\u03b5\\u03c2\"\u001b[39m,\n",
       "  \u001b[32m\"\\u03c6\\u03c5\\u03bb\\u03b1\\u03ba\\u1f70\\u03c2\"\u001b[39m,\n",
       "  \u001b[32m\"\\u1f14\\u03c7\\u03bf\\u03bd\"\u001b[39m,\n",
       "  \u001b[32m\"\\u03ba\\u03b1\\u03bb\\u1ff6\\u03c2\"\u001b[39m,\n",
       "  \u001b[32m\"\\u03b5\\u1f36\\u03c0\\u03b5\\u03bd\"\u001b[39m,\n",
       "  \u001b[32m\"\\u03bf\\u1f31\"\u001b[39m,\n",
       "  \u001b[32m\"\\u03bc\\u1f72\\u03bd\"\u001b[39m,\n",
       "  \u001b[32m\"\\u03b3\\u1f70\\u03c1\"\u001b[39m,\n",
       "  \u001b[32m\"\\u03a4\\u03c1\\u1ff6\\u03b5\\u03c2\"\u001b[39m,\n",
       "  \u001b[32m\"\\u03c4\\u1f70\\u03c2\"\u001b[39m,\n",
       "  \u001b[32m\"\\u03c6\\u03c5\\u03bb\\u03b1\\u03ba\\u1f70\\u03c2\"\u001b[39m,\n",
       "  \u001b[32m\"\\u03b5\\u1f36\\u03c7\\u03b5\\u03bd\"\u001b[39m,\n",
       "  \u001b[32m\"\\u1f35\\u03bd\\u03b1\"\u001b[39m,\n",
       "  \u001b[32m\"\\u03bc\\u1f74\"\u001b[39m,\n",
       "..."
      ]
     },
     "execution_count": 11,
     "metadata": {},
     "output_type": "execute_result"
    }
   ],
   "source": [
    "val words = stripped.split(\"[ \\n]+\").toVector"
   ]
  },
  {
   "cell_type": "code",
   "execution_count": 12,
   "metadata": {},
   "outputs": [
    {
     "name": "stdout",
     "output_type": "stream",
     "text": [
      "Vector(Ἡ, Ι, τῆς, Ἱλιάδος, ἐπιγράφεται, Λιτη, ὅτι, Ἀγαμέμνων, Νέστορος, συμβουλεύσαντος, προς, τὸν, Ἀχιλλέα, ἄνδρας, λίσσεσθαι, ἔπεμψεν, ἀρίστους, Φοίνικα, Ὀδυσσέα, Αἰάντ, ὣς, οἱ, μὲν, Τρῶες, φυλακὰς, ἔχον, καλῶς, εἶπεν, οἱ, μὲν, γὰρ, Τρῶες, τὰς, φυλακὰς, εἶχεν, ἵνα, μὴ, φύγωσιν, οἱ, Ἡελλήνες, δια, νυκτός, οἱ, δὲ, Ἕλλενες, εἴχοντο, ὑπο, τοῦ, δέους, θεσπεσίη, ἔχε, φύζα, φύζα, σημαίνει, τὴν, μετα, δέους, φυγὴν, ὅθεν, καὶ, φυζακινῇς, ἐλάφοισι, νῦν, δὲ, ἔκπληξις, ἀπολογεῖται, δὲ, ὅτι, ἐκ, θεῶν, ὁ, κρυόεις, δὲ, ὁ, φόβος, ὁ, ψυχρὸς, τὸ, θερμὸν, γὰρ, ἐπιλείπει, τοὺς, δεδηότας, ὅρα, δὲ, τὸ, ἀντίθετον, πῶς, ἐνι, ῥήματι, ἐδήλωσε, Τρῶες, ἔχον, Ἄχαιοὺς, εχε, πενθεϊ, δ', ατλήτω, βεβοληατο, ἔνιοι)\n"
     ]
    }
   ],
   "source": [
    "println(words.take(100))"
   ]
  },
  {
   "cell_type": "code",
   "execution_count": 13,
   "metadata": {},
   "outputs": [
    {
     "data": {
      "text/plain": [
       "\u001b[36mgrouped\u001b[39m: \u001b[32mVector\u001b[39m[(\u001b[32mString\u001b[39m, \u001b[32mVector\u001b[39m[\u001b[32mString\u001b[39m])] = \u001b[33mVector\u001b[39m(\n",
       "  (\u001b[32m\"\\u03c6\\u03bb\\u1f79\\u03be\"\u001b[39m, \u001b[33mVector\u001b[39m(\u001b[32m\"\\u03c6\\u03bb\\u1f79\\u03be\"\u001b[39m)),\n",
       "  (\n",
       "    \u001b[32m\"\\u1f10\\u03c0\\u03b9\\u03b8\\u03c5\\u03bc\\u03b5\\u1fd6\"\u001b[39m,\n",
       "    \u001b[33mVector\u001b[39m(\u001b[32m\"\\u1f10\\u03c0\\u03b9\\u03b8\\u03c5\\u03bc\\u03b5\\u1fd6\"\u001b[39m)\n",
       "  ),\n",
       "  (\n",
       "    \u001b[32m\"\\u03b1\\u1f30\\u03c4\\u03af\\u03b1\\u03bd\\u00b7\"\u001b[39m,\n",
       "    \u001b[33mVector\u001b[39m(\u001b[32m\"\\u03b1\\u1f30\\u03c4\\u03af\\u03b1\\u03bd\\u00b7\"\u001b[39m)\n",
       "  ),\n",
       "  (\n",
       "    \u001b[32m\"\\u03c4\\u1f71\\u03be\\u03b5\\u03b9\"\u001b[39m,\n",
       "    \u001b[33mVector\u001b[39m(\n",
       "      \u001b[32m\"\\u03c4\\u1f71\\u03be\\u03b5\\u03b9\"\u001b[39m,\n",
       "      \u001b[32m\"\\u03c4\\u1f71\\u03be\\u03b5\\u03b9\"\u001b[39m,\n",
       "      \u001b[32m\"\\u03c4\\u1f71\\u03be\\u03b5\\u03b9\"\u001b[39m\n",
       "    )\n",
       "  ),\n",
       "  (\n",
       "    \u001b[32m\"\\u0395\\u1f50\\u03c1\\u1f7d\\u03c0\\u03b7\\u03c2\"\u001b[39m,\n",
       "    \u001b[33mVector\u001b[39m(\u001b[32m\"\\u0395\\u1f50\\u03c1\\u1f7d\\u03c0\\u03b7\\u03c2\"\u001b[39m)\n",
       "  ),\n",
       "  (\n",
       "    \u001b[32m\"\\u1f00\\u03c1\\u03bd\\u03b5\\u1fd6\\u03c4\\u03b1\\u03b9\"\u001b[39m,\n",
       "    \u001b[33mVector\u001b[39m(\u001b[32m\"\\u1f00\\u03c1\\u03bd\\u03b5\\u1fd6\\u03c4\\u03b1\\u03b9\"\u001b[39m)\n",
       "  ),\n",
       "  (\n",
       "    \u001b[32m\"\\u03ba\\u03b9\\u03bd\\u03bf\\u1fe6\\u03bd\\u03c4\\u03bf\\u03c2\"\u001b[39m,\n",
       "    \u001b[33mVector\u001b[39m(\u001b[32m\"\\u03ba\\u03b9\\u03bd\\u03bf\\u1fe6\\u03bd\\u03c4\\u03bf\\u03c2\"\u001b[39m)\n",
       "  ),\n",
       "  (\n",
       "    \u001b[32m\"\\u03a3\\u03ba\\u1f71\\u03bd\\u03b4\\u03b5\\u03b9\\u03b1\\u03bd\"\u001b[39m,\n",
       "    \u001b[33mVector\u001b[39m(\n",
       "      \u001b[32m\"\\u03a3\\u03ba\\u1f71\\u03bd\\u03b4\\u03b5\\u03b9\\u03b1\\u03bd\"\u001b[39m,\n",
       "      \u001b[32m\"\\u03a3\\u03ba\\u1f71\\u03bd\\u03b4\\u03b5\\u03b9\\u03b1\\u03bd\"\u001b[39m\n",
       "    )\n",
       "  ),\n",
       "  (\n",
       "    \u001b[32m\"\\u1f20\\u03c0\\u03b5\\u03b9\\u03bb\\u03b7\\u03c3\\u03b5\\u03bd\"\u001b[39m,\n",
       "...\n",
       "\u001b[36mfrequencies\u001b[39m: \u001b[32mVector\u001b[39m[(\u001b[32mString\u001b[39m, \u001b[32mInt\u001b[39m)] = \u001b[33mVector\u001b[39m(\n",
       "  (\u001b[32m\"\\u03c6\\u03bb\\u1f79\\u03be\"\u001b[39m, \u001b[32m1\u001b[39m),\n",
       "  (\u001b[32m\"\\u1f10\\u03c0\\u03b9\\u03b8\\u03c5\\u03bc\\u03b5\\u1fd6\"\u001b[39m, \u001b[32m1\u001b[39m),\n",
       "  (\u001b[32m\"\\u03b1\\u1f30\\u03c4\\u03af\\u03b1\\u03bd\\u00b7\"\u001b[39m, \u001b[32m1\u001b[39m),\n",
       "  (\u001b[32m\"\\u03c4\\u1f71\\u03be\\u03b5\\u03b9\"\u001b[39m, \u001b[32m3\u001b[39m),\n",
       "  (\u001b[32m\"\\u0395\\u1f50\\u03c1\\u1f7d\\u03c0\\u03b7\\u03c2\"\u001b[39m, \u001b[32m1\u001b[39m),\n",
       "  (\u001b[32m\"\\u1f00\\u03c1\\u03bd\\u03b5\\u1fd6\\u03c4\\u03b1\\u03b9\"\u001b[39m, \u001b[32m1\u001b[39m),\n",
       "  (\u001b[32m\"\\u03ba\\u03b9\\u03bd\\u03bf\\u1fe6\\u03bd\\u03c4\\u03bf\\u03c2\"\u001b[39m, \u001b[32m1\u001b[39m),\n",
       "  (\u001b[32m\"\\u03a3\\u03ba\\u1f71\\u03bd\\u03b4\\u03b5\\u03b9\\u03b1\\u03bd\"\u001b[39m, \u001b[32m2\u001b[39m),\n",
       "  (\u001b[32m\"\\u1f20\\u03c0\\u03b5\\u03b9\\u03bb\\u03b7\\u03c3\\u03b5\\u03bd\"\u001b[39m, \u001b[32m1\u001b[39m),\n",
       "  (\u001b[32m\"\\u03bb\\u03b5\\u03b9\\u03c0\\u03bf\\u1f7b\\u03c3\\u03b7\\u03c2\"\u001b[39m, \u001b[32m1\u001b[39m),\n",
       "  (\u001b[32m\"\\u03bf\\u1f50\\u03c1\\u1fc6\\u1f71\\u03c2\"\u001b[39m, \u001b[32m1\u001b[39m),\n",
       "  (\u001b[32m\"\\u1f08\\u03b3\\u03b1\\u03bc\\u03b5\\u03bc\\u03bd\\u03c9\\u03bd\"\u001b[39m, \u001b[32m1\u001b[39m),\n",
       "  (\u001b[32m\"\\u03c0\\u1fc6\\u03be\\u03b5\"\u001b[39m, \u001b[32m1\u001b[39m),\n",
       "  (\u001b[32m\"\\u1f10\\u03c0\\u03b5\\u03bd\\u03ae\\u03bd\\u03bf\\u03b8\\u03b5\"\u001b[39m, \u001b[32m1\u001b[39m),\n",
       "  (\u001b[32m\"\\u03bb\\u03c5\\u03c0\\u03b5\\u1fd6\"\u001b[39m, \u001b[32m1\u001b[39m),\n",
       "  (\n",
       "    \u001b[32m\"\\u1f00\\u03b3\\u03b1\\u03bd\\u03b1\\u03ba\\u03c4\\u03ae\\u03c3\\u03b5\\u03c9\\u03c2\"\u001b[39m,\n",
       "    \u001b[32m1\u001b[39m\n",
       "  ),\n",
       "  (\u001b[32m\"\\u1f00\\u03bc\\u03c6\\u03bf\\u03c4\\u1f73\\u03c1\\u03bf\\u03b9\\u03c2\"\u001b[39m, \u001b[32m2\u001b[39m),\n",
       "  (\u001b[32m\"\\u03a6\\u03c5\\u03bb\\u03b5\\u03af\\u03b4\\u03b7\\u03bd\"\u001b[39m, \u001b[32m2\u001b[39m),\n",
       "  (\u001b[32m\"\\u03b5\\u03c4\\u1f73\\u03c4\\u03b1\\u03ba\\u03c4\\u03bf\"\u001b[39m, \u001b[32m1\u001b[39m),\n",
       "  (\u001b[32m\"\\u1f10\\u03bc\\u03c0\\u03bf\\u03b9\\u03b5\\u1fd6\"\u001b[39m, \u001b[32m1\u001b[39m),\n",
       "  (\u001b[32m\"\\u1f04\\u03c1\\u03c7\\u03b5\\u03c3\\u03b8\\u03b1\\u03b9\"\u001b[39m, \u001b[32m1\u001b[39m),\n",
       "  (\u001b[32m\"\\u1f34\\u03c3\\u03b7\"\u001b[39m, \u001b[32m1\u001b[39m),\n",
       "  (\n",
       "    \u001b[32m\"\\u03ba\\u03b1\\u03c1\\u03c4\\u03b5\\u03c1\\u1f7d\\u03c4\\u03b1\\u03c4\\u03bf\\u03bd\"\u001b[39m,\n",
       "    \u001b[32m1\u001b[39m\n",
       "  ),\n",
       "  (\u001b[32m\"\\u03b5\\u1f50\\u03bd\\u1fc6\\u03c2\"\u001b[39m, \u001b[32m2\u001b[39m),\n",
       "  (\u001b[32m\"\\u03c8\\u1f79\\u03c6\\u03bf\\u03c5\"\u001b[39m, \u001b[32m3\u001b[39m),\n",
       "  (\u001b[32m\"\\u1f51\\u03c0\\u03bf\\u03c3\\u03c4\\u03ba\\u03c4\\u1f73\\u03bf\\u03bd\"\u001b[39m, \u001b[32m1\u001b[39m),\n",
       "  (\u001b[32m\"\\u0398\\u03b5\\u03c3\\u03c4\\u03af\\u03bf\\u03c5\"\u001b[39m, \u001b[32m1\u001b[39m),\n",
       "  (\u001b[32m\"\\u1f1c\\u03ba\\u03c4\\u03c9\\u03c1\"\u001b[39m, \u001b[32m1\u001b[39m),\n",
       "  (\u001b[32m\"\\u03b8\\u03bf\\u1f74\\u03bd\"\u001b[39m, \u001b[32m1\u001b[39m),\n",
       "  (\u001b[32m\"\\u1f71\\u03ba\\u03c1\\u03b1\\u03c2\"\u001b[39m, \u001b[32m1\u001b[39m),\n",
       "  (\u001b[32m\"\\u1f30\\u03c3\\u03c7\\u1f7a\\u03bd\"\u001b[39m, \u001b[32m1\u001b[39m),\n",
       "  (\u001b[32m\"\\u03b5\\u1f54\\u03b4\\u03bf\\u03c5\\u03c2'\"\u001b[39m, \u001b[32m1\u001b[39m),\n",
       "..."
      ]
     },
     "execution_count": 13,
     "metadata": {},
     "output_type": "execute_result"
    }
   ],
   "source": [
    "val grouped = words.groupBy( w => w).toVector\n",
    "val frequencies = grouped.map{ case (word, wordList) => (word, wordList.size)}"
   ]
  },
  {
   "cell_type": "code",
   "execution_count": 14,
   "metadata": {},
   "outputs": [
    {
     "name": "stdout",
     "output_type": "stream",
     "text": [
      "Vector((καὶ,947), (τὸ,692), (δὲ,667), (τοῦ,527), (ὅτι,420), (γὰρ,320), (ἐν,262), (τὴν,261), (ὁ,254), (ὡς,252), (τὸν,204), (ἡ,199), (τῶν,192), (δια,159), (ἐπι,155), (οἱ,153), (τῷ,150), (τῆς,149), (οὐ,138), (μὲν,130), (δ',125), (τὰ,114), (τοῖς,113), (οὕτως,106), (εἰς,105), (ἀντι,102), (οὐκ,92), (νῦν,89), (τε,85), (ἀπο,84), (τοὺς,80), (παρα,80), (ἐκ,79), (ἐστι,78), (τῇ,77), (κατα,75), (δε,74), (πρὸς,72), (μὴ,67), (ἢ,64), (δέ,64), (γράφεται,60), (ἵνα,60), (αἱ,57), (οὖν,57), (προς,57), (λέγει,56), (οτ,55), (εἰ,55), (περι,53), (δι,50), (τὰς,47), (ἐστιν,47), (δύο,47), (τοῦτο,45), (ἀλλα,43), (κατ,42), (Ἀρίσταρχος,41), (ἐπεὶ,39), (ὃ,39), (ἠ,39), (μετα,37), (ἑξῆς,37), (μοι,33), (‡,33), (ουτ,32), (τί,30), (ε,29), (καθ,28), (διὰ,28), (αὐτὸν,28), (ὑπο,27), (γάρ,27), (διπλῆ,27), (ταῖς,27), (ἀλλ,27), (ἐπὶ,27), (ἐνθάδε,26), (εἶναι,26), (ταῦτα,26), (μέντοι,26), (ἐξ,26), (πῶς,25), (φησὶν,25), (Ζηνόδοτος,25), (πάλιν,25), (τι,25), (ἀλλ',25), (ἔστι,25), (τινὲς,25), (ὅ,25), (δεῖ,24), (οὐχ,24), (ἂν,24), (παρὰ,24), (δύναται,24), (οὐδ',24), (γε,23), (γράφει,23), (περὶ,23))\n"
     ]
    },
    {
     "data": {
      "text/plain": [
       "\u001b[36mmostToFewest\u001b[39m: \u001b[32mVector\u001b[39m[(\u001b[32mString\u001b[39m, \u001b[32mInt\u001b[39m)] = \u001b[33mVector\u001b[39m(\n",
       "  (\u001b[32m\"\\u03ba\\u03b1\\u1f76\"\u001b[39m, \u001b[32m947\u001b[39m),\n",
       "  (\u001b[32m\"\\u03c4\\u1f78\"\u001b[39m, \u001b[32m692\u001b[39m),\n",
       "  (\u001b[32m\"\\u03b4\\u1f72\"\u001b[39m, \u001b[32m667\u001b[39m),\n",
       "  (\u001b[32m\"\\u03c4\\u03bf\\u1fe6\"\u001b[39m, \u001b[32m527\u001b[39m),\n",
       "  (\u001b[32m\"\\u1f45\\u03c4\\u03b9\"\u001b[39m, \u001b[32m420\u001b[39m),\n",
       "  (\u001b[32m\"\\u03b3\\u1f70\\u03c1\"\u001b[39m, \u001b[32m320\u001b[39m),\n",
       "  (\u001b[32m\"\\u1f10\\u03bd\"\u001b[39m, \u001b[32m262\u001b[39m),\n",
       "  (\u001b[32m\"\\u03c4\\u1f74\\u03bd\"\u001b[39m, \u001b[32m261\u001b[39m),\n",
       "  (\u001b[32m\"\\u1f41\"\u001b[39m, \u001b[32m254\u001b[39m),\n",
       "  (\u001b[32m\"\\u1f61\\u03c2\"\u001b[39m, \u001b[32m252\u001b[39m),\n",
       "  (\u001b[32m\"\\u03c4\\u1f78\\u03bd\"\u001b[39m, \u001b[32m204\u001b[39m),\n",
       "  (\u001b[32m\"\\u1f21\"\u001b[39m, \u001b[32m199\u001b[39m),\n",
       "  (\u001b[32m\"\\u03c4\\u1ff6\\u03bd\"\u001b[39m, \u001b[32m192\u001b[39m),\n",
       "  (\u001b[32m\"\\u03b4\\u03b9\\u03b1\"\u001b[39m, \u001b[32m159\u001b[39m),\n",
       "  (\u001b[32m\"\\u1f10\\u03c0\\u03b9\"\u001b[39m, \u001b[32m155\u001b[39m),\n",
       "  (\u001b[32m\"\\u03bf\\u1f31\"\u001b[39m, \u001b[32m153\u001b[39m),\n",
       "  (\u001b[32m\"\\u03c4\\u1ff7\"\u001b[39m, \u001b[32m150\u001b[39m),\n",
       "  (\u001b[32m\"\\u03c4\\u1fc6\\u03c2\"\u001b[39m, \u001b[32m149\u001b[39m),\n",
       "  (\u001b[32m\"\\u03bf\\u1f50\"\u001b[39m, \u001b[32m138\u001b[39m),\n",
       "  (\u001b[32m\"\\u03bc\\u1f72\\u03bd\"\u001b[39m, \u001b[32m130\u001b[39m),\n",
       "  (\u001b[32m\"\\u03b4'\"\u001b[39m, \u001b[32m125\u001b[39m),\n",
       "  (\u001b[32m\"\\u03c4\\u1f70\"\u001b[39m, \u001b[32m114\u001b[39m),\n",
       "  (\u001b[32m\"\\u03c4\\u03bf\\u1fd6\\u03c2\"\u001b[39m, \u001b[32m113\u001b[39m),\n",
       "  (\u001b[32m\"\\u03bf\\u1f55\\u03c4\\u03c9\\u03c2\"\u001b[39m, \u001b[32m106\u001b[39m),\n",
       "  (\u001b[32m\"\\u03b5\\u1f30\\u03c2\"\u001b[39m, \u001b[32m105\u001b[39m),\n",
       "  (\u001b[32m\"\\u1f00\\u03bd\\u03c4\\u03b9\"\u001b[39m, \u001b[32m102\u001b[39m),\n",
       "  (\u001b[32m\"\\u03bf\\u1f50\\u03ba\"\u001b[39m, \u001b[32m92\u001b[39m),\n",
       "  (\u001b[32m\"\\u03bd\\u1fe6\\u03bd\"\u001b[39m, \u001b[32m89\u001b[39m),\n",
       "  (\u001b[32m\"\\u03c4\\u03b5\"\u001b[39m, \u001b[32m85\u001b[39m),\n",
       "  (\u001b[32m\"\\u1f00\\u03c0\\u03bf\"\u001b[39m, \u001b[32m84\u001b[39m),\n",
       "  (\u001b[32m\"\\u03c4\\u03bf\\u1f7a\\u03c2\"\u001b[39m, \u001b[32m80\u001b[39m),\n",
       "  (\u001b[32m\"\\u03c0\\u03b1\\u03c1\\u03b1\"\u001b[39m, \u001b[32m80\u001b[39m),\n",
       "  (\u001b[32m\"\\u1f10\\u03ba\"\u001b[39m, \u001b[32m79\u001b[39m),\n",
       "  (\u001b[32m\"\\u1f10\\u03c3\\u03c4\\u03b9\"\u001b[39m, \u001b[32m78\u001b[39m),\n",
       "  (\u001b[32m\"\\u03c4\\u1fc7\"\u001b[39m, \u001b[32m77\u001b[39m),\n",
       "  (\u001b[32m\"\\u03ba\\u03b1\\u03c4\\u03b1\"\u001b[39m, \u001b[32m75\u001b[39m),\n",
       "  (\u001b[32m\"\\u03b4\\u03b5\"\u001b[39m, \u001b[32m74\u001b[39m),\n",
       "  (\u001b[32m\"\\u03c0\\u03c1\\u1f78\\u03c2\"\u001b[39m, \u001b[32m72\u001b[39m),\n",
       "..."
      ]
     },
     "execution_count": 14,
     "metadata": {},
     "output_type": "execute_result"
    }
   ],
   "source": [
    "val mostToFewest = frequencies.sortBy{ case (w,freq) => freq }.reverse\n",
    "println(mostToFewest.take(100))"
   ]
  },
  {
   "cell_type": "code",
   "execution_count": 15,
   "metadata": {},
   "outputs": [
    {
     "name": "stdout",
     "output_type": "stream",
     "text": [
      "Vector((καὶ,947), (τὸ,692), (δὲ,667), (τοῦ,527), (ὅτι,420), (γὰρ,320), (ἐν,262), (τὴν,261), (ὁ,254), (ὡς,252), (τὸν,204), (ἡ,199), (τῶν,192), (δια,159), (ἐπι,155), (οἱ,153), (τῷ,150), (τῆς,149), (οὐ,138), (μὲν,130))\n"
     ]
    }
   ],
   "source": [
    "println(mostToFewest.take(20))"
   ]
  },
  {
   "cell_type": "code",
   "execution_count": 16,
   "metadata": {},
   "outputs": [
    {
     "data": {
      "text/plain": [
       "\u001b[36mres15\u001b[39m: \u001b[32mInt\u001b[39m = \u001b[32m2247\u001b[39m"
      ]
     },
     "execution_count": 16,
     "metadata": {},
     "output_type": "execute_result"
    }
   ],
   "source": [
    "allSchol.size"
   ]
  },
  {
   "cell_type": "code",
   "execution_count": null,
   "metadata": {},
   "outputs": [],
   "source": []
  }
 ],
 "metadata": {
  "kernelspec": {
   "display_name": "Scala (2.12)",
   "language": "scala",
   "name": "scala212"
  },
  "language_info": {
   "codemirror_mode": "text/x-scala",
   "file_extension": ".scala",
   "mimetype": "text/x-scala",
   "name": "scala",
   "nbconvert_exporter": "script",
   "version": "2.12.10"
  }
 },
 "nbformat": 4,
 "nbformat_minor": 4
}
