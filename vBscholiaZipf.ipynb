{
 "cells": [
  {
   "cell_type": "code",
   "execution_count": 1,
   "metadata": {},
   "outputs": [
    {
     "data": {
      "text/plain": [
       "\u001b[36mpersonalRepo\u001b[39m: \u001b[32mcoursierapi\u001b[39m.\u001b[32mMavenRepository\u001b[39m = MavenRepository(https://dl.bintray.com/neelsmith/maven)"
      ]
     },
     "execution_count": 1,
     "metadata": {},
     "output_type": "execute_result"
    }
   ],
   "source": [
    "val personalRepo = coursierapi.MavenRepository.of(\"https://dl.bintray.com/neelsmith/maven\")\n",
    "interp.repositories() ++= Seq(personalRepo)"
   ]
  },
  {
   "cell_type": "code",
   "execution_count": 2,
   "metadata": {},
   "outputs": [
    {
     "name": "stderr",
     "output_type": "stream",
     "text": [
      "Downloading https://repo1.maven.org/maven2/edu/holycross/shot/cite/xcite_2.12/4.3.0/xcite_2.12-4.3.0.pom\n",
      "Downloaded https://repo1.maven.org/maven2/edu/holycross/shot/cite/xcite_2.12/4.3.0/xcite_2.12-4.3.0.pom\n",
      "Downloading https://repo1.maven.org/maven2/edu/holycross/shot/cite/xcite_2.12/4.3.0/xcite_2.12-4.3.0.pom.sha1\n",
      "Downloaded https://repo1.maven.org/maven2/edu/holycross/shot/cite/xcite_2.12/4.3.0/xcite_2.12-4.3.0.pom.sha1\n",
      "Downloading https://dl.bintray.com/neelsmith/maven/edu/holycross/shot/cite/xcite_2.12/4.3.0/xcite_2.12-4.3.0.pom\n",
      "Downloaded https://dl.bintray.com/neelsmith/maven/edu/holycross/shot/cite/xcite_2.12/4.3.0/xcite_2.12-4.3.0.pom\n",
      "Downloading https://repo1.maven.org/maven2/org/wvlet/airframe/airframe-log_2.12/20.5.2/airframe-log_2.12-20.5.2.pom\n",
      "Downloaded https://repo1.maven.org/maven2/org/wvlet/airframe/airframe-log_2.12/20.5.2/airframe-log_2.12-20.5.2.pom\n",
      "Downloading https://repo1.maven.org/maven2/ch/qos/logback/logback-core/1.2.3/logback-core-1.2.3.pom\n",
      "Downloading https://repo1.maven.org/maven2/org/scala-lang/modules/scala-collection-compat_2.12/2.1.6/scala-collection-compat_2.12-2.1.6.pom\n",
      "Downloading https://repo1.maven.org/maven2/org/scala-lang/scala-library/2.12.11/scala-library-2.12.11.pom\n",
      "Downloaded https://repo1.maven.org/maven2/ch/qos/logback/logback-core/1.2.3/logback-core-1.2.3.pom\n",
      "Downloaded https://repo1.maven.org/maven2/org/scala-lang/modules/scala-collection-compat_2.12/2.1.6/scala-collection-compat_2.12-2.1.6.pom\n",
      "Downloaded https://repo1.maven.org/maven2/org/scala-lang/scala-library/2.12.11/scala-library-2.12.11.pom\n",
      "Downloading https://repo1.maven.org/maven2/ch/qos/logback/logback-parent/1.2.3/logback-parent-1.2.3.pom\n",
      "Downloaded https://repo1.maven.org/maven2/ch/qos/logback/logback-parent/1.2.3/logback-parent-1.2.3.pom\n",
      "Downloading https://repo1.maven.org/maven2/org/scala-lang/modules/scala-collection-compat_2.12/2.1.6/scala-collection-compat_2.12-2.1.6.jar\n",
      "Downloading https://repo1.maven.org/maven2/org/wvlet/airframe/airframe-log_2.12/20.5.2/airframe-log_2.12-20.5.2.jar\n",
      "Downloading https://dl.bintray.com/neelsmith/maven/edu/holycross/shot/cite/xcite_2.12/4.3.0/xcite_2.12-4.3.0-sources.jar\n",
      "Downloading https://repo1.maven.org/maven2/org/scala-lang/scala-library/2.12.11/scala-library-2.12.11-sources.jar\n",
      "Downloading https://repo1.maven.org/maven2/ch/qos/logback/logback-core/1.2.3/logback-core-1.2.3.jar\n",
      "Downloading https://dl.bintray.com/neelsmith/maven/edu/holycross/shot/cite/xcite_2.12/4.3.0/xcite_2.12-4.3.0.jar\n",
      "Downloaded https://dl.bintray.com/neelsmith/maven/edu/holycross/shot/cite/xcite_2.12/4.3.0/xcite_2.12-4.3.0.jar\n",
      "Downloading https://repo1.maven.org/maven2/org/scala-lang/modules/scala-collection-compat_2.12/2.1.6/scala-collection-compat_2.12-2.1.6-sources.jar\n",
      "Downloaded https://repo1.maven.org/maven2/org/scala-lang/modules/scala-collection-compat_2.12/2.1.6/scala-collection-compat_2.12-2.1.6.jar\n",
      "Downloading https://repo1.maven.org/maven2/org/wvlet/airframe/airframe-log_2.12/20.5.2/airframe-log_2.12-20.5.2-sources.jar\n",
      "Downloaded https://repo1.maven.org/maven2/org/wvlet/airframe/airframe-log_2.12/20.5.2/airframe-log_2.12-20.5.2.jar\n",
      "Downloading https://repo1.maven.org/maven2/ch/qos/logback/logback-core/1.2.3/logback-core-1.2.3-sources.jar\n",
      "Downloaded https://repo1.maven.org/maven2/org/wvlet/airframe/airframe-log_2.12/20.5.2/airframe-log_2.12-20.5.2-sources.jar\n",
      "Downloaded https://repo1.maven.org/maven2/org/scala-lang/modules/scala-collection-compat_2.12/2.1.6/scala-collection-compat_2.12-2.1.6-sources.jar\n",
      "Downloaded https://dl.bintray.com/neelsmith/maven/edu/holycross/shot/cite/xcite_2.12/4.3.0/xcite_2.12-4.3.0-sources.jar\n",
      "Downloaded https://repo1.maven.org/maven2/ch/qos/logback/logback-core/1.2.3/logback-core-1.2.3.jar\n",
      "Downloaded https://repo1.maven.org/maven2/org/scala-lang/scala-library/2.12.11/scala-library-2.12.11-sources.jar\n",
      "Downloaded https://repo1.maven.org/maven2/ch/qos/logback/logback-core/1.2.3/logback-core-1.2.3-sources.jar\n",
      "Downloading https://repo1.maven.org/maven2/edu/holycross/shot/ohco2_2.12/10.20.3/ohco2_2.12-10.20.3.pom\n",
      "Downloaded https://repo1.maven.org/maven2/edu/holycross/shot/ohco2_2.12/10.20.3/ohco2_2.12-10.20.3.pom\n",
      "Downloading https://repo1.maven.org/maven2/edu/holycross/shot/ohco2_2.12/10.20.3/ohco2_2.12-10.20.3.pom.sha1\n",
      "Downloaded https://repo1.maven.org/maven2/edu/holycross/shot/ohco2_2.12/10.20.3/ohco2_2.12-10.20.3.pom.sha1\n",
      "Downloading https://dl.bintray.com/neelsmith/maven/edu/holycross/shot/ohco2_2.12/10.20.3/ohco2_2.12-10.20.3.pom\n",
      "Downloaded https://dl.bintray.com/neelsmith/maven/edu/holycross/shot/ohco2_2.12/10.20.3/ohco2_2.12-10.20.3.pom\n",
      "Downloading https://repo1.maven.org/maven2/edu/holycross/shot/seqcomp_2.12/2.2.1/seqcomp_2.12-2.2.1.pom\n",
      "Downloading https://repo1.maven.org/maven2/org/scala-lang/modules/scala-xml_2.12/1.0.6/scala-xml_2.12-1.0.6.pom\n",
      "Downloading https://repo1.maven.org/maven2/edu/holycross/shot/cex_2.12/6.5.0/cex_2.12-6.5.0.pom\n",
      "Downloaded https://repo1.maven.org/maven2/edu/holycross/shot/seqcomp_2.12/2.2.1/seqcomp_2.12-2.2.1.pom\n",
      "Downloading https://repo1.maven.org/maven2/edu/holycross/shot/seqcomp_2.12/2.2.1/seqcomp_2.12-2.2.1.pom.sha1\n",
      "Downloaded https://repo1.maven.org/maven2/edu/holycross/shot/cex_2.12/6.5.0/cex_2.12-6.5.0.pom\n",
      "Downloaded https://repo1.maven.org/maven2/edu/holycross/shot/seqcomp_2.12/2.2.1/seqcomp_2.12-2.2.1.pom.sha1\n",
      "Downloading https://repo1.maven.org/maven2/edu/holycross/shot/cex_2.12/6.5.0/cex_2.12-6.5.0.pom.sha1\n",
      "Downloaded https://repo1.maven.org/maven2/org/scala-lang/modules/scala-xml_2.12/1.0.6/scala-xml_2.12-1.0.6.pom\n",
      "Downloading https://dl.bintray.com/neelsmith/maven/edu/holycross/shot/seqcomp_2.12/2.2.1/seqcomp_2.12-2.2.1.pom\n",
      "Downloaded https://repo1.maven.org/maven2/edu/holycross/shot/cex_2.12/6.5.0/cex_2.12-6.5.0.pom.sha1\n",
      "Downloading https://dl.bintray.com/neelsmith/maven/edu/holycross/shot/cex_2.12/6.5.0/cex_2.12-6.5.0.pom\n",
      "Downloaded https://dl.bintray.com/neelsmith/maven/edu/holycross/shot/seqcomp_2.12/2.2.1/seqcomp_2.12-2.2.1.pom\n",
      "Downloaded https://dl.bintray.com/neelsmith/maven/edu/holycross/shot/cex_2.12/6.5.0/cex_2.12-6.5.0.pom\n",
      "Downloading https://dl.bintray.com/neelsmith/maven/edu/holycross/shot/cex_2.12/6.5.0/cex_2.12-6.5.0-sources.jar\n",
      "Downloading https://dl.bintray.com/neelsmith/maven/edu/holycross/shot/ohco2_2.12/10.20.3/ohco2_2.12-10.20.3-sources.jar\n",
      "Downloading https://repo1.maven.org/maven2/org/scala-lang/modules/scala-xml_2.12/1.0.6/scala-xml_2.12-1.0.6.jar\n",
      "Downloading https://dl.bintray.com/neelsmith/maven/edu/holycross/shot/cex_2.12/6.5.0/cex_2.12-6.5.0.jar\n",
      "Downloading https://dl.bintray.com/neelsmith/maven/edu/holycross/shot/seqcomp_2.12/2.2.1/seqcomp_2.12-2.2.1.jar\n",
      "Downloading https://dl.bintray.com/neelsmith/maven/edu/holycross/shot/seqcomp_2.12/2.2.1/seqcomp_2.12-2.2.1-sources.jar\n",
      "Downloaded https://dl.bintray.com/neelsmith/maven/edu/holycross/shot/cex_2.12/6.5.0/cex_2.12-6.5.0-sources.jar\n",
      "Downloaded https://dl.bintray.com/neelsmith/maven/edu/holycross/shot/cex_2.12/6.5.0/cex_2.12-6.5.0.jar\n",
      "Downloading https://repo1.maven.org/maven2/org/scala-lang/modules/scala-xml_2.12/1.0.6/scala-xml_2.12-1.0.6-sources.jar\n",
      "Downloading https://dl.bintray.com/neelsmith/maven/edu/holycross/shot/ohco2_2.12/10.20.3/ohco2_2.12-10.20.3.jar\n",
      "Downloaded https://repo1.maven.org/maven2/org/scala-lang/modules/scala-xml_2.12/1.0.6/scala-xml_2.12-1.0.6.jar\n",
      "Downloaded https://repo1.maven.org/maven2/org/scala-lang/modules/scala-xml_2.12/1.0.6/scala-xml_2.12-1.0.6-sources.jar\n",
      "Downloaded https://dl.bintray.com/neelsmith/maven/edu/holycross/shot/seqcomp_2.12/2.2.1/seqcomp_2.12-2.2.1-sources.jar\n",
      "Downloaded https://dl.bintray.com/neelsmith/maven/edu/holycross/shot/seqcomp_2.12/2.2.1/seqcomp_2.12-2.2.1.jar\n",
      "Downloaded https://dl.bintray.com/neelsmith/maven/edu/holycross/shot/ohco2_2.12/10.20.3/ohco2_2.12-10.20.3.jar\n",
      "Downloaded https://dl.bintray.com/neelsmith/maven/edu/holycross/shot/ohco2_2.12/10.20.3/ohco2_2.12-10.20.3-sources.jar\n",
      "Downloading https://repo1.maven.org/maven2/edu/holycross/shot/greek_2.12/5.5.3/greek_2.12-5.5.3.pom\n",
      "Downloaded https://repo1.maven.org/maven2/edu/holycross/shot/greek_2.12/5.5.3/greek_2.12-5.5.3.pom\n",
      "Downloading https://repo1.maven.org/maven2/edu/holycross/shot/greek_2.12/5.5.3/greek_2.12-5.5.3.pom.sha1\n",
      "Downloaded https://repo1.maven.org/maven2/edu/holycross/shot/greek_2.12/5.5.3/greek_2.12-5.5.3.pom.sha1\n",
      "Downloading https://dl.bintray.com/neelsmith/maven/edu/holycross/shot/greek_2.12/5.5.3/greek_2.12-5.5.3.pom\n",
      "Downloaded https://dl.bintray.com/neelsmith/maven/edu/holycross/shot/greek_2.12/5.5.3/greek_2.12-5.5.3.pom\n",
      "Downloading https://repo1.maven.org/maven2/edu/holycross/shot/citevalidator_2.12/1.1.2/citevalidator_2.12-1.1.2.pom\n",
      "Downloading https://repo1.maven.org/maven2/edu/holycross/shot/ohco2_2.12/10.20.0/ohco2_2.12-10.20.0.pom\n",
      "Downloading https://repo1.maven.org/maven2/edu/holycross/shot/mid/orthography_2.12/2.0.0/orthography_2.12-2.0.0.pom\n",
      "Downloaded https://repo1.maven.org/maven2/edu/holycross/shot/mid/orthography_2.12/2.0.0/orthography_2.12-2.0.0.pom\n",
      "Downloading https://repo1.maven.org/maven2/edu/holycross/shot/mid/orthography_2.12/2.0.0/orthography_2.12-2.0.0.pom.sha1\n",
      "Downloading https://repo1.maven.org/maven2/edu/holycross/shot/scm_2.12/7.3.0/scm_2.12-7.3.0.pom\n",
      "Downloaded https://repo1.maven.org/maven2/edu/holycross/shot/citevalidator_2.12/1.1.2/citevalidator_2.12-1.1.2.pom\n",
      "Downloaded https://repo1.maven.org/maven2/edu/holycross/shot/ohco2_2.12/10.20.0/ohco2_2.12-10.20.0.pom\n",
      "Downloaded https://repo1.maven.org/maven2/edu/holycross/shot/mid/orthography_2.12/2.0.0/orthography_2.12-2.0.0.pom.sha1\n",
      "Downloading https://repo1.maven.org/maven2/edu/holycross/shot/citevalidator_2.12/1.1.2/citevalidator_2.12-1.1.2.pom.sha1\n",
      "Downloaded https://repo1.maven.org/maven2/edu/holycross/shot/scm_2.12/7.3.0/scm_2.12-7.3.0.pom\n",
      "Downloading https://dl.bintray.com/neelsmith/maven/edu/holycross/shot/mid/orthography_2.12/2.0.0/orthography_2.12-2.0.0.pom\n",
      "Downloading https://repo1.maven.org/maven2/edu/holycross/shot/scm_2.12/7.3.0/scm_2.12-7.3.0.pom.sha1\n",
      "Downloading https://repo1.maven.org/maven2/edu/holycross/shot/ohco2_2.12/10.20.0/ohco2_2.12-10.20.0.pom.sha1\n",
      "Downloaded https://repo1.maven.org/maven2/edu/holycross/shot/citevalidator_2.12/1.1.2/citevalidator_2.12-1.1.2.pom.sha1\n",
      "Downloaded https://repo1.maven.org/maven2/edu/holycross/shot/scm_2.12/7.3.0/scm_2.12-7.3.0.pom.sha1\n",
      "Downloading https://dl.bintray.com/neelsmith/maven/edu/holycross/shot/scm_2.12/7.3.0/scm_2.12-7.3.0.pom\n",
      "Downloading https://dl.bintray.com/neelsmith/maven/edu/holycross/shot/citevalidator_2.12/1.1.2/citevalidator_2.12-1.1.2.pom\n",
      "Downloaded https://repo1.maven.org/maven2/edu/holycross/shot/ohco2_2.12/10.20.0/ohco2_2.12-10.20.0.pom.sha1\n",
      "Downloading https://dl.bintray.com/neelsmith/maven/edu/holycross/shot/ohco2_2.12/10.20.0/ohco2_2.12-10.20.0.pom\n",
      "Downloaded https://dl.bintray.com/neelsmith/maven/edu/holycross/shot/scm_2.12/7.3.0/scm_2.12-7.3.0.pom\n",
      "Downloaded https://dl.bintray.com/neelsmith/maven/edu/holycross/shot/citevalidator_2.12/1.1.2/citevalidator_2.12-1.1.2.pom\n",
      "Downloaded https://dl.bintray.com/neelsmith/maven/edu/holycross/shot/mid/orthography_2.12/2.0.0/orthography_2.12-2.0.0.pom\n",
      "Downloaded https://dl.bintray.com/neelsmith/maven/edu/holycross/shot/ohco2_2.12/10.20.0/ohco2_2.12-10.20.0.pom\n",
      "Downloading https://repo1.maven.org/maven2/edu/holycross/shot/citebinaryimage_2.12/3.2.0/citebinaryimage_2.12-3.2.0.pom\n",
      "Downloading https://repo1.maven.org/maven2/edu/holycross/shot/citerelations_2.12/2.7.0/citerelations_2.12-2.7.0.pom\n",
      "Downloading https://repo1.maven.org/maven2/edu/holycross/shot/xmlutils_2.12/2.0.0/xmlutils_2.12-2.0.0.pom\n",
      "Downloading https://repo1.maven.org/maven2/edu/holycross/shot/citeobj_2.12/7.5.0/citeobj_2.12-7.5.0.pom\n",
      "Downloading https://repo1.maven.org/maven2/com/github/pathikrit/better-files_2.12/3.5.0/better-files_2.12-3.5.0.pom\n",
      "Downloading https://repo1.maven.org/maven2/edu/holycross/shot/dse_2.12/7.1.1/dse_2.12-7.1.1.pom\n",
      "Downloaded https://repo1.maven.org/maven2/edu/holycross/shot/citebinaryimage_2.12/3.2.0/citebinaryimage_2.12-3.2.0.pom\n",
      "Downloaded https://repo1.maven.org/maven2/edu/holycross/shot/dse_2.12/7.1.1/dse_2.12-7.1.1.pom\n",
      "Downloaded https://repo1.maven.org/maven2/edu/holycross/shot/xmlutils_2.12/2.0.0/xmlutils_2.12-2.0.0.pom\n",
      "Downloading https://repo1.maven.org/maven2/edu/holycross/shot/xmlutils_2.12/2.0.0/xmlutils_2.12-2.0.0.pom.sha1\n",
      "Downloaded https://repo1.maven.org/maven2/edu/holycross/shot/citerelations_2.12/2.7.0/citerelations_2.12-2.7.0.pom\n",
      "Downloading https://repo1.maven.org/maven2/edu/holycross/shot/dse_2.12/7.1.1/dse_2.12-7.1.1.pom.sha1\n",
      "Downloading https://repo1.maven.org/maven2/edu/holycross/shot/citerelations_2.12/2.7.0/citerelations_2.12-2.7.0.pom.sha1\n",
      "Downloading https://repo1.maven.org/maven2/edu/holycross/shot/citebinaryimage_2.12/3.2.0/citebinaryimage_2.12-3.2.0.pom.sha1\n",
      "Downloaded https://repo1.maven.org/maven2/com/github/pathikrit/better-files_2.12/3.5.0/better-files_2.12-3.5.0.pom\n",
      "Downloaded https://repo1.maven.org/maven2/edu/holycross/shot/xmlutils_2.12/2.0.0/xmlutils_2.12-2.0.0.pom.sha1\n",
      "Downloaded https://repo1.maven.org/maven2/edu/holycross/shot/dse_2.12/7.1.1/dse_2.12-7.1.1.pom.sha1\n",
      "Downloaded https://repo1.maven.org/maven2/edu/holycross/shot/citebinaryimage_2.12/3.2.0/citebinaryimage_2.12-3.2.0.pom.sha1\n",
      "Downloaded https://repo1.maven.org/maven2/edu/holycross/shot/citerelations_2.12/2.7.0/citerelations_2.12-2.7.0.pom.sha1\n",
      "Downloading https://dl.bintray.com/neelsmith/maven/edu/holycross/shot/citebinaryimage_2.12/3.2.0/citebinaryimage_2.12-3.2.0.pom\n",
      "Downloading https://dl.bintray.com/neelsmith/maven/edu/holycross/shot/citerelations_2.12/2.7.0/citerelations_2.12-2.7.0.pom\n",
      "Downloading https://dl.bintray.com/neelsmith/maven/edu/holycross/shot/xmlutils_2.12/2.0.0/xmlutils_2.12-2.0.0.pom\n",
      "Downloaded https://repo1.maven.org/maven2/edu/holycross/shot/citeobj_2.12/7.5.0/citeobj_2.12-7.5.0.pom\n",
      "Downloading https://repo1.maven.org/maven2/edu/holycross/shot/citeobj_2.12/7.5.0/citeobj_2.12-7.5.0.pom.sha1\n",
      "Downloading https://dl.bintray.com/neelsmith/maven/edu/holycross/shot/dse_2.12/7.1.1/dse_2.12-7.1.1.pom\n",
      "Downloaded https://repo1.maven.org/maven2/edu/holycross/shot/citeobj_2.12/7.5.0/citeobj_2.12-7.5.0.pom.sha1\n",
      "Downloading https://dl.bintray.com/neelsmith/maven/edu/holycross/shot/citeobj_2.12/7.5.0/citeobj_2.12-7.5.0.pom\n",
      "Downloaded https://dl.bintray.com/neelsmith/maven/edu/holycross/shot/dse_2.12/7.1.1/dse_2.12-7.1.1.pom\n",
      "Downloaded https://dl.bintray.com/neelsmith/maven/edu/holycross/shot/citerelations_2.12/2.7.0/citerelations_2.12-2.7.0.pom\n",
      "Downloaded https://dl.bintray.com/neelsmith/maven/edu/holycross/shot/citeobj_2.12/7.5.0/citeobj_2.12-7.5.0.pom\n",
      "Downloaded https://dl.bintray.com/neelsmith/maven/edu/holycross/shot/xmlutils_2.12/2.0.0/xmlutils_2.12-2.0.0.pom\n",
      "Downloaded https://dl.bintray.com/neelsmith/maven/edu/holycross/shot/citebinaryimage_2.12/3.2.0/citebinaryimage_2.12-3.2.0.pom\n",
      "Downloading https://dl.bintray.com/neelsmith/maven/edu/holycross/shot/scm_2.12/7.3.0/scm_2.12-7.3.0.jar\n",
      "Downloading https://repo1.maven.org/maven2/com/github/pathikrit/better-files_2.12/3.5.0/better-files_2.12-3.5.0.jar\n",
      "Downloading https://dl.bintray.com/neelsmith/maven/edu/holycross/shot/xmlutils_2.12/2.0.0/xmlutils_2.12-2.0.0.jar\n",
      "Downloading https://dl.bintray.com/neelsmith/maven/edu/holycross/shot/greek_2.12/5.5.3/greek_2.12-5.5.3.jar\n",
      "Downloading https://dl.bintray.com/neelsmith/maven/edu/holycross/shot/citevalidator_2.12/1.1.2/citevalidator_2.12-1.1.2.jar\n",
      "Downloading https://dl.bintray.com/neelsmith/maven/edu/holycross/shot/mid/orthography_2.12/2.0.0/orthography_2.12-2.0.0.jar\n",
      "Downloaded https://repo1.maven.org/maven2/com/github/pathikrit/better-files_2.12/3.5.0/better-files_2.12-3.5.0.jar\n",
      "Downloading https://dl.bintray.com/neelsmith/maven/edu/holycross/shot/citeobj_2.12/7.5.0/citeobj_2.12-7.5.0.jar\n",
      "Downloaded https://dl.bintray.com/neelsmith/maven/edu/holycross/shot/greek_2.12/5.5.3/greek_2.12-5.5.3.jar\n",
      "Downloading https://dl.bintray.com/neelsmith/maven/edu/holycross/shot/citebinaryimage_2.12/3.2.0/citebinaryimage_2.12-3.2.0.jar\n",
      "Downloaded https://dl.bintray.com/neelsmith/maven/edu/holycross/shot/scm_2.12/7.3.0/scm_2.12-7.3.0.jar\n",
      "Downloading https://dl.bintray.com/neelsmith/maven/edu/holycross/shot/scm_2.12/7.3.0/scm_2.12-7.3.0-sources.jar\n",
      "Downloaded https://dl.bintray.com/neelsmith/maven/edu/holycross/shot/mid/orthography_2.12/2.0.0/orthography_2.12-2.0.0.jar\n",
      "Downloading https://dl.bintray.com/neelsmith/maven/edu/holycross/shot/mid/orthography_2.12/2.0.0/orthography_2.12-2.0.0-sources.jar\n",
      "Downloaded https://dl.bintray.com/neelsmith/maven/edu/holycross/shot/scm_2.12/7.3.0/scm_2.12-7.3.0-sources.jar\n",
      "Downloading https://dl.bintray.com/neelsmith/maven/edu/holycross/shot/greek_2.12/5.5.3/greek_2.12-5.5.3-sources.jar\n",
      "Downloaded https://dl.bintray.com/neelsmith/maven/edu/holycross/shot/citebinaryimage_2.12/3.2.0/citebinaryimage_2.12-3.2.0.jar\n",
      "Downloading https://dl.bintray.com/neelsmith/maven/edu/holycross/shot/citebinaryimage_2.12/3.2.0/citebinaryimage_2.12-3.2.0-sources.jar\n",
      "Downloaded https://dl.bintray.com/neelsmith/maven/edu/holycross/shot/citebinaryimage_2.12/3.2.0/citebinaryimage_2.12-3.2.0-sources.jar\n",
      "Downloaded https://dl.bintray.com/neelsmith/maven/edu/holycross/shot/greek_2.12/5.5.3/greek_2.12-5.5.3-sources.jar\n",
      "Downloaded https://dl.bintray.com/neelsmith/maven/edu/holycross/shot/citevalidator_2.12/1.1.2/citevalidator_2.12-1.1.2.jar\n",
      "Downloaded https://dl.bintray.com/neelsmith/maven/edu/holycross/shot/mid/orthography_2.12/2.0.0/orthography_2.12-2.0.0-sources.jar\n",
      "Downloading https://dl.bintray.com/neelsmith/maven/edu/holycross/shot/citerelations_2.12/2.7.0/citerelations_2.12-2.7.0.jar\n",
      "Downloaded https://dl.bintray.com/neelsmith/maven/edu/holycross/shot/xmlutils_2.12/2.0.0/xmlutils_2.12-2.0.0.jar\n",
      "Downloading https://dl.bintray.com/neelsmith/maven/edu/holycross/shot/citeobj_2.12/7.5.0/citeobj_2.12-7.5.0-sources.jar\n",
      "Downloading https://dl.bintray.com/neelsmith/maven/edu/holycross/shot/ohco2_2.12/10.20.0/ohco2_2.12-10.20.0-sources.jar\n",
      "Downloading https://dl.bintray.com/neelsmith/maven/edu/holycross/shot/citevalidator_2.12/1.1.2/citevalidator_2.12-1.1.2-sources.jar\n",
      "Downloading https://dl.bintray.com/neelsmith/maven/edu/holycross/shot/xmlutils_2.12/2.0.0/xmlutils_2.12-2.0.0-sources.jar\n",
      "Downloaded https://dl.bintray.com/neelsmith/maven/edu/holycross/shot/citevalidator_2.12/1.1.2/citevalidator_2.12-1.1.2-sources.jar\n",
      "Downloaded https://dl.bintray.com/neelsmith/maven/edu/holycross/shot/xmlutils_2.12/2.0.0/xmlutils_2.12-2.0.0-sources.jar\n",
      "Downloaded https://dl.bintray.com/neelsmith/maven/edu/holycross/shot/ohco2_2.12/10.20.0/ohco2_2.12-10.20.0-sources.jar\n",
      "Downloading https://dl.bintray.com/neelsmith/maven/edu/holycross/shot/citerelations_2.12/2.7.0/citerelations_2.12-2.7.0-sources.jar\n",
      "Downloaded https://dl.bintray.com/neelsmith/maven/edu/holycross/shot/citeobj_2.12/7.5.0/citeobj_2.12-7.5.0-sources.jar\n",
      "Downloading https://repo1.maven.org/maven2/com/github/pathikrit/better-files_2.12/3.5.0/better-files_2.12-3.5.0-sources.jar\n",
      "Downloaded https://dl.bintray.com/neelsmith/maven/edu/holycross/shot/citerelations_2.12/2.7.0/citerelations_2.12-2.7.0.jar\n",
      "Downloading https://dl.bintray.com/neelsmith/maven/edu/holycross/shot/ohco2_2.12/10.20.0/ohco2_2.12-10.20.0.jar\n",
      "Downloading https://dl.bintray.com/neelsmith/maven/edu/holycross/shot/dse_2.12/7.1.1/dse_2.12-7.1.1.jar\n",
      "Downloading https://dl.bintray.com/neelsmith/maven/edu/holycross/shot/dse_2.12/7.1.1/dse_2.12-7.1.1-sources.jar\n",
      "Downloaded https://dl.bintray.com/neelsmith/maven/edu/holycross/shot/citerelations_2.12/2.7.0/citerelations_2.12-2.7.0-sources.jar\n",
      "Downloaded https://dl.bintray.com/neelsmith/maven/edu/holycross/shot/dse_2.12/7.1.1/dse_2.12-7.1.1.jar\n",
      "Downloaded https://dl.bintray.com/neelsmith/maven/edu/holycross/shot/dse_2.12/7.1.1/dse_2.12-7.1.1-sources.jar\n",
      "Downloaded https://repo1.maven.org/maven2/com/github/pathikrit/better-files_2.12/3.5.0/better-files_2.12-3.5.0-sources.jar\n",
      "Downloaded https://dl.bintray.com/neelsmith/maven/edu/holycross/shot/ohco2_2.12/10.20.0/ohco2_2.12-10.20.0.jar\n",
      "Downloaded https://dl.bintray.com/neelsmith/maven/edu/holycross/shot/citeobj_2.12/7.5.0/citeobj_2.12-7.5.0.jar\n",
      "Downloading https://repo1.maven.org/maven2/edu/holycross/shot/ohco2_2.12/10.19.0/ohco2_2.12-10.19.0.pom\n",
      "Downloaded https://repo1.maven.org/maven2/edu/holycross/shot/ohco2_2.12/10.19.0/ohco2_2.12-10.19.0.pom\n",
      "Downloading https://repo1.maven.org/maven2/edu/holycross/shot/ohco2_2.12/10.19.0/ohco2_2.12-10.19.0.pom.sha1\n",
      "Downloaded https://repo1.maven.org/maven2/edu/holycross/shot/ohco2_2.12/10.19.0/ohco2_2.12-10.19.0.pom.sha1\n",
      "Downloading https://dl.bintray.com/neelsmith/maven/edu/holycross/shot/ohco2_2.12/10.19.0/ohco2_2.12-10.19.0.pom\n",
      "Downloaded https://dl.bintray.com/neelsmith/maven/edu/holycross/shot/ohco2_2.12/10.19.0/ohco2_2.12-10.19.0.pom\n",
      "Downloading https://dl.bintray.com/neelsmith/maven/edu/holycross/shot/ohco2_2.12/10.19.0/ohco2_2.12-10.19.0.jar\n",
      "Downloading https://dl.bintray.com/neelsmith/maven/edu/holycross/shot/ohco2_2.12/10.19.0/ohco2_2.12-10.19.0-sources.jar\n",
      "Downloaded https://dl.bintray.com/neelsmith/maven/edu/holycross/shot/ohco2_2.12/10.19.0/ohco2_2.12-10.19.0-sources.jar\n",
      "Downloaded https://dl.bintray.com/neelsmith/maven/edu/holycross/shot/ohco2_2.12/10.19.0/ohco2_2.12-10.19.0.jar\n"
     ]
    },
    {
     "data": {
      "text/plain": [
       "\u001b[32mimport \u001b[39m\u001b[36m$ivy.$                                     \n",
       "\u001b[39m\n",
       "\u001b[32mimport \u001b[39m\u001b[36m$ivy.$                                  \n",
       "\u001b[39m\n",
       "\u001b[32mimport \u001b[39m\u001b[36m$ivy.$                                \n",
       "\u001b[39m\n",
       "\u001b[32mimport \u001b[39m\u001b[36m$ivy.$                                          \u001b[39m"
      ]
     },
     "execution_count": 2,
     "metadata": {},
     "output_type": "execute_result"
    }
   ],
   "source": [
    "import $ivy.`edu.holycross.shot.cite::xcite:4.3.0`\n",
    "import $ivy.`edu.holycross.shot::ohco2:10.20.3`\n",
    "import $ivy.`edu.holycross.shot::greek:5.5.3`\n",
    "import $ivy.`edu.holycross.shot.mid::orthography:2.0.0`"
   ]
  },
  {
   "cell_type": "code",
   "execution_count": 3,
   "metadata": {},
   "outputs": [
    {
     "data": {
      "text/plain": [
       "\u001b[32mimport \u001b[39m\u001b[36medu.holycross.shot.cite._\n",
       "\u001b[39m\n",
       "\u001b[32mimport \u001b[39m\u001b[36medu.holycross.shot.ohco2._\n",
       "\u001b[39m\n",
       "\u001b[32mimport \u001b[39m\u001b[36medu.holycross.shot.greek._\n",
       "\u001b[39m\n",
       "\u001b[32mimport \u001b[39m\u001b[36medu.holycross.shot.mid.orthography._\u001b[39m"
      ]
     },
     "execution_count": 3,
     "metadata": {},
     "output_type": "execute_result"
    }
   ],
   "source": [
    "import edu.holycross.shot.cite._\n",
    "import edu.holycross.shot.ohco2._\n",
    "import edu.holycross.shot.greek._\n",
    "import edu.holycross.shot.mid.orthography._"
   ]
  },
  {
   "cell_type": "code",
   "execution_count": 4,
   "metadata": {},
   "outputs": [
    {
     "data": {
      "text/plain": [
       "\u001b[36murlScho9\u001b[39m: \u001b[32mString\u001b[39m = \u001b[32m\"https://raw.githubusercontent.com/neelsmith/transmission-evolution/master/data/poster-data/vbscholia-9.cex\"\u001b[39m\n",
       "\u001b[36murlScho10\u001b[39m: \u001b[32mString\u001b[39m = \u001b[32m\"https://raw.githubusercontent.com/neelsmith/transmission-evolution/master/data/poster-data/vbscholia-10.cex\"\u001b[39m\n",
       "\u001b[36murlScho23\u001b[39m: \u001b[32mString\u001b[39m = \u001b[32m\"https://raw.githubusercontent.com/neelsmith/transmission-evolution/master/data/poster-data/vbscholia-23.cex\"\u001b[39m"
      ]
     },
     "execution_count": 4,
     "metadata": {},
     "output_type": "execute_result"
    }
   ],
   "source": [
    "val urlScho9 = \"https://raw.githubusercontent.com/neelsmith/transmission-evolution/master/data/poster-data/vbscholia-9.cex\"\n",
    "val urlScho10 = \"https://raw.githubusercontent.com/neelsmith/transmission-evolution/master/data/poster-data/vbscholia-10.cex\"\n",
    "val urlScho23 = \"https://raw.githubusercontent.com/neelsmith/transmission-evolution/master/data/poster-data/vbscholia-23.cex\"\n"
   ]
  },
  {
   "cell_type": "code",
   "execution_count": 5,
   "metadata": {},
   "outputs": [
    {
     "data": {
      "text/plain": [
       "\u001b[36mscholia9\u001b[39m: \u001b[32mCorpus\u001b[39m = \u001b[33mCorpus\u001b[39m(\n",
       "  \u001b[33mVector\u001b[39m(\n",
       "    \u001b[33mCitableNode\u001b[39m(\n",
       "      \u001b[33mCtsUrn\u001b[39m(\u001b[32m\"urn:cts:greekLit:tlg5026.msB.hmt:9.msB_114v_1.lemma\"\u001b[39m),\n",
       "      \u001b[32m\"\\u03b1\"\u001b[39m\n",
       "    ),\n",
       "    \u001b[33mCitableNode\u001b[39m(\n",
       "      \u001b[33mCtsUrn\u001b[39m(\u001b[32m\"urn:cts:greekLit:tlg5026.msB.hmt:9.msB_114v_1.comment\"\u001b[39m),\n",
       "      \u001b[32m\"\\u03bb\\u03b9\\u03c4\\u1f70\\u03c2 \\u03bc\\u1f72\\u03bd \\u03c4\\u1f74\\u03bd \\u1fe4\\u03b1\\u03c8\\u1ff3\\u03b4\\u03af\\u03b1\\u03bd \\u03ba\\u03b1\\u03bb\\u03bf\\u1fe6\\u03c3\\u03b9\\u03bd~ \\u1f10\\u03c0\\u03b5\\u03b9 \\u03b4\\u1f74 \\u03b4\\u03b5 \\u03bf\\u1f31 \\u03a4\\u03c1\\u1ff6\\u03b5\\u03c2 \\u1f10\\u03ba \\u03c0\\u03b1\\u03c1\\u03b1\\u03b4\\u1f79\\u03be\\u03bf\\u03c5 \\u03bd\\u03b9\\u03ba\\u1ff6\\u03c3\\u03b9 \\u03b2\\u1f73\\u03bb\\u03b5\\u03c3\\u03b9 \\u0394\\u03b9\\u1f78\\u03c2 \\u03bf\\u1f50\\u03ba \\u03bf\\u1f30\\u03ba\\u03b5\\u03af\\u1fb3 \\u03b4\\u03c5\\u03bd\\u1f71\\u03bc\\u03b5\\u03b9 , \\u03c0\\u03b1\\u03bd\\u03c4\\u1f76 \\u03c0\\u1f79\\u03bd\\u1ff3 \\u03c4\\u1f74\\u03bd \\u03c4\\u03c5\\u03c7\\u03ae\\u03bd \\u03c6\\u03c5\\u03bb\\u03bb\\u1f71\\u03c4\\u03bf\\u03c5\\u03c3\\u03b9 \\u03c0\\u03b1\\u03c1\\u03b5\\u03bc\\u03b2\\u03bf\\u03bb\\u1f74\\u03bd \\u1f10\\u03c0\\u1f76 \\u03c4\\u1ff7 \\u03bd\\u03b1\\u03c5\\u03c3\\u03c4\\u1f71\\u03b8\\u03bc\\u1ff3 \\u03c0\\u03bf\\u03b9\\u03bf\\u1f7b\\u03bc\\u03b5\\u03bd\\u03bf\\u03b9~ \\u03c4\\u03bf\\u1fd6\\u03c2 \\u03b4\\u1f72 \\u1f1d\\u03bb\\u03bb\\u03b7\\u03c3\\u03b9\\u03bd \\u1f05\\u03c0\\u03b1\\u03bd\\u03c4\\u03b1 \\u03b4\\u03c5\\u03c3\\u03c7\\u03b5\\u03c1\\u1fc6~ \\u03c0\\u03c1\\u1ff6\\u03c4\\u03b1 \\u03bc\\u1f72\\u03bd \\u1f10\\u03bd \\u03ba\\u03b1\\u03b9 \\u1ff7 \\u03bc\\u1f74 \\u03c0\\u03b1\\u03c1\\u1f79\\u03bd\\u03c4\\u03bf\\u03c2 \\u1f00\\u03b3\\u03b1\\u03b8\\u03bf\\u1fe6 \\u03c3\\u03c5\\u03bc\\u03bc\\u1f71\\u03c7\\u03bf\\u03c5~ \\u03b5\\u1f36\\u03c4\\u03b1 \\u03ba\\u03b1\\u1f76 \\u03bc\\u03b5\\u03c4\\u1f70 \\u03c0\\u03b1\\u03c1\\u1f71\\u03b2\\u03b1\\u03c3\\u03b9\\u03bd \\u03c4\\u03bf\\u03c3\\u03bf\\u1fe6\\u03c4\\u03bf\\u03bd \\u03b5\\u1f50\\u03c4\\u03c5\\u03c7\\u03bf\\u1f7b\\u03bd\\u03c4\\u03c9\\u03bd \\u03a4\\u03c1\\u1f7d\\u03c9\\u03bd ~ \\u03bf\\u1f31 \\u03ba\\u03b5\\u03c1\\u03b1\\u03c5\\u03bd\\u03bf\\u1f76 \\u03c4\\u03bf\\u1fe6 \\u0394\\u03af\\u03bf\\u03c2 ~ \\u03bc\\u1f71\\u03bb\\u03b9\\u03c3\\u03c4\\u03b1 \\u03b4\\u1f72 \\u03c0\\u1f71\\u03bd\\u03c4\\u03c9\\u03bd \\u1f41 \\u03c4\\u1f74\\u03bd \\u03b1\\u1f30\\u03c4\\u03af\\u03b1\\u03bd \\u1f14\\u03c7\\u03c9\\u03bd \\u1f08\\u03b3\\u03b1\\u03bc\\u1f73\\u03bc\\u03bd\\u03c9\\u03bd \\u1f04\\u03c7\\u03b8\\u03b5\\u03c4\\u03b1\\u03b9~ \\u1f45\\u03c4' \\u1f02\\u03bd \\u03b4\\u1f72 \\u1f04\\u03bb\\u03bb\\u03c9\\u03bd \\u03c0\\u03c1\\u03b1\\u03b3\\u03bc\\u1f71\\u03c4\\u03c9\\u03bd \\u1f04\\u03c1\\u03c7\\u03b5\\u03c3\\u03b8\\u03b1\\u03b9 \\u03bc\\u1f73\\u03bb\\u03bb\\u1fc3\\u0323 , \\u1f61\\u03c2 \\u03bf\\u1f31 \\u03bd\\u1f79\\u03bc\\u03b9\\u03bc\\u03bf\\u03b9 \\u03c4\\u1ff6\\u03bd \\u1f31\\u03c3\\u03c4\\u03bf\\u03c1\\u03b9\\u03bf\\u03b3\\u03c1\\u1f71\\u03c6\\u03c9\\u03bd~ \\u03c0\\u03b1\\u03c1\\u03b1\\u03b3\\u03c1\\u03b1\\u03c6\\u1f70\\u03c2 \\u1f10\\u03bc\\u03b2\\u1f71\\u03bb\\u03bb\\u03b5\\u03b9~ \\u03bc\\u03b\u001b[39m...\n",
       "\u001b[36mscholia10\u001b[39m: \u001b[32mCorpus\u001b[39m = \u001b[33mCorpus\u001b[39m(\n",
       "  \u001b[33mVector\u001b[39m(\n",
       "    \u001b[33mCitableNode\u001b[39m(\n",
       "      \u001b[33mCtsUrn\u001b[39m(\u001b[32m\"urn:cts:greekLit:tlg5026.msB.hmt:10.129r_1\"\u001b[39m),\n",
       "      \u001b[32m\"\\u03b8 urn : cts : greekLit : tlg0012 . tlg001 . msB : 10 . 1 \\u03bf\\u1f31 \\u03b3\\u1f70\\u03c1 \\u03c6\\u1f7b\\u03bb\\u03b1\\u03ba\\u03b5\\u03c2 , \\u1f14\\u03be\\u03c9 \\u03bd\\u03b5\\u1ff6\\u03bd \\u1f26\\u03c3\\u03b1\\u03bd \\u03ba\\u03bf\\u03b9\\u03bc\\u1f7d\\u03bc\\u03b5\\u03bd\\u03bf\\u03b9 \\u2051\"\u001b[39m\n",
       "    ),\n",
       "    \u001b[33mCitableNode\u001b[39m(\n",
       "      \u001b[33mCtsUrn\u001b[39m(\u001b[32m\"urn:cts:greekLit:tlg5026.msB.hmt:10.129r_2\"\u001b[39m),\n",
       "      \u001b[32m\"\\u03b9 urn : cts : greekLit : tlg0012 . tlg001 . msB : 10 . 2 \\u03c4\\u1ff6\\u03b9 \\u03c0\\u1f71\\u03bd\\u03c4\\u03b1\\u03c2 \\u03bc\\u03b1\\u03bb\\u1f71\\u03c3\\u03c4\\u03bf\\u03bd\\u03c4\\u03b9~ \\u1f45\\u03b8\\u03b5\\u03bd \\u03ba\\u03b1\\u1f76 \\u03c0\\u03b1\\u03bd\\u03b4\\u1f71\\u03bc\\u03b1\\u03c4\\u03c9\\u03c1 \\u03ba\\u03b1\\u03bb\\u03b5\\u1fd6\\u03c4\\u03b1\\u1f76 \\u2051\"\u001b[39m\n",
       "    ),\n",
       "    \u001b[33mCitableNode\u001b[39m(\n",
       "      \u001b[33mCtsUrn\u001b[39m(\u001b[32m\"urn:cts:greekLit:tlg5026.msB.hmt:10.129v_1\"\u001b[39m),\n",
       "      \u001b[32m\"\\u03b1 urn : cts : greekLit : tlg0012 . tlg001 . msB : 10 . 3 \\u1f00\\u03b3\\u03c1\\u03c5\\u03c0\\u03bd\\u03b5\\u1fd6 \\u1f41 \\u03c3\\u03c4\\u03c1\\u03b1\\u03c4\\u03b7\\u03b3\\u1f79\\u03c2~ \\u03c0\\u03c1\\u1ff6\\u03c4\\u03b1 \\u03bc\\u1f72\\u03bd , \\u1f45\\u03c4\\u03b9 \\u03bf\\u1f50 \\u03c7\\u03c1\\u1f74 \\u03c0\\u03b1\\u03bd\\u03bd\\u1f7b\\u03c7\\u03b9\\u03bf\\u03bd \\u03b5\\u1f55\\u03b4\\u03b5\\u03b9\\u03bd \\u03b2\\u03bf\\u03c5\\u03bb\\u03b7\\u03c6\\u1f79\\u03c1\\u03bf\\u03bd \\u1f04\\u03bd\\u03b4\\u03c1\\u03b1 ~ \\u03c4\\u1f70 \\u03bc\\u1f72\\u03bd \\u03b3\\u1f70\\u03c1 \\u1f04\\u03bb\\u03bb\\u03b1 , \\u03c4\\u1fc6\\u03c2 \\u03c4\\u1f7b\\u03c7\\u03b7\\u03c2~ \\u03c4\\u03bf\\u1fe6 \\u03b4\\u1f72 \\u1f00\\u03bc\\u03b5\\u03bb\\u03b5\\u1fd6\\u03bd \\u1f21 \\u03b1\\u1f30\\u03c4\\u03af\\u03b1 \\u1f00\\u03c0\\u03b1\\u03c1\\u03b1\\u03af\\u03c4\\u03b7\\u03c4\\u03bf\\u03c2 \\u03c4\\u03bf\\u1fd6\\u03c2 \\u03c3\\u03c4\\u03c1\\u03b1\\u03c4\\u03b7\\u03b3\\u03bf\\u1fd6\\u03c2~ \\u03ba\\u03b1\\u1f76 \\u1f45\\u03c4\\u03b9 \\u03c4\\u03bf\\u1f7a\\u03c2 \\u03c0\\u03c1\\u1f7d\\u03b7\\u03bd \\u03c0\\u03bf\\u03bb\\u03b9\\u03bf\\u03c1\\u03ba\\u03bf\\u03c5\\u03bc\\u1f73\\u03bd\\u03bf\\u03c5\\u03c2 , \\u1f41\\u03c1\\u1fb7 \\u03c0\\u03bf\\u03bb\\u03b9\\u03bf\\u03c1\\u03ba\\u03bf\\u1fe6\\u03bd\\u03c4\\u03b1\\u03c2~ \\u03ba\\u03b1\\u1f76 \\u1f45\\u03c4\\u03b9 \\u1f21 \\u03b5\\u1f30\\u03c2 \\u1f08\\u03c7\\u03b9\\u03bb\\u03bb\\u1f73\\u03b1 \\u1f10\\u03bb\\u03c0\\u1f76\\u03c2 \\u1f10\\u03be\\u03b5\\u03ba\\u1f73\\u03ba\\u03bf\\u03c0\\u03c4\\u03bf , \\u1f27\\u03c2 \\u03bc\\u1f71\\u03bb\\u03b9\\u03c3\\u03c4\\u03b1 \\u03c4\\u1f74\\u03bd \\u03b1\\u1f30\\u03c4\\u03af\\u03b1\\u03bd \\u03b5\\u1f36\\u03c7\\u03b5\\u03bd~ \\u03c0\\u03bf\\u03bb\\u03bb\\u1ff6\\u03bd \\u03b4\\u1f72 \\u03ba\\u03b1\\u03c4\\u1f70 \\u03c4\\u1f74\\u03bd \\u03c0\\u0\u001b[39m...\n",
       "\u001b[36mscholia23\u001b[39m: \u001b[32mCorpus\u001b[39m = \u001b[33mCorpus\u001b[39m(\n",
       "  \u001b[33mVector\u001b[39m(\n",
       "    \u001b[33mCitableNode\u001b[39m(\n",
       "      \u001b[33mCtsUrn\u001b[39m(\u001b[32m\"urn:cts:greekLit:tlg5026.msB.hmt:23.msB_303r_4.lemma\"\u001b[39m),\n",
       "      \u001b[32m\"\\u03b9\\u03b6\"\u001b[39m\n",
       "    ),\n",
       "    \u001b[33mCitableNode\u001b[39m(\n",
       "      \u001b[33mCtsUrn\u001b[39m(\u001b[32m\"urn:cts:greekLit:tlg5026.msB.hmt:23.msB_303r_4.comment\"\u001b[39m),\n",
       "      \u001b[32m\"\\u03bd\\u1fc6\\u03b1\\u03c2 \\u03c4\\u1f78\\u03bd \\u03c4\\u1f79\\u03c0\\u03bf\\u03bd \\u03c4\\u1ff6\\u03bd \\u03bd\\u03b7\\u1ff6\\u03bd~ \\u1f19\\u03bb\\u03bb\\u03ae\\u03c3\\u03c0\\u03bf\\u03bd\\u03c4\\u03bf\\u03bd \\u03b4\\u1f72 , \\u03c4\\u1f74\\u03bd \\u03bc\\u1f73\\u03c7\\u03c1\\u03b9 \\u03a3\\u03b9\\u03b3\\u03b5\\u03af\\u03bf\\u03c5 \\u03b8\\u1f71\\u03bb\\u03b1\\u03c3\\u03c3\\u03b1\\u03bd \\u2051\"\u001b[39m\n",
       "    ),\n",
       "    \u001b[33mCitableNode\u001b[39m(\n",
       "      \u001b[33mCtsUrn\u001b[39m(\u001b[32m\"urn:cts:greekLit:tlg5026.msB.hmt:23.msB_303r_5.lemma\"\u001b[39m),\n",
       "      \u001b[32m\"\\u03b9\\u03b7\"\u001b[39m\n",
       "    ),\n",
       "    \u001b[33mCitableNode\u001b[39m(\n",
       "      \u001b[33mCtsUrn\u001b[39m(\u001b[32m\"urn:cts:greekLit:tlg5026.msB.hmt:23.msB_303r_5.comment\"\u001b[39m),\n",
       "      \u001b[32m\"\\u1f00\\u03c0' \\u1f00\\u03bb\\u03bb\\u03ae\\u03bb\\u03c9\\u03bd \\u1f10\\u03c7\\u03c9\\u03c1\\u03af\\u03b6\\u03bf\\u03bd\\u03c4\\u03bf \\u2051\"\u001b[39m\n",
       "    ),\n",
       "    \u001b[33mCitableNode\u001b[39m(\n",
       "      \u001b[33mCtsUrn\u001b[39m(\u001b[32m\"urn:cts:greekLit:tlg5026.msB.hmt:23.msB_303r_6.lemma\"\u001b[39m),\n",
       "      \u001b[32m\"\\u03b9\\u03b8\"\u001b[39m\n",
       "    ),\n",
       "    \u001b[33mCitableNode\u001b[39m(\n",
       "      \u001b[33mCtsUrn\u001b[39m(\u001b[32m\"urn:cts:greekLit:tlg5026.msB.hmt:23.msB_303r_6.comment\"\u001b[39m),\n",
       "      \u001b[32m\"\\u1f00\\u03c0' \\u03b1\\u1f50\\u03c4\\u03bf\\u1fe6 \\u03c7\\u03c9\\u03c1\\u03af\\u03b6\\u03b5\\u03c3\\u03b8\\u03b1\\u03b9~ \\u1f22 \\u03c0\\u03b1\\u03c1\\u1f73\\u03bb\\u03ba\\u03b5\\u03b9 \\u1f21 \\u1f00\\u03c0\\u1f79 \\u1f61\\u03c2 \\u03c4\\u1f78 \\u1f00\\u03c7\\u03b7\\u03c4\\u03af\\u03bc\\u03b7\\u03c3\\u03b5\\u03bd \\u2051\"\u001b[39m\n",
       "    ),\n",
       "    \u001b[33mCitableNode\u001b[39m(\n",
       "      \u001b[33mCtsUrn\u001b[39m(\u001b[32m\"urn:cts:greekLit:tlg5026.msB.hmt:23.msB_303r_7.lemma\"\u001b[39m),\n",
       "      \u001b[32m\"\\u03ba\"\u001b[39m\n",
       "    ),\n",
       "    \u001b[33mCitableNode\u001b[39m(\n",
       "..."
      ]
     },
     "execution_count": 5,
     "metadata": {},
     "output_type": "execute_result"
    }
   ],
   "source": [
    "val scholia9 = CorpusSource.fromUrl(urlScho9)\n",
    "val scholia10 = CorpusSource.fromUrl(urlScho10)\n",
    "val scholia23 = CorpusSource.fromUrl(urlScho23)"
   ]
  },
  {
   "cell_type": "code",
   "execution_count": 6,
   "metadata": {},
   "outputs": [
    {
     "data": {
      "text/plain": [
       "\u001b[36mallSchol\u001b[39m: \u001b[32mCorpus\u001b[39m = \u001b[33mCorpus\u001b[39m(\n",
       "  \u001b[33mVector\u001b[39m(\n",
       "    \u001b[33mCitableNode\u001b[39m(\n",
       "      \u001b[33mCtsUrn\u001b[39m(\u001b[32m\"urn:cts:greekLit:tlg5026.msB.hmt:9.msB_114v_1.lemma\"\u001b[39m),\n",
       "      \u001b[32m\"\\u03b1\"\u001b[39m\n",
       "    ),\n",
       "    \u001b[33mCitableNode\u001b[39m(\n",
       "      \u001b[33mCtsUrn\u001b[39m(\u001b[32m\"urn:cts:greekLit:tlg5026.msB.hmt:9.msB_114v_1.comment\"\u001b[39m),\n",
       "      \u001b[32m\"\\u03bb\\u03b9\\u03c4\\u1f70\\u03c2 \\u03bc\\u1f72\\u03bd \\u03c4\\u1f74\\u03bd \\u1fe4\\u03b1\\u03c8\\u1ff3\\u03b4\\u03af\\u03b1\\u03bd \\u03ba\\u03b1\\u03bb\\u03bf\\u1fe6\\u03c3\\u03b9\\u03bd~ \\u1f10\\u03c0\\u03b5\\u03b9 \\u03b4\\u1f74 \\u03b4\\u03b5 \\u03bf\\u1f31 \\u03a4\\u03c1\\u1ff6\\u03b5\\u03c2 \\u1f10\\u03ba \\u03c0\\u03b1\\u03c1\\u03b1\\u03b4\\u1f79\\u03be\\u03bf\\u03c5 \\u03bd\\u03b9\\u03ba\\u1ff6\\u03c3\\u03b9 \\u03b2\\u1f73\\u03bb\\u03b5\\u03c3\\u03b9 \\u0394\\u03b9\\u1f78\\u03c2 \\u03bf\\u1f50\\u03ba \\u03bf\\u1f30\\u03ba\\u03b5\\u03af\\u1fb3 \\u03b4\\u03c5\\u03bd\\u1f71\\u03bc\\u03b5\\u03b9 , \\u03c0\\u03b1\\u03bd\\u03c4\\u1f76 \\u03c0\\u1f79\\u03bd\\u1ff3 \\u03c4\\u1f74\\u03bd \\u03c4\\u03c5\\u03c7\\u03ae\\u03bd \\u03c6\\u03c5\\u03bb\\u03bb\\u1f71\\u03c4\\u03bf\\u03c5\\u03c3\\u03b9 \\u03c0\\u03b1\\u03c1\\u03b5\\u03bc\\u03b2\\u03bf\\u03bb\\u1f74\\u03bd \\u1f10\\u03c0\\u1f76 \\u03c4\\u1ff7 \\u03bd\\u03b1\\u03c5\\u03c3\\u03c4\\u1f71\\u03b8\\u03bc\\u1ff3 \\u03c0\\u03bf\\u03b9\\u03bf\\u1f7b\\u03bc\\u03b5\\u03bd\\u03bf\\u03b9~ \\u03c4\\u03bf\\u1fd6\\u03c2 \\u03b4\\u1f72 \\u1f1d\\u03bb\\u03bb\\u03b7\\u03c3\\u03b9\\u03bd \\u1f05\\u03c0\\u03b1\\u03bd\\u03c4\\u03b1 \\u03b4\\u03c5\\u03c3\\u03c7\\u03b5\\u03c1\\u1fc6~ \\u03c0\\u03c1\\u1ff6\\u03c4\\u03b1 \\u03bc\\u1f72\\u03bd \\u1f10\\u03bd \\u03ba\\u03b1\\u03b9 \\u1ff7 \\u03bc\\u1f74 \\u03c0\\u03b1\\u03c1\\u1f79\\u03bd\\u03c4\\u03bf\\u03c2 \\u1f00\\u03b3\\u03b1\\u03b8\\u03bf\\u1fe6 \\u03c3\\u03c5\\u03bc\\u03bc\\u1f71\\u03c7\\u03bf\\u03c5~ \\u03b5\\u1f36\\u03c4\\u03b1 \\u03ba\\u03b1\\u1f76 \\u03bc\\u03b5\\u03c4\\u1f70 \\u03c0\\u03b1\\u03c1\\u1f71\\u03b2\\u03b1\\u03c3\\u03b9\\u03bd \\u03c4\\u03bf\\u03c3\\u03bf\\u1fe6\\u03c4\\u03bf\\u03bd \\u03b5\\u1f50\\u03c4\\u03c5\\u03c7\\u03bf\\u1f7b\\u03bd\\u03c4\\u03c9\\u03bd \\u03a4\\u03c1\\u1f7d\\u03c9\\u03bd ~ \\u03bf\\u1f31 \\u03ba\\u03b5\\u03c1\\u03b1\\u03c5\\u03bd\\u03bf\\u1f76 \\u03c4\\u03bf\\u1fe6 \\u0394\\u03af\\u03bf\\u03c2 ~ \\u03bc\\u1f71\\u03bb\\u03b9\\u03c3\\u03c4\\u03b1 \\u03b4\\u1f72 \\u03c0\\u1f71\\u03bd\\u03c4\\u03c9\\u03bd \\u1f41 \\u03c4\\u1f74\\u03bd \\u03b1\\u1f30\\u03c4\\u03af\\u03b1\\u03bd \\u1f14\\u03c7\\u03c9\\u03bd \\u1f08\\u03b3\\u03b1\\u03bc\\u1f73\\u03bc\\u03bd\\u03c9\\u03bd \\u1f04\\u03c7\\u03b8\\u03b5\\u03c4\\u03b1\\u03b9~ \\u1f45\\u03c4' \\u1f02\\u03bd \\u03b4\\u1f72 \\u1f04\\u03bb\\u03bb\\u03c9\\u03bd \\u03c0\\u03c1\\u03b1\\u03b3\\u03bc\\u1f71\\u03c4\\u03c9\\u03bd \\u1f04\\u03c1\\u03c7\\u03b5\\u03c3\\u03b8\\u03b1\\u03b9 \\u03bc\\u1f73\\u03bb\\u03bb\\u1fc3\\u0323 , \\u1f61\\u03c2 \\u03bf\\u1f31 \\u03bd\\u1f79\\u03bc\\u03b9\\u03bc\\u03bf\\u03b9 \\u03c4\\u1ff6\\u03bd \\u1f31\\u03c3\\u03c4\\u03bf\\u03c1\\u03b9\\u03bf\\u03b3\\u03c1\\u1f71\\u03c6\\u03c9\\u03bd~ \\u03c0\\u03b1\\u03c1\\u03b1\\u03b3\\u03c1\\u03b1\\u03c6\\u1f70\\u03c2 \\u1f10\\u03bc\\u03b2\\u1f71\\u03bb\\u03bb\\u03b5\\u03b9~ \\u03bc\\u03b\u001b[39m..."
      ]
     },
     "execution_count": 6,
     "metadata": {},
     "output_type": "execute_result"
    }
   ],
   "source": [
    "val allSchol = scholia9 ++ scholia10 ++ scholia23"
   ]
  },
  {
   "cell_type": "code",
   "execution_count": 7,
   "metadata": {},
   "outputs": [
    {
     "data": {
      "text/plain": [
       "\u001b[36mtextOnly\u001b[39m: \u001b[32mVector\u001b[39m[\u001b[32mString\u001b[39m] = \u001b[33mVector\u001b[39m(\n",
       "  \u001b[32m\"\\u03b1\"\u001b[39m,\n",
       "  \u001b[32m\"\\u03bb\\u03b9\\u03c4\\u1f70\\u03c2 \\u03bc\\u1f72\\u03bd \\u03c4\\u1f74\\u03bd \\u1fe4\\u03b1\\u03c8\\u1ff3\\u03b4\\u03af\\u03b1\\u03bd \\u03ba\\u03b1\\u03bb\\u03bf\\u1fe6\\u03c3\\u03b9\\u03bd~ \\u1f10\\u03c0\\u03b5\\u03b9 \\u03b4\\u1f74 \\u03b4\\u03b5 \\u03bf\\u1f31 \\u03a4\\u03c1\\u1ff6\\u03b5\\u03c2 \\u1f10\\u03ba \\u03c0\\u03b1\\u03c1\\u03b1\\u03b4\\u1f79\\u03be\\u03bf\\u03c5 \\u03bd\\u03b9\\u03ba\\u1ff6\\u03c3\\u03b9 \\u03b2\\u1f73\\u03bb\\u03b5\\u03c3\\u03b9 \\u0394\\u03b9\\u1f78\\u03c2 \\u03bf\\u1f50\\u03ba \\u03bf\\u1f30\\u03ba\\u03b5\\u03af\\u1fb3 \\u03b4\\u03c5\\u03bd\\u1f71\\u03bc\\u03b5\\u03b9 , \\u03c0\\u03b1\\u03bd\\u03c4\\u1f76 \\u03c0\\u1f79\\u03bd\\u1ff3 \\u03c4\\u1f74\\u03bd \\u03c4\\u03c5\\u03c7\\u03ae\\u03bd \\u03c6\\u03c5\\u03bb\\u03bb\\u1f71\\u03c4\\u03bf\\u03c5\\u03c3\\u03b9 \\u03c0\\u03b1\\u03c1\\u03b5\\u03bc\\u03b2\\u03bf\\u03bb\\u1f74\\u03bd \\u1f10\\u03c0\\u1f76 \\u03c4\\u1ff7 \\u03bd\\u03b1\\u03c5\\u03c3\\u03c4\\u1f71\\u03b8\\u03bc\\u1ff3 \\u03c0\\u03bf\\u03b9\\u03bf\\u1f7b\\u03bc\\u03b5\\u03bd\\u03bf\\u03b9~ \\u03c4\\u03bf\\u1fd6\\u03c2 \\u03b4\\u1f72 \\u1f1d\\u03bb\\u03bb\\u03b7\\u03c3\\u03b9\\u03bd \\u1f05\\u03c0\\u03b1\\u03bd\\u03c4\\u03b1 \\u03b4\\u03c5\\u03c3\\u03c7\\u03b5\\u03c1\\u1fc6~ \\u03c0\\u03c1\\u1ff6\\u03c4\\u03b1 \\u03bc\\u1f72\\u03bd \\u1f10\\u03bd \\u03ba\\u03b1\\u03b9 \\u1ff7 \\u03bc\\u1f74 \\u03c0\\u03b1\\u03c1\\u1f79\\u03bd\\u03c4\\u03bf\\u03c2 \\u1f00\\u03b3\\u03b1\\u03b8\\u03bf\\u1fe6 \\u03c3\\u03c5\\u03bc\\u03bc\\u1f71\\u03c7\\u03bf\\u03c5~ \\u03b5\\u1f36\\u03c4\\u03b1 \\u03ba\\u03b1\\u1f76 \\u03bc\\u03b5\\u03c4\\u1f70 \\u03c0\\u03b1\\u03c1\\u1f71\\u03b2\\u03b1\\u03c3\\u03b9\\u03bd \\u03c4\\u03bf\\u03c3\\u03bf\\u1fe6\\u03c4\\u03bf\\u03bd \\u03b5\\u1f50\\u03c4\\u03c5\\u03c7\\u03bf\\u1f7b\\u03bd\\u03c4\\u03c9\\u03bd \\u03a4\\u03c1\\u1f7d\\u03c9\\u03bd ~ \\u03bf\\u1f31 \\u03ba\\u03b5\\u03c1\\u03b1\\u03c5\\u03bd\\u03bf\\u1f76 \\u03c4\\u03bf\\u1fe6 \\u0394\\u03af\\u03bf\\u03c2 ~ \\u03bc\\u1f71\\u03bb\\u03b9\\u03c3\\u03c4\\u03b1 \\u03b4\\u1f72 \\u03c0\\u1f71\\u03bd\\u03c4\\u03c9\\u03bd \\u1f41 \\u03c4\\u1f74\\u03bd \\u03b1\\u1f30\\u03c4\\u03af\\u03b1\\u03bd \\u1f14\\u03c7\\u03c9\\u03bd \\u1f08\\u03b3\\u03b1\\u03bc\\u1f73\\u03bc\\u03bd\\u03c9\\u03bd \\u1f04\\u03c7\\u03b8\\u03b5\\u03c4\\u03b1\\u03b9~ \\u1f45\\u03c4' \\u1f02\\u03bd \\u03b4\\u1f72 \\u1f04\\u03bb\\u03bb\\u03c9\\u03bd \\u03c0\\u03c1\\u03b1\\u03b3\\u03bc\\u1f71\\u03c4\\u03c9\\u03bd \\u1f04\\u03c1\\u03c7\\u03b5\\u03c3\\u03b8\\u03b1\\u03b9 \\u03bc\\u1f73\\u03bb\\u03bb\\u1fc3\\u0323 , \\u1f61\\u03c2 \\u03bf\\u1f31 \\u03bd\\u1f79\\u03bc\\u03b9\\u03bc\\u03bf\\u03b9 \\u03c4\\u1ff6\\u03bd \\u1f31\\u03c3\\u03c4\\u03bf\\u03c1\\u03b9\\u03bf\\u03b3\\u03c1\\u1f71\\u03c6\\u03c9\\u03bd~ \\u03c0\\u03b1\\u03c1\\u03b1\\u03b3\\u03c1\\u03b1\\u03c6\\u1f70\\u03c2 \\u1f10\\u03bc\\u03b2\\u1f71\\u03bb\\u03bb\\u03b5\\u03b9~ \\u03bc\\u03b5\\u03c4\\u03b1\\u03b2\\u03b1\\u03af\\u03bd\\u03c9\\u03bd \\u03b3\\u1f70\\u03c1 \\u1f10\\u03c0\\u1f76 \\u03c4\\u1f70 \\u1f19\\u03bb\\u03bb\\u03ae\\u03bd\\u03c9\\u03bd . \\u1f00\\u03c0\\u03b5\\u03ba\\u03bf\\u03c1\\u1f7b\\u03c6\\u03c9\\u03c3\\u03b5 \\u03c4\\u1f78\\u03bd \\u03bb\\u03bf\\u03b3\\u1f78\\u03bd \\u2051\"\u001b[39m,\n",
       "  \u001b[32m\"\\u03b2\"\u001b[39m,\n",
       "  \u001b[32m\"\\u1f45\\u03c1\\u03b1 \\u03c0\\u1ff6\\u03c2 \\u03c4\\u1f78 \\u1f00\\u03bd\\u03c4\\u03af\\u\u001b[39m..."
      ]
     },
     "execution_count": 7,
     "metadata": {},
     "output_type": "execute_result"
    }
   ],
   "source": [
    "val textOnly = allSchol.nodes.map(n => n.text)"
   ]
  },
  {
   "cell_type": "code",
   "execution_count": 8,
   "metadata": {},
   "outputs": [
    {
     "name": "stdout",
     "output_type": "stream",
     "text": [
      "Vector(α, λιτὰς μὲν τὴν ῤαψῳδίαν καλοῦσιν~ ἐπει δὴ δε οἱ Τρῶες ἐκ παραδόξου νικῶσι βέλεσι Διὸς οὐκ οἰκείᾳ δυνάμει , παντὶ πόνῳ τὴν τυχήν φυλλάτουσι παρεμβολὴν ἐπὶ τῷ ναυστάθμῳ ποιούμενοι~ τοῖς δὲ Ἕλλησιν ἅπαντα δυσχερῆ~ πρῶτα μὲν ἐν και ῷ μὴ παρόντος ἀγαθοῦ συμμάχου~ εἶτα καὶ μετὰ παράβασιν τοσοῦτον εὐτυχούντων Τρώων ~ οἱ κεραυνοὶ τοῦ Δίος ~ μάλιστα δὲ πάντων ὁ τὴν αἰτίαν ἔχων Ἀγαμέμνων ἄχθεται~ ὅτ' ἂν δὲ ἄλλων πραγμάτων ἄρχεσθαι μέλλῃ̣ , ὡς οἱ νόμιμοι τῶν ἱστοριογράφων~ παραγραφὰς ἐμβάλλει~ μεταβαίνων γὰρ ἐπὶ τὰ Ἑλλήνων . ἀπεκορύφωσε τὸν λογὸν ⁑, β, ὅρα πῶς τὸ ἀντίθετον ἑνὶ ἐδήλωσε ῥήματι~ Τρῶες ἔχον~ Ἀχαιους ἔχε ⁑, γ, ἡ βουλήσει θέων προγεγενημένη~ φύζα δὲ ~ ἀεὶ μὲν ἡ μετὰ δέους φυγὴ~ ὅθεν καὶ φυζακινῇς ἐλάφοισι ~ νῦν δὲ ἔκπληξις~ ἀπολογεῖται δὲ ὅτι ἐκ θεῶν . κρύοεις δὲ~ ὁ ψυχρός ~ τὸ γὰρ θερμὸν ἐπιλείπει τοὺς δεδιότας~ ⁑, δ, οἱ μὲν ἄλλοι ἐν φυγῆι . οἱδὲ ἄριστοι ἐν πένθει~ ἀνάξιον γὰρ Ἑλληνικῶν ἀρχόντων ἡ φυγή~ μάλιστα δὲ αὐτῶν ἄπτονται αἱ συμφοραί~ καὶ γὰρ τὰς τῶν κατορθωμάτων αἰτιάς . ἐπὶ τού τοις ἀνάγομεν~ τὸ μὲν οὖν βεβολήατο ἐπὶ ψυχῆς~ τὸ δε βεβλήατο ἐπὶ σώματος ⁑, ε, καὶ γὰρ καὶ τὰ τούτους λυποῦντα διττὰ~ ἡ τῶν παρελθόντων ἔκπληξις . καὶ δέος τῶν μελλόντων~)\n"
     ]
    }
   ],
   "source": [
    "println(textOnly.take(10))"
   ]
  },
  {
   "cell_type": "code",
   "execution_count": 9,
   "metadata": {},
   "outputs": [
    {
     "data": {
      "text/plain": [
       "\u001b[36monestring\u001b[39m: \u001b[32mString\u001b[39m = \u001b[32m\"\\u03b1 \\u03bb\\u03b9\\u03c4\\u1f70\\u03c2 \\u03bc\\u1f72\\u03bd \\u03c4\\u1f74\\u03bd \\u1fe4\\u03b1\\u03c8\\u1ff3\\u03b4\\u03af\\u03b1\\u03bd \\u03ba\\u03b1\\u03bb\\u03bf\\u1fe6\\u03c3\\u03b9\\u03bd~ \\u1f10\\u03c0\\u03b5\\u03b9 \\u03b4\\u1f74 \\u03b4\\u03b5 \\u03bf\\u1f31 \\u03a4\\u03c1\\u1ff6\\u03b5\\u03c2 \\u1f10\\u03ba \\u03c0\\u03b1\\u03c1\\u03b1\\u03b4\\u1f79\\u03be\\u03bf\\u03c5 \\u03bd\\u03b9\\u03ba\\u1ff6\\u03c3\\u03b9 \\u03b2\\u1f73\\u03bb\\u03b5\\u03c3\\u03b9 \\u0394\\u03b9\\u1f78\\u03c2 \\u03bf\\u1f50\\u03ba \\u03bf\\u1f30\\u03ba\\u03b5\\u03af\\u1fb3 \\u03b4\\u03c5\\u03bd\\u1f71\\u03bc\\u03b5\\u03b9 , \\u03c0\\u03b1\\u03bd\\u03c4\\u1f76 \\u03c0\\u1f79\\u03bd\\u1ff3 \\u03c4\\u1f74\\u03bd \\u03c4\\u03c5\\u03c7\\u03ae\\u03bd \\u03c6\\u03c5\\u03bb\\u03bb\\u1f71\\u03c4\\u03bf\\u03c5\\u03c3\\u03b9 \\u03c0\\u03b1\\u03c1\\u03b5\\u03bc\\u03b2\\u03bf\\u03bb\\u1f74\\u03bd \\u1f10\\u03c0\\u1f76 \\u03c4\\u1ff7 \\u03bd\\u03b1\\u03c5\\u03c3\\u03c4\\u1f71\\u03b8\\u03bc\\u1ff3 \\u03c0\\u03bf\\u03b9\\u03bf\\u1f7b\\u03bc\\u03b5\\u03bd\\u03bf\\u03b9~ \\u03c4\\u03bf\\u1fd6\\u03c2 \\u03b4\\u1f72 \\u1f1d\\u03bb\\u03bb\\u03b7\\u03c3\\u03b9\\u03bd \\u1f05\\u03c0\\u03b1\\u03bd\\u03c4\\u03b1 \\u03b4\\u03c5\\u03c3\\u03c7\\u03b5\\u03c1\\u1fc6~ \\u03c0\\u03c1\\u1ff6\\u03c4\\u03b1 \\u03bc\\u1f72\\u03bd \\u1f10\\u03bd \\u03ba\\u03b1\\u03b9 \\u1ff7 \\u03bc\\u1f74 \\u03c0\\u03b1\\u03c1\\u1f79\\u03bd\\u03c4\\u03bf\\u03c2 \\u1f00\\u03b3\\u03b1\\u03b8\\u03bf\\u1fe6 \\u03c3\\u03c5\\u03bc\\u03bc\\u1f71\\u03c7\\u03bf\\u03c5~ \\u03b5\\u1f36\\u03c4\\u03b1 \\u03ba\\u03b1\\u1f76 \\u03bc\\u03b5\\u03c4\\u1f70 \\u03c0\\u03b1\\u03c1\\u1f71\\u03b2\\u03b1\\u03c3\\u03b9\\u03bd \\u03c4\\u03bf\\u03c3\\u03bf\\u1fe6\\u03c4\\u03bf\\u03bd \\u03b5\\u1f50\\u03c4\\u03c5\\u03c7\\u03bf\\u1f7b\\u03bd\\u03c4\\u03c9\\u03bd \\u03a4\\u03c1\\u1f7d\\u03c9\\u03bd ~ \\u03bf\\u1f31 \\u03ba\\u03b5\\u03c1\\u03b1\\u03c5\\u03bd\\u03bf\\u1f76 \\u03c4\\u03bf\\u1fe6 \\u0394\\u03af\\u03bf\\u03c2 ~ \\u03bc\\u1f71\\u03bb\\u03b9\\u03c3\\u03c4\\u03b1 \\u03b4\\u1f72 \\u03c0\\u1f71\\u03bd\\u03c4\\u03c9\\u03bd \\u1f41 \\u03c4\\u1f74\\u03bd \\u03b1\\u1f30\\u03c4\\u03af\\u03b1\\u03bd \\u1f14\\u03c7\\u03c9\\u03bd \\u1f08\\u03b3\\u03b1\\u03bc\\u1f73\\u03bc\\u03bd\\u03c9\\u03bd \\u1f04\\u03c7\\u03b8\\u03b5\\u03c4\\u03b1\\u03b9~ \\u1f45\\u03c4' \\u1f02\\u03bd \\u03b4\\u1f72 \\u1f04\\u03bb\\u03bb\\u03c9\\u03bd \\u03c0\\u03c1\\u03b1\\u03b3\\u03bc\\u1f71\\u03c4\\u03c9\\u03bd \\u1f04\\u03c1\\u03c7\\u03b5\\u03c3\\u03b8\\u03b1\\u03b9 \\u03bc\\u1f73\\u03bb\\u03bb\\u1fc3\\u0323 , \\u1f61\\u03c2 \\u03bf\\u1f31 \\u03bd\\u1f79\\u03bc\\u03b9\\u03bc\\u03bf\\u03b9 \\u03c4\\u1ff6\\u03bd \\u1f31\\u03c3\\u03c4\\u03bf\\u03c1\\u03b9\\u03bf\\u03b3\\u03c1\\u1f71\\u03c6\\u03c9\\u03bd~ \\u03c0\\u03b1\\u03c1\\u03b1\\u03b3\\u03c1\\u03b1\\u03c6\\u1f70\\u03c2 \\u1f10\\u03bc\\u03b2\\u1f71\\u03bb\\u03bb\\u03b5\\u03b9~ \\u03bc\\u03b5\\u03c4\\u03b1\\u03b2\\u03b1\\u03af\\u03bd\\u03c9\\u03bd \\u03b3\\u1f70\\u03c1 \\u1f10\\u03c0\\u1f76 \\u03c4\\u1f70 \\u1f19\\u03bb\\u03bb\\u03ae\\u03bd\\u03c9\\u03bd . \\u1f00\\u03c0\\u03b5\\u03ba\\u03bf\\u03c1\\u1f7b\\u03c6\\u03c9\\u03c3\\u03b5 \\u03c4\\u1f78\\u03bd \\u03bb\\u03bf\\u03b3\\u1f78\\u03bd \\u2051 \\u03b2 \\u1f45\\u03c1\\u03b1 \\u03c0\\u1ff6\\u03c2 \\u03c4\\u1f78 \\u1f00\\u03bd\\u03c4\\u03af\\u03b8\\u03b5\\u03c4\\u03bf\\u03bd \\u1f11\\u03bd\\u1f76 \\u1f10\\u03b4\\u03ae\\u03bb\\u03c9\\u03c3\\u03b5 \\u1fe5\\u03ae\\u03bc\\u03b1\\u03c4\\u03b9~ \\u03a4\\u03c1\\u1ff6\\u03b5\\u03c2 \\u1f14\\u03c7\\u03bf\\u03bd~ \\u1f08\\u03c7\\u03b1\\u03b9\\u03bf\\u03c5\\u03c2 \\u1f14\\u03c7\\u03b5 \\u2051 \\u03b3 \\u1f21 \\u03b2\\u03bf\\u03\u001b[39m..."
      ]
     },
     "execution_count": 9,
     "metadata": {},
     "output_type": "execute_result"
    }
   ],
   "source": [
    "val onestring = textOnly.mkString(\" \")"
   ]
  },
  {
   "cell_type": "code",
   "execution_count": 10,
   "metadata": {},
   "outputs": [
    {
     "data": {
      "text/plain": [
       "\u001b[36mstripped\u001b[39m: \u001b[32mString\u001b[39m = \u001b[32m\"\\u03b1 \\u03bb\\u03b9\\u03c4\\u1f70\\u03c2 \\u03bc\\u1f72\\u03bd \\u03c4\\u1f74\\u03bd \\u1fe4\\u03b1\\u03c8\\u1ff3\\u03b4\\u03af\\u03b1\\u03bd \\u03ba\\u03b1\\u03bb\\u03bf\\u1fe6\\u03c3\\u03b9\\u03bd \\u1f10\\u03c0\\u03b5\\u03b9 \\u03b4\\u1f74 \\u03b4\\u03b5 \\u03bf\\u1f31 \\u03a4\\u03c1\\u1ff6\\u03b5\\u03c2 \\u1f10\\u03ba \\u03c0\\u03b1\\u03c1\\u03b1\\u03b4\\u1f79\\u03be\\u03bf\\u03c5 \\u03bd\\u03b9\\u03ba\\u1ff6\\u03c3\\u03b9 \\u03b2\\u1f73\\u03bb\\u03b5\\u03c3\\u03b9 \\u0394\\u03b9\\u1f78\\u03c2 \\u03bf\\u1f50\\u03ba \\u03bf\\u1f30\\u03ba\\u03b5\\u03af\\u1fb3 \\u03b4\\u03c5\\u03bd\\u1f71\\u03bc\\u03b5\\u03b9  \\u03c0\\u03b1\\u03bd\\u03c4\\u1f76 \\u03c0\\u1f79\\u03bd\\u1ff3 \\u03c4\\u1f74\\u03bd \\u03c4\\u03c5\\u03c7\\u03ae\\u03bd \\u03c6\\u03c5\\u03bb\\u03bb\\u1f71\\u03c4\\u03bf\\u03c5\\u03c3\\u03b9 \\u03c0\\u03b1\\u03c1\\u03b5\\u03bc\\u03b2\\u03bf\\u03bb\\u1f74\\u03bd \\u1f10\\u03c0\\u1f76 \\u03c4\\u1ff7 \\u03bd\\u03b1\\u03c5\\u03c3\\u03c4\\u1f71\\u03b8\\u03bc\\u1ff3 \\u03c0\\u03bf\\u03b9\\u03bf\\u1f7b\\u03bc\\u03b5\\u03bd\\u03bf\\u03b9 \\u03c4\\u03bf\\u1fd6\\u03c2 \\u03b4\\u1f72 \\u1f1d\\u03bb\\u03bb\\u03b7\\u03c3\\u03b9\\u03bd \\u1f05\\u03c0\\u03b1\\u03bd\\u03c4\\u03b1 \\u03b4\\u03c5\\u03c3\\u03c7\\u03b5\\u03c1\\u1fc6 \\u03c0\\u03c1\\u1ff6\\u03c4\\u03b1 \\u03bc\\u1f72\\u03bd \\u1f10\\u03bd \\u03ba\\u03b1\\u03b9 \\u1ff7 \\u03bc\\u1f74 \\u03c0\\u03b1\\u03c1\\u1f79\\u03bd\\u03c4\\u03bf\\u03c2 \\u1f00\\u03b3\\u03b1\\u03b8\\u03bf\\u1fe6 \\u03c3\\u03c5\\u03bc\\u03bc\\u1f71\\u03c7\\u03bf\\u03c5 \\u03b5\\u1f36\\u03c4\\u03b1 \\u03ba\\u03b1\\u1f76 \\u03bc\\u03b5\\u03c4\\u1f70 \\u03c0\\u03b1\\u03c1\\u1f71\\u03b2\\u03b1\\u03c3\\u03b9\\u03bd \\u03c4\\u03bf\\u03c3\\u03bf\\u1fe6\\u03c4\\u03bf\\u03bd \\u03b5\\u1f50\\u03c4\\u03c5\\u03c7\\u03bf\\u1f7b\\u03bd\\u03c4\\u03c9\\u03bd \\u03a4\\u03c1\\u1f7d\\u03c9\\u03bd  \\u03bf\\u1f31 \\u03ba\\u03b5\\u03c1\\u03b1\\u03c5\\u03bd\\u03bf\\u1f76 \\u03c4\\u03bf\\u1fe6 \\u0394\\u03af\\u03bf\\u03c2  \\u03bc\\u1f71\\u03bb\\u03b9\\u03c3\\u03c4\\u03b1 \\u03b4\\u1f72 \\u03c0\\u1f71\\u03bd\\u03c4\\u03c9\\u03bd \\u1f41 \\u03c4\\u1f74\\u03bd \\u03b1\\u1f30\\u03c4\\u03af\\u03b1\\u03bd \\u1f14\\u03c7\\u03c9\\u03bd \\u1f08\\u03b3\\u03b1\\u03bc\\u1f73\\u03bc\\u03bd\\u03c9\\u03bd \\u1f04\\u03c7\\u03b8\\u03b5\\u03c4\\u03b1\\u03b9 \\u1f45\\u03c4' \\u1f02\\u03bd \\u03b4\\u1f72 \\u1f04\\u03bb\\u03bb\\u03c9\\u03bd \\u03c0\\u03c1\\u03b1\\u03b3\\u03bc\\u1f71\\u03c4\\u03c9\\u03bd \\u1f04\\u03c1\\u03c7\\u03b5\\u03c3\\u03b8\\u03b1\\u03b9 \\u03bc\\u1f73\\u03bb\\u03bb\\u1fc3\\u0323  \\u1f61\\u03c2 \\u03bf\\u1f31 \\u03bd\\u1f79\\u03bc\\u03b9\\u03bc\\u03bf\\u03b9 \\u03c4\\u1ff6\\u03bd \\u1f31\\u03c3\\u03c4\\u03bf\\u03c1\\u03b9\\u03bf\\u03b3\\u03c1\\u1f71\\u03c6\\u03c9\\u03bd \\u03c0\\u03b1\\u03c1\\u03b1\\u03b3\\u03c1\\u03b1\\u03c6\\u1f70\\u03c2 \\u1f10\\u03bc\\u03b2\\u1f71\\u03bb\\u03bb\\u03b5\\u03b9 \\u03bc\\u03b5\\u03c4\\u03b1\\u03b2\\u03b1\\u03af\\u03bd\\u03c9\\u03bd \\u03b3\\u1f70\\u03c1 \\u1f10\\u03c0\\u1f76 \\u03c4\\u1f70 \\u1f19\\u03bb\\u03bb\\u03ae\\u03bd\\u03c9\\u03bd  \\u1f00\\u03c0\\u03b5\\u03ba\\u03bf\\u03c1\\u1f7b\\u03c6\\u03c9\\u03c3\\u03b5 \\u03c4\\u1f78\\u03bd \\u03bb\\u03bf\\u03b3\\u1f78\\u03bd  \\u03b2 \\u1f45\\u03c1\\u03b1 \\u03c0\\u1ff6\\u03c2 \\u03c4\\u1f78 \\u1f00\\u03bd\\u03c4\\u03af\\u03b8\\u03b5\\u03c4\\u03bf\\u03bd \\u1f11\\u03bd\\u1f76 \\u1f10\\u03b4\\u03ae\\u03bb\\u03c9\\u03c3\\u03b5 \\u1fe5\\u03ae\\u03bc\\u03b1\\u03c4\\u03b9 \\u03a4\\u03c1\\u1ff6\\u03b5\\u03c2 \\u1f14\\u03c7\\u03bf\\u03bd \\u1f08\\u03c7\\u03b1\\u03b9\\u03bf\\u03c5\\u03c2 \\u1f14\\u03c7\\u03b5  \\u03b3 \\u1f21 \\u03b2\\u03bf\\u03c5\\u03bb\\u03ae\\u03c3\\u03b5\u001b[39m..."
      ]
     },
     "execution_count": 10,
     "metadata": {},
     "output_type": "execute_result"
    }
   ],
   "source": [
    "val stripped = onestring.replaceAll(\"[—,\\\\.~⁑;:]\", \"\")"
   ]
  },
  {
   "cell_type": "code",
   "execution_count": 11,
   "metadata": {},
   "outputs": [
    {
     "data": {
      "text/plain": [
       "\u001b[36mwords\u001b[39m: \u001b[32mVector\u001b[39m[\u001b[32mString\u001b[39m] = \u001b[33mVector\u001b[39m(\n",
       "  \u001b[32m\"\\u03b1\"\u001b[39m,\n",
       "  \u001b[32m\"\\u03bb\\u03b9\\u03c4\\u1f70\\u03c2\"\u001b[39m,\n",
       "  \u001b[32m\"\\u03bc\\u1f72\\u03bd\"\u001b[39m,\n",
       "  \u001b[32m\"\\u03c4\\u1f74\\u03bd\"\u001b[39m,\n",
       "  \u001b[32m\"\\u1fe4\\u03b1\\u03c8\\u1ff3\\u03b4\\u03af\\u03b1\\u03bd\"\u001b[39m,\n",
       "  \u001b[32m\"\\u03ba\\u03b1\\u03bb\\u03bf\\u1fe6\\u03c3\\u03b9\\u03bd\"\u001b[39m,\n",
       "  \u001b[32m\"\\u1f10\\u03c0\\u03b5\\u03b9\"\u001b[39m,\n",
       "  \u001b[32m\"\\u03b4\\u1f74\"\u001b[39m,\n",
       "  \u001b[32m\"\\u03b4\\u03b5\"\u001b[39m,\n",
       "  \u001b[32m\"\\u03bf\\u1f31\"\u001b[39m,\n",
       "  \u001b[32m\"\\u03a4\\u03c1\\u1ff6\\u03b5\\u03c2\"\u001b[39m,\n",
       "  \u001b[32m\"\\u1f10\\u03ba\"\u001b[39m,\n",
       "  \u001b[32m\"\\u03c0\\u03b1\\u03c1\\u03b1\\u03b4\\u1f79\\u03be\\u03bf\\u03c5\"\u001b[39m,\n",
       "  \u001b[32m\"\\u03bd\\u03b9\\u03ba\\u1ff6\\u03c3\\u03b9\"\u001b[39m,\n",
       "  \u001b[32m\"\\u03b2\\u1f73\\u03bb\\u03b5\\u03c3\\u03b9\"\u001b[39m,\n",
       "  \u001b[32m\"\\u0394\\u03b9\\u1f78\\u03c2\"\u001b[39m,\n",
       "  \u001b[32m\"\\u03bf\\u1f50\\u03ba\"\u001b[39m,\n",
       "  \u001b[32m\"\\u03bf\\u1f30\\u03ba\\u03b5\\u03af\\u1fb3\"\u001b[39m,\n",
       "  \u001b[32m\"\\u03b4\\u03c5\\u03bd\\u1f71\\u03bc\\u03b5\\u03b9\"\u001b[39m,\n",
       "  \u001b[32m\"\\u03c0\\u03b1\\u03bd\\u03c4\\u1f76\"\u001b[39m,\n",
       "  \u001b[32m\"\\u03c0\\u1f79\\u03bd\\u1ff3\"\u001b[39m,\n",
       "  \u001b[32m\"\\u03c4\\u1f74\\u03bd\"\u001b[39m,\n",
       "  \u001b[32m\"\\u03c4\\u03c5\\u03c7\\u03ae\\u03bd\"\u001b[39m,\n",
       "  \u001b[32m\"\\u03c6\\u03c5\\u03bb\\u03bb\\u1f71\\u03c4\\u03bf\\u03c5\\u03c3\\u03b9\"\u001b[39m,\n",
       "  \u001b[32m\"\\u03c0\\u03b1\\u03c1\\u03b5\\u03bc\\u03b2\\u03bf\\u03bb\\u1f74\\u03bd\"\u001b[39m,\n",
       "  \u001b[32m\"\\u1f10\\u03c0\\u1f76\"\u001b[39m,\n",
       "  \u001b[32m\"\\u03c4\\u1ff7\"\u001b[39m,\n",
       "  \u001b[32m\"\\u03bd\\u03b1\\u03c5\\u03c3\\u03c4\\u1f71\\u03b8\\u03bc\\u1ff3\"\u001b[39m,\n",
       "  \u001b[32m\"\\u03c0\\u03bf\\u03b9\\u03bf\\u1f7b\\u03bc\\u03b5\\u03bd\\u03bf\\u03b9\"\u001b[39m,\n",
       "  \u001b[32m\"\\u03c4\\u03bf\\u1fd6\\u03c2\"\u001b[39m,\n",
       "  \u001b[32m\"\\u03b4\\u1f72\"\u001b[39m,\n",
       "  \u001b[32m\"\\u1f1d\\u03bb\\u03bb\\u03b7\\u03c3\\u03b9\\u03bd\"\u001b[39m,\n",
       "  \u001b[32m\"\\u1f05\\u03c0\\u03b1\\u03bd\\u03c4\\u03b1\"\u001b[39m,\n",
       "  \u001b[32m\"\\u03b4\\u03c5\\u03c3\\u03c7\\u03b5\\u03c1\\u1fc6\"\u001b[39m,\n",
       "  \u001b[32m\"\\u03c0\\u03c1\\u1ff6\\u03c4\\u03b1\"\u001b[39m,\n",
       "  \u001b[32m\"\\u03bc\\u1f72\\u03bd\"\u001b[39m,\n",
       "  \u001b[32m\"\\u1f10\\u03bd\"\u001b[39m,\n",
       "  \u001b[32m\"\\u03ba\\u03b1\\u03b9\"\u001b[39m,\n",
       "..."
      ]
     },
     "execution_count": 11,
     "metadata": {},
     "output_type": "execute_result"
    }
   ],
   "source": [
    "val words = stripped.split(\"[ \\n]+\").toVector"
   ]
  },
  {
   "cell_type": "code",
   "execution_count": 12,
   "metadata": {},
   "outputs": [
    {
     "name": "stdout",
     "output_type": "stream",
     "text": [
      "Vector(α, λιτὰς, μὲν, τὴν, ῤαψῳδίαν, καλοῦσιν, ἐπει, δὴ, δε, οἱ, Τρῶες, ἐκ, παραδόξου, νικῶσι, βέλεσι, Διὸς, οὐκ, οἰκείᾳ, δυνάμει, παντὶ, πόνῳ, τὴν, τυχήν, φυλλάτουσι, παρεμβολὴν, ἐπὶ, τῷ, ναυστάθμῳ, ποιούμενοι, τοῖς, δὲ, Ἕλλησιν, ἅπαντα, δυσχερῆ, πρῶτα, μὲν, ἐν, και, ῷ, μὴ, παρόντος, ἀγαθοῦ, συμμάχου, εἶτα, καὶ, μετὰ, παράβασιν, τοσοῦτον, εὐτυχούντων, Τρώων, οἱ, κεραυνοὶ, τοῦ, Δίος, μάλιστα, δὲ, πάντων, ὁ, τὴν, αἰτίαν, ἔχων, Ἀγαμέμνων, ἄχθεται, ὅτ', ἂν, δὲ, ἄλλων, πραγμάτων, ἄρχεσθαι, μέλλῃ̣, ὡς, οἱ, νόμιμοι, τῶν, ἱστοριογράφων, παραγραφὰς, ἐμβάλλει, μεταβαίνων, γὰρ, ἐπὶ, τὰ, Ἑλλήνων, ἀπεκορύφωσε, τὸν, λογὸν, β, ὅρα, πῶς, τὸ, ἀντίθετον, ἑνὶ, ἐδήλωσε, ῥήματι, Τρῶες, ἔχον, Ἀχαιους, ἔχε, γ, ἡ, βουλήσει)\n"
     ]
    }
   ],
   "source": [
    "println(words.take(100))"
   ]
  },
  {
   "cell_type": "code",
   "execution_count": 13,
   "metadata": {},
   "outputs": [
    {
     "data": {
      "text/plain": [
       "\u001b[36mgrouped\u001b[39m: \u001b[32mVector\u001b[39m[(\u001b[32mString\u001b[39m, \u001b[32mVector\u001b[39m[\u001b[32mString\u001b[39m])] = \u001b[33mVector\u001b[39m(\n",
       "  (\n",
       "    \u001b[32m\"\\u1f10\\u03bb\\u1f7b\\u03c0\\u03b5\\u03b9\"\u001b[39m,\n",
       "    \u001b[33mVector\u001b[39m(\u001b[32m\"\\u1f10\\u03bb\\u1f7b\\u03c0\\u03b5\\u03b9\"\u001b[39m)\n",
       "  ),\n",
       "  (\n",
       "    \u001b[32m\"\\u1f10\\u03c0\\u03b9\\u03b8\\u03c5\\u03bc\\u03b5\\u1fd6\"\u001b[39m,\n",
       "    \u001b[33mVector\u001b[39m(\u001b[32m\"\\u1f10\\u03c0\\u03b9\\u03b8\\u03c5\\u03bc\\u03b5\\u1fd6\"\u001b[39m)\n",
       "  ),\n",
       "  (\u001b[32m\"\\u03c4\\u1f71\\u03be\\u03b5\\u03b9\"\u001b[39m, \u001b[33mVector\u001b[39m(\u001b[32m\"\\u03c4\\u1f71\\u03be\\u03b5\\u03b9\"\u001b[39m)),\n",
       "  (\n",
       "    \u001b[32m\"\\u03b4\\u03b9\\u03b4\\u1f71\\u03c3\\u03ba\\u03b5\\u03b9\"\u001b[39m,\n",
       "    \u001b[33mVector\u001b[39m(\n",
       "      \u001b[32m\"\\u03b4\\u03b9\\u03b4\\u1f71\\u03c3\\u03ba\\u03b5\\u03b9\"\u001b[39m,\n",
       "      \u001b[32m\"\\u03b4\\u03b9\\u03b4\\u1f71\\u03c3\\u03ba\\u03b5\\u03b9\"\u001b[39m,\n",
       "      \u001b[32m\"\\u03b4\\u03b9\\u03b4\\u1f71\\u03c3\\u03ba\\u03b5\\u03b9\"\u001b[39m,\n",
       "      \u001b[32m\"\\u03b4\\u03b9\\u03b4\\u1f71\\u03c3\\u03ba\\u03b5\\u03b9\"\u001b[39m,\n",
       "      \u001b[32m\"\\u03b4\\u03b9\\u03b4\\u1f71\\u03c3\\u03ba\\u03b5\\u03b9\"\u001b[39m\n",
       "    )\n",
       "  ),\n",
       "  (\n",
       "    \u001b[32m\"\\u1f10\\u03b8\\u03b5\\u03c1\\u1f71\\u03c0\\u03b5\\u03c5\\u03bf\\u03bd\"\u001b[39m,\n",
       "    \u001b[33mVector\u001b[39m(\u001b[32m\"\\u1f10\\u03b8\\u03b5\\u03c1\\u1f71\\u03c0\\u03b5\\u03c5\\u03bf\\u03bd\"\u001b[39m)\n",
       "  ),\n",
       "  (\n",
       "    \u001b[32m\"\\u03bb\\u03c5\\u03c0\\u03b5\\u1fd6\"\u001b[39m,\n",
       "    \u001b[33mVector\u001b[39m(\u001b[32m\"\\u03bb\\u03c5\\u03c0\\u03b5\\u1fd6\"\u001b[39m, \u001b[32m\"\\u03bb\\u03c5\\u03c0\\u03b5\\u1fd6\"\u001b[39m)\n",
       "  ),\n",
       "  (\n",
       "    \u001b[32m\"\\u1f00\\u03b3\\u03b1\\u03bd\\u03b1\\u03ba\\u03c4\\u03ae\\u03c3\\u03b5\\u03c9\\u03c2\"\u001b[39m,\n",
       "    \u001b[33mVector\u001b[39m(\n",
       "      \u001b[32m\"\\u1f00\\u03b3\\u03b1\\u03bd\\u03b1\\u03ba\\u03c4\\u03ae\\u03c3\\u03b5\\u03c9\\u03c2\"\u001b[39m\n",
       "    )\n",
       "  ),\n",
       "  (\n",
       "    \u001b[32m\"\\u03b5\\u1f30\\u03bb\\u03ae\\u03c6\\u03b5\\u03b9\"\u001b[39m,\n",
       "    \u001b[33mVector\u001b[39m(\u001b[32m\"\\u03b5\\u1f30\\u03bb\\u03ae\\u03c6\\u03b5\\u03b9\"\u001b[39m)\n",
       "  ),\n",
       "  (\n",
       "...\n",
       "\u001b[36mfrequencies\u001b[39m: \u001b[32mVector\u001b[39m[(\u001b[32mString\u001b[39m, \u001b[32mInt\u001b[39m)] = \u001b[33mVector\u001b[39m(\n",
       "  (\u001b[32m\"\\u1f10\\u03bb\\u1f7b\\u03c0\\u03b5\\u03b9\"\u001b[39m, \u001b[32m1\u001b[39m),\n",
       "  (\u001b[32m\"\\u1f10\\u03c0\\u03b9\\u03b8\\u03c5\\u03bc\\u03b5\\u1fd6\"\u001b[39m, \u001b[32m1\u001b[39m),\n",
       "  (\u001b[32m\"\\u03c4\\u1f71\\u03be\\u03b5\\u03b9\"\u001b[39m, \u001b[32m1\u001b[39m),\n",
       "  (\u001b[32m\"\\u03b4\\u03b9\\u03b4\\u1f71\\u03c3\\u03ba\\u03b5\\u03b9\"\u001b[39m, \u001b[32m5\u001b[39m),\n",
       "  (\u001b[32m\"\\u1f10\\u03b8\\u03b5\\u03c1\\u1f71\\u03c0\\u03b5\\u03c5\\u03bf\\u03bd\"\u001b[39m, \u001b[32m1\u001b[39m),\n",
       "  (\u001b[32m\"\\u03bb\\u03c5\\u03c0\\u03b5\\u1fd6\"\u001b[39m, \u001b[32m2\u001b[39m),\n",
       "  (\n",
       "    \u001b[32m\"\\u1f00\\u03b3\\u03b1\\u03bd\\u03b1\\u03ba\\u03c4\\u03ae\\u03c3\\u03b5\\u03c9\\u03c2\"\u001b[39m,\n",
       "    \u001b[32m1\u001b[39m\n",
       "  ),\n",
       "  (\u001b[32m\"\\u03b5\\u1f30\\u03bb\\u03ae\\u03c6\\u03b5\\u03b9\"\u001b[39m, \u001b[32m1\u001b[39m),\n",
       "  (\n",
       "    \u001b[32m\"\\u03c0\\u03c1\\u03bf\\u03b8\\u03c5\\u03bc\\u03bf\\u03c0\\u03bf\\u03b9\\u03b7\\u03b8\\u1fc6\\u03bd\\u03b1\\u03b9\"\u001b[39m,\n",
       "    \u001b[32m1\u001b[39m\n",
       "  ),\n",
       "  (\u001b[32m\"\\u03bf\\u1f50\\u03b4\\u03b5\\u03bd\\u1f78\\u03c2\"\u001b[39m, \u001b[32m1\u001b[39m),\n",
       "  (\u001b[32m\"\\u1f10\\u03bc\\u03c0\\u03bf\\u03b9\\u03b5\\u1fd6\"\u001b[39m, \u001b[32m1\u001b[39m),\n",
       "  (\u001b[32m\"\\u1f04\\u03c1\\u03c7\\u03b5\\u03c3\\u03b8\\u03b1\\u03b9\"\u001b[39m, \u001b[32m2\u001b[39m),\n",
       "  (\u001b[32m\"\\u03c6\\u03b5\\u1f7b\\u03b3\\u1fc3\"\u001b[39m, \u001b[32m1\u001b[39m),\n",
       "  (\u001b[32m\"\\u1f14\\u03c0\\u03b5\\u03b9\\u03c3\\u03b1\\u03c2\"\u001b[39m, \u001b[32m1\u001b[39m),\n",
       "  (\u001b[32m\"\\u03b5\\u1f36\\u03be\\u03b1\\u03b9\"\u001b[39m, \u001b[32m1\u001b[39m),\n",
       "  (\u001b[32m\"\\u1f00\\u03c0\\u03bf\\u03c5\\u03c3\\u03af\\u03b1\\u03bd\"\u001b[39m, \u001b[32m2\u001b[39m),\n",
       "  (\u001b[32m\"\\u03b5\\u1f50\\u03b7\\u03bc\\u03b5\\u03c1\\u03af\\u03b1\\u03c2\"\u001b[39m, \u001b[32m1\u001b[39m),\n",
       "  (\u001b[32m\"\\u1f51\\u03c0\\u03bf\\u03b4\\u03b5\\u03af\\u03be\\u03c9\\u03bd\"\u001b[39m, \u001b[32m1\u001b[39m),\n",
       "  (\u001b[32m\"\\u03ba\\u03b1\\u03c4\\u03bf\\u03c1\\u03b8\\u1f7d\\u03bc\\u03b1\\u03c4\\u03b1\"\u001b[39m, \u001b[32m1\u001b[39m),\n",
       "  (\u001b[32m\"\\u1f30\\u03c3\\u03c7\\u1f7a\\u03bd\"\u001b[39m, \u001b[32m1\u001b[39m),\n",
       "  (\u001b[32m\"\\u03c0\\u03b1\\u03c1\\u1f71\\u03b4\\u03b5\\u03b9\\u03b3\\u03bc\\u03b1\"\u001b[39m, \u001b[32m2\u001b[39m),\n",
       "  (\u001b[32m\"\\u1f10\\u03bd\\u03c4\\u1f73\\u03c7\\u03bd\\u03c9\\u03c2\"\u001b[39m, \u001b[32m4\u001b[39m),\n",
       "  (\u001b[32m\"\\u03c3\\u03af\\u03b1\\u03bb\\u03bf\\u03bd\"\u001b[39m, \u001b[32m1\u001b[39m),\n",
       "  (\u001b[32m\"\\u03b4\\u03c5\\u03c3\\u03c7\\u03b5\\u03c1\\u1fc6\"\u001b[39m, \u001b[32m1\u001b[39m),\n",
       "  (\u001b[32m\"\\u03c0\\u03c1\\u1f73\\u03c3\\u03b2\\u03b5\\u03b9\\u03c2\"\u001b[39m, \u001b[32m3\u001b[39m),\n",
       "  (\u001b[32m\"\\u1f00\\u03bb\\u03bb\\u03bf\\u03b9\\u03c9\\u03c4\\u03b9\\u03ba\\u1f74\\u03bd\"\u001b[39m, \u001b[32m1\u001b[39m),\n",
       "  (\u001b[32m\"\\u1f10\\u03bc\\u03b2\\u03b1\\u03bb\\u03b5\\u1fd6\\u03bd\"\u001b[39m, \u001b[32m1\u001b[39m),\n",
       "  (\u001b[32m\"\\u1f11\\u03c7\\u1fc6\\u03c2\"\u001b[39m, \u001b[32m1\u001b[39m),\n",
       "  (\u001b[32m\"\\u03b2\\u03bf\\u1ff6\\u03c3\\u03b9\\u03bd\"\u001b[39m, \u001b[32m1\u001b[39m),\n",
       "  (\u001b[32m\"\\u03ba\\u03b9\\u03bd\\u03b7\\u03b8\\u03b5\\u1f76\\u03c2\"\u001b[39m, \u001b[32m1\u001b[39m),\n",
       "  (\u001b[32m\"\\u1f24\\u03c1\\u03c4\\u03b7\\u03c4\\u03b1\\u03b9\"\u001b[39m, \u001b[32m1\u001b[39m),\n",
       "..."
      ]
     },
     "execution_count": 13,
     "metadata": {},
     "output_type": "execute_result"
    }
   ],
   "source": [
    "val grouped = words.groupBy( w => w).toVector\n",
    "val frequencies = grouped.map{ case (word, wordList) => (word, wordList.size)}"
   ]
  },
  {
   "cell_type": "code",
   "execution_count": 14,
   "metadata": {},
   "outputs": [
    {
     "name": "stdout",
     "output_type": "stream",
     "text": [
      "Vector((καὶ,479), (δὲ,473), (τὸ,382), (τὴν,202), (τοῦ,175), (γὰρ,173), (τῶν,157), (ὡς,150), (τὸν,137), (τῆς,133), (ὁ,132), (διὰ,104), (ὅτι,101), (μὴ,93), (οὐ,89), (μὲν,88), (πρὸς,87), (ἡ,81), (εἰς,72), (τοὺς,70), (οἱ,69), (ἢ,68), (10,67), (greekLit,66), (urn,66), (tlg0012,66), (tlg001,66), (cts,66), (ἐν,65), (τὰ,65), (τῷ,64), (οὐκ,63), (τοῖς,61), (ἐπὶ,60), (αὐτὸν,50), (msB,49), (περὶ,47), (αὐτοῦ,44), (φησὶ,44), (νῦν,43), (ἵνα,41), (ἀλλ',41), (εἰ,37), (τὰς,36), (αὐτῷ,36), (ἀλλὰ,36), (τῇ,36), (οὖν,34), (τοῦτο,33), (ἦν,30), (ἀντὶ,29), (παρὰ,29), (ἐκ,29), (μετὰ,28), (ταῦτα,26), (τε,26), (ἐξ,24), (β,22), (δέ,22), (η,22), (ἀπὸ,22), (ζ,21), (δεῖ,21), (ἐστιν,21), (γ,21), (δ,21), (ε,21), (φησι,20), (ι,20), (δηλοῖ,20), (α,20), (Ἀγαμέμνονος,19), (ἐστι,19), (θ,19), (δι',19), (Ἀχιλλέως,19), (ιε,18), (ιγ,18), (ἅμα,18), (ὑπὸ,18), (καλῶς,18), (ιβ,18), (ταῖς,18), (ποιεῖ,18), (κατὰ,18), (γάρ,17), (οὐδὲ,17), (ϝ,17), (ιδ,17), (Ἀχιλλέα,17), (ια,17), (οὐχ',16), (κ,16), (Ἀχιλλεὺς,16), (τι,16), (δύο,16), (λέγει,16), (ιη,16), (πῶς,15), (εὖ,15))\n"
     ]
    },
    {
     "data": {
      "text/plain": [
       "\u001b[36mmostToFewest\u001b[39m: \u001b[32mVector\u001b[39m[(\u001b[32mString\u001b[39m, \u001b[32mInt\u001b[39m)] = \u001b[33mVector\u001b[39m(\n",
       "  (\u001b[32m\"\\u03ba\\u03b1\\u1f76\"\u001b[39m, \u001b[32m479\u001b[39m),\n",
       "  (\u001b[32m\"\\u03b4\\u1f72\"\u001b[39m, \u001b[32m473\u001b[39m),\n",
       "  (\u001b[32m\"\\u03c4\\u1f78\"\u001b[39m, \u001b[32m382\u001b[39m),\n",
       "  (\u001b[32m\"\\u03c4\\u1f74\\u03bd\"\u001b[39m, \u001b[32m202\u001b[39m),\n",
       "  (\u001b[32m\"\\u03c4\\u03bf\\u1fe6\"\u001b[39m, \u001b[32m175\u001b[39m),\n",
       "  (\u001b[32m\"\\u03b3\\u1f70\\u03c1\"\u001b[39m, \u001b[32m173\u001b[39m),\n",
       "  (\u001b[32m\"\\u03c4\\u1ff6\\u03bd\"\u001b[39m, \u001b[32m157\u001b[39m),\n",
       "  (\u001b[32m\"\\u1f61\\u03c2\"\u001b[39m, \u001b[32m150\u001b[39m),\n",
       "  (\u001b[32m\"\\u03c4\\u1f78\\u03bd\"\u001b[39m, \u001b[32m137\u001b[39m),\n",
       "  (\u001b[32m\"\\u03c4\\u1fc6\\u03c2\"\u001b[39m, \u001b[32m133\u001b[39m),\n",
       "  (\u001b[32m\"\\u1f41\"\u001b[39m, \u001b[32m132\u001b[39m),\n",
       "  (\u001b[32m\"\\u03b4\\u03b9\\u1f70\"\u001b[39m, \u001b[32m104\u001b[39m),\n",
       "  (\u001b[32m\"\\u1f45\\u03c4\\u03b9\"\u001b[39m, \u001b[32m101\u001b[39m),\n",
       "  (\u001b[32m\"\\u03bc\\u1f74\"\u001b[39m, \u001b[32m93\u001b[39m),\n",
       "  (\u001b[32m\"\\u03bf\\u1f50\"\u001b[39m, \u001b[32m89\u001b[39m),\n",
       "  (\u001b[32m\"\\u03bc\\u1f72\\u03bd\"\u001b[39m, \u001b[32m88\u001b[39m),\n",
       "  (\u001b[32m\"\\u03c0\\u03c1\\u1f78\\u03c2\"\u001b[39m, \u001b[32m87\u001b[39m),\n",
       "  (\u001b[32m\"\\u1f21\"\u001b[39m, \u001b[32m81\u001b[39m),\n",
       "  (\u001b[32m\"\\u03b5\\u1f30\\u03c2\"\u001b[39m, \u001b[32m72\u001b[39m),\n",
       "  (\u001b[32m\"\\u03c4\\u03bf\\u1f7a\\u03c2\"\u001b[39m, \u001b[32m70\u001b[39m),\n",
       "  (\u001b[32m\"\\u03bf\\u1f31\"\u001b[39m, \u001b[32m69\u001b[39m),\n",
       "  (\u001b[32m\"\\u1f22\"\u001b[39m, \u001b[32m68\u001b[39m),\n",
       "  (\u001b[32m\"10\"\u001b[39m, \u001b[32m67\u001b[39m),\n",
       "  (\u001b[32m\"greekLit\"\u001b[39m, \u001b[32m66\u001b[39m),\n",
       "  (\u001b[32m\"urn\"\u001b[39m, \u001b[32m66\u001b[39m),\n",
       "  (\u001b[32m\"tlg0012\"\u001b[39m, \u001b[32m66\u001b[39m),\n",
       "  (\u001b[32m\"tlg001\"\u001b[39m, \u001b[32m66\u001b[39m),\n",
       "  (\u001b[32m\"cts\"\u001b[39m, \u001b[32m66\u001b[39m),\n",
       "  (\u001b[32m\"\\u1f10\\u03bd\"\u001b[39m, \u001b[32m65\u001b[39m),\n",
       "  (\u001b[32m\"\\u03c4\\u1f70\"\u001b[39m, \u001b[32m65\u001b[39m),\n",
       "  (\u001b[32m\"\\u03c4\\u1ff7\"\u001b[39m, \u001b[32m64\u001b[39m),\n",
       "  (\u001b[32m\"\\u03bf\\u1f50\\u03ba\"\u001b[39m, \u001b[32m63\u001b[39m),\n",
       "  (\u001b[32m\"\\u03c4\\u03bf\\u1fd6\\u03c2\"\u001b[39m, \u001b[32m61\u001b[39m),\n",
       "  (\u001b[32m\"\\u1f10\\u03c0\\u1f76\"\u001b[39m, \u001b[32m60\u001b[39m),\n",
       "  (\u001b[32m\"\\u03b1\\u1f50\\u03c4\\u1f78\\u03bd\"\u001b[39m, \u001b[32m50\u001b[39m),\n",
       "  (\u001b[32m\"msB\"\u001b[39m, \u001b[32m49\u001b[39m),\n",
       "  (\u001b[32m\"\\u03c0\\u03b5\\u03c1\\u1f76\"\u001b[39m, \u001b[32m47\u001b[39m),\n",
       "  (\u001b[32m\"\\u03b1\\u1f50\\u03c4\\u03bf\\u1fe6\"\u001b[39m, \u001b[32m44\u001b[39m),\n",
       "..."
      ]
     },
     "execution_count": 14,
     "metadata": {},
     "output_type": "execute_result"
    }
   ],
   "source": [
    "val mostToFewest = frequencies.sortBy{ case (w,freq) => freq }.reverse\n",
    "println(mostToFewest.take(100))"
   ]
  },
  {
   "cell_type": "code",
   "execution_count": 15,
   "metadata": {},
   "outputs": [
    {
     "name": "stdout",
     "output_type": "stream",
     "text": [
      "Vector((καὶ,479), (δὲ,473), (τὸ,382), (τὴν,202), (τοῦ,175), (γὰρ,173), (τῶν,157), (ὡς,150), (τὸν,137), (τῆς,133), (ὁ,132), (διὰ,104), (ὅτι,101), (μὴ,93), (οὐ,89), (μὲν,88), (πρὸς,87), (ἡ,81), (εἰς,72), (τοὺς,70))\n"
     ]
    }
   ],
   "source": [
    "println(mostToFewest.take(20))"
   ]
  },
  {
   "cell_type": "code",
   "execution_count": 16,
   "metadata": {},
   "outputs": [
    {
     "data": {
      "text/plain": [
       "\u001b[36mres15\u001b[39m: \u001b[32mInt\u001b[39m = \u001b[32m792\u001b[39m"
      ]
     },
     "execution_count": 16,
     "metadata": {},
     "output_type": "execute_result"
    }
   ],
   "source": [
    "allSchol.size"
   ]
  },
  {
   "cell_type": "code",
   "execution_count": null,
   "metadata": {},
   "outputs": [],
   "source": []
  }
 ],
 "metadata": {
  "kernelspec": {
   "display_name": "Scala (2.12)",
   "language": "scala",
   "name": "scala212"
  },
  "language_info": {
   "codemirror_mode": "text/x-scala",
   "file_extension": ".scala",
   "mimetype": "text/x-scala",
   "name": "scala",
   "nbconvert_exporter": "script",
   "version": "2.12.10"
  }
 },
 "nbformat": 4,
 "nbformat_minor": 4
}
